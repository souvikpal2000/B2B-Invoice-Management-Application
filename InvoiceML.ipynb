{
 "cells": [
  {
   "cell_type": "code",
   "execution_count": 1,
   "id": "manual-begin",
   "metadata": {},
   "outputs": [],
   "source": [
    "import pandas as pd\n",
    "import numpy as np\n",
    "import seaborn as sns\n",
    "import matplotlib.pyplot as plt\n",
    "from sklearn.model_selection import train_test_split\n",
    "import warnings\n",
    "warnings.filterwarnings('ignore')\n",
    "from sklearn.preprocessing import LabelEncoder\n",
    "import xgboost as xgb\n",
    "import sklearn.metrics as sm\n",
    "from sklearn.metrics import mean_squared_error\n",
    "from sklearn.ensemble import RandomForestRegressor\n",
    "from sklearn.tree import DecisionTreeRegressor\n",
    "from sklearn.linear_model import LinearRegression\n",
    "from sklearn.svm import SVR\n",
    "from sklearn.model_selection import RandomizedSearchCV, GridSearchCV"
   ]
  },
  {
   "cell_type": "markdown",
   "id": "tested-reference",
   "metadata": {},
   "source": [
    "# **Read CSV & store it in Dataframe**"
   ]
  },
  {
   "cell_type": "code",
   "execution_count": 2,
   "id": "plain-belly",
   "metadata": {},
   "outputs": [],
   "source": [
    "df = pd.read_csv('H2HBABBA1361.csv')"
   ]
  },
  {
   "cell_type": "markdown",
   "id": "current-bronze",
   "metadata": {},
   "source": [
    "# **Shape of the Dataframe**"
   ]
  },
  {
   "cell_type": "code",
   "execution_count": 3,
   "id": "essential-recognition",
   "metadata": {},
   "outputs": [
    {
     "data": {
      "text/plain": [
       "(50000, 19)"
      ]
     },
     "execution_count": 3,
     "metadata": {},
     "output_type": "execute_result"
    }
   ],
   "source": [
    "df.shape"
   ]
  },
  {
   "cell_type": "markdown",
   "id": "brave-promise",
   "metadata": {},
   "source": [
    "# **Display First 5 Rows of Dataframe**"
   ]
  },
  {
   "cell_type": "code",
   "execution_count": 4,
   "id": "threatened-product",
   "metadata": {},
   "outputs": [
    {
     "data": {
      "text/html": [
       "<div>\n",
       "<style scoped>\n",
       "    .dataframe tbody tr th:only-of-type {\n",
       "        vertical-align: middle;\n",
       "    }\n",
       "\n",
       "    .dataframe tbody tr th {\n",
       "        vertical-align: top;\n",
       "    }\n",
       "\n",
       "    .dataframe thead th {\n",
       "        text-align: right;\n",
       "    }\n",
       "</style>\n",
       "<table border=\"1\" class=\"dataframe\">\n",
       "  <thead>\n",
       "    <tr style=\"text-align: right;\">\n",
       "      <th></th>\n",
       "      <th>business_code</th>\n",
       "      <th>cust_number</th>\n",
       "      <th>name_customer</th>\n",
       "      <th>clear_date</th>\n",
       "      <th>buisness_year</th>\n",
       "      <th>doc_id</th>\n",
       "      <th>posting_date</th>\n",
       "      <th>document_create_date</th>\n",
       "      <th>document_create_date.1</th>\n",
       "      <th>due_in_date</th>\n",
       "      <th>invoice_currency</th>\n",
       "      <th>document type</th>\n",
       "      <th>posting_id</th>\n",
       "      <th>area_business</th>\n",
       "      <th>total_open_amount</th>\n",
       "      <th>baseline_create_date</th>\n",
       "      <th>cust_payment_terms</th>\n",
       "      <th>invoice_id</th>\n",
       "      <th>isOpen</th>\n",
       "    </tr>\n",
       "  </thead>\n",
       "  <tbody>\n",
       "    <tr>\n",
       "      <th>0</th>\n",
       "      <td>U001</td>\n",
       "      <td>0200040366</td>\n",
       "      <td>RASTEL co</td>\n",
       "      <td>2019-05-17 00:00:00</td>\n",
       "      <td>2019.0</td>\n",
       "      <td>1.929212e+09</td>\n",
       "      <td>2019-05-01</td>\n",
       "      <td>20190426</td>\n",
       "      <td>20190501</td>\n",
       "      <td>20190516.0</td>\n",
       "      <td>USD</td>\n",
       "      <td>RV</td>\n",
       "      <td>1.0</td>\n",
       "      <td>NaN</td>\n",
       "      <td>2160.31</td>\n",
       "      <td>20190501.0</td>\n",
       "      <td>NAA8</td>\n",
       "      <td>1.929212e+09</td>\n",
       "      <td>0</td>\n",
       "    </tr>\n",
       "    <tr>\n",
       "      <th>1</th>\n",
       "      <td>U001</td>\n",
       "      <td>0200707822</td>\n",
       "      <td>PUBLI us</td>\n",
       "      <td>2019-09-18 00:00:00</td>\n",
       "      <td>2019.0</td>\n",
       "      <td>1.929821e+09</td>\n",
       "      <td>2019-09-03</td>\n",
       "      <td>20190903</td>\n",
       "      <td>20190903</td>\n",
       "      <td>20190918.0</td>\n",
       "      <td>USD</td>\n",
       "      <td>RV</td>\n",
       "      <td>1.0</td>\n",
       "      <td>NaN</td>\n",
       "      <td>111586.61</td>\n",
       "      <td>20190903.0</td>\n",
       "      <td>NAA8</td>\n",
       "      <td>1.929821e+09</td>\n",
       "      <td>0</td>\n",
       "    </tr>\n",
       "    <tr>\n",
       "      <th>2</th>\n",
       "      <td>CA02</td>\n",
       "      <td>0140104409</td>\n",
       "      <td>LOB co</td>\n",
       "      <td>2019-11-22 00:00:00</td>\n",
       "      <td>2019.0</td>\n",
       "      <td>2.960593e+09</td>\n",
       "      <td>2019-11-11</td>\n",
       "      <td>20191111</td>\n",
       "      <td>20191111</td>\n",
       "      <td>20191121.0</td>\n",
       "      <td>CAD</td>\n",
       "      <td>RV</td>\n",
       "      <td>1.0</td>\n",
       "      <td>NaN</td>\n",
       "      <td>65153.44</td>\n",
       "      <td>20191111.0</td>\n",
       "      <td>CA10</td>\n",
       "      <td>2.960593e+09</td>\n",
       "      <td>0</td>\n",
       "    </tr>\n",
       "    <tr>\n",
       "      <th>3</th>\n",
       "      <td>U001</td>\n",
       "      <td>200390794</td>\n",
       "      <td>CASH-W corporation</td>\n",
       "      <td>NaN</td>\n",
       "      <td>2020.0</td>\n",
       "      <td>1.930867e+09</td>\n",
       "      <td>2020-05-06</td>\n",
       "      <td>20200506</td>\n",
       "      <td>20200506</td>\n",
       "      <td>20200521.0</td>\n",
       "      <td>USD</td>\n",
       "      <td>RV</td>\n",
       "      <td>1.0</td>\n",
       "      <td>NaN</td>\n",
       "      <td>21634.82</td>\n",
       "      <td>20200506.0</td>\n",
       "      <td>NAA8</td>\n",
       "      <td>1.930867e+09</td>\n",
       "      <td>1</td>\n",
       "    </tr>\n",
       "    <tr>\n",
       "      <th>4</th>\n",
       "      <td>U001</td>\n",
       "      <td>0200418007</td>\n",
       "      <td>AM corporation</td>\n",
       "      <td>NaN</td>\n",
       "      <td>2020.0</td>\n",
       "      <td>1.930805e+09</td>\n",
       "      <td>2020-04-22</td>\n",
       "      <td>20200420</td>\n",
       "      <td>20200422</td>\n",
       "      <td>20200626.0</td>\n",
       "      <td>USD</td>\n",
       "      <td>RV</td>\n",
       "      <td>1.0</td>\n",
       "      <td>NaN</td>\n",
       "      <td>31.56</td>\n",
       "      <td>20200422.0</td>\n",
       "      <td>NAGD</td>\n",
       "      <td>1.930805e+09</td>\n",
       "      <td>1</td>\n",
       "    </tr>\n",
       "  </tbody>\n",
       "</table>\n",
       "</div>"
      ],
      "text/plain": [
       "  business_code cust_number       name_customer           clear_date  \\\n",
       "0          U001  0200040366           RASTEL co  2019-05-17 00:00:00   \n",
       "1          U001  0200707822            PUBLI us  2019-09-18 00:00:00   \n",
       "2          CA02  0140104409              LOB co  2019-11-22 00:00:00   \n",
       "3          U001   200390794  CASH-W corporation                  NaN   \n",
       "4          U001  0200418007      AM corporation                  NaN   \n",
       "\n",
       "   buisness_year        doc_id posting_date  document_create_date  \\\n",
       "0         2019.0  1.929212e+09   2019-05-01              20190426   \n",
       "1         2019.0  1.929821e+09   2019-09-03              20190903   \n",
       "2         2019.0  2.960593e+09   2019-11-11              20191111   \n",
       "3         2020.0  1.930867e+09   2020-05-06              20200506   \n",
       "4         2020.0  1.930805e+09   2020-04-22              20200420   \n",
       "\n",
       "   document_create_date.1  due_in_date invoice_currency document type  \\\n",
       "0                20190501   20190516.0              USD            RV   \n",
       "1                20190903   20190918.0              USD            RV   \n",
       "2                20191111   20191121.0              CAD            RV   \n",
       "3                20200506   20200521.0              USD            RV   \n",
       "4                20200422   20200626.0              USD            RV   \n",
       "\n",
       "   posting_id  area_business  total_open_amount  baseline_create_date  \\\n",
       "0         1.0            NaN            2160.31            20190501.0   \n",
       "1         1.0            NaN          111586.61            20190903.0   \n",
       "2         1.0            NaN           65153.44            20191111.0   \n",
       "3         1.0            NaN           21634.82            20200506.0   \n",
       "4         1.0            NaN              31.56            20200422.0   \n",
       "\n",
       "  cust_payment_terms    invoice_id  isOpen  \n",
       "0               NAA8  1.929212e+09       0  \n",
       "1               NAA8  1.929821e+09       0  \n",
       "2               CA10  2.960593e+09       0  \n",
       "3               NAA8  1.930867e+09       1  \n",
       "4               NAGD  1.930805e+09       1  "
      ]
     },
     "execution_count": 4,
     "metadata": {},
     "output_type": "execute_result"
    }
   ],
   "source": [
    "df.head(5)"
   ]
  },
  {
   "cell_type": "markdown",
   "id": "digital-satellite",
   "metadata": {},
   "source": [
    "# **Display Last 5 Rows of Dataframe**"
   ]
  },
  {
   "cell_type": "code",
   "execution_count": 5,
   "id": "visible-repair",
   "metadata": {},
   "outputs": [
    {
     "data": {
      "text/html": [
       "<div>\n",
       "<style scoped>\n",
       "    .dataframe tbody tr th:only-of-type {\n",
       "        vertical-align: middle;\n",
       "    }\n",
       "\n",
       "    .dataframe tbody tr th {\n",
       "        vertical-align: top;\n",
       "    }\n",
       "\n",
       "    .dataframe thead th {\n",
       "        text-align: right;\n",
       "    }\n",
       "</style>\n",
       "<table border=\"1\" class=\"dataframe\">\n",
       "  <thead>\n",
       "    <tr style=\"text-align: right;\">\n",
       "      <th></th>\n",
       "      <th>business_code</th>\n",
       "      <th>cust_number</th>\n",
       "      <th>name_customer</th>\n",
       "      <th>clear_date</th>\n",
       "      <th>buisness_year</th>\n",
       "      <th>doc_id</th>\n",
       "      <th>posting_date</th>\n",
       "      <th>document_create_date</th>\n",
       "      <th>document_create_date.1</th>\n",
       "      <th>due_in_date</th>\n",
       "      <th>invoice_currency</th>\n",
       "      <th>document type</th>\n",
       "      <th>posting_id</th>\n",
       "      <th>area_business</th>\n",
       "      <th>total_open_amount</th>\n",
       "      <th>baseline_create_date</th>\n",
       "      <th>cust_payment_terms</th>\n",
       "      <th>invoice_id</th>\n",
       "      <th>isOpen</th>\n",
       "    </tr>\n",
       "  </thead>\n",
       "  <tbody>\n",
       "    <tr>\n",
       "      <th>49995</th>\n",
       "      <td>U001</td>\n",
       "      <td>0200875006</td>\n",
       "      <td>KROGER associates</td>\n",
       "      <td>2019-04-26 00:00:00</td>\n",
       "      <td>2019.0</td>\n",
       "      <td>1.929136e+09</td>\n",
       "      <td>2019-04-11</td>\n",
       "      <td>20190412</td>\n",
       "      <td>20190411</td>\n",
       "      <td>20190426.0</td>\n",
       "      <td>USD</td>\n",
       "      <td>RV</td>\n",
       "      <td>1.0</td>\n",
       "      <td>NaN</td>\n",
       "      <td>184407.56</td>\n",
       "      <td>20190411.0</td>\n",
       "      <td>NAA8</td>\n",
       "      <td>1.929136e+09</td>\n",
       "      <td>0</td>\n",
       "    </tr>\n",
       "    <tr>\n",
       "      <th>49996</th>\n",
       "      <td>U001</td>\n",
       "      <td>0200769623</td>\n",
       "      <td>WAL-MAR foundation</td>\n",
       "      <td>2019-11-04 00:00:00</td>\n",
       "      <td>2019.0</td>\n",
       "      <td>1.930037e+09</td>\n",
       "      <td>2019-10-24</td>\n",
       "      <td>20191021</td>\n",
       "      <td>20191024</td>\n",
       "      <td>20191108.0</td>\n",
       "      <td>USD</td>\n",
       "      <td>RV</td>\n",
       "      <td>1.0</td>\n",
       "      <td>NaN</td>\n",
       "      <td>16175.40</td>\n",
       "      <td>20191024.0</td>\n",
       "      <td>NAH4</td>\n",
       "      <td>1.930037e+09</td>\n",
       "      <td>0</td>\n",
       "    </tr>\n",
       "    <tr>\n",
       "      <th>49997</th>\n",
       "      <td>U001</td>\n",
       "      <td>0200769623</td>\n",
       "      <td>WAL-MAR llc</td>\n",
       "      <td>NaN</td>\n",
       "      <td>2020.0</td>\n",
       "      <td>1.930802e+09</td>\n",
       "      <td>2020-04-21</td>\n",
       "      <td>20200420</td>\n",
       "      <td>20200421</td>\n",
       "      <td>20200506.0</td>\n",
       "      <td>USD</td>\n",
       "      <td>RV</td>\n",
       "      <td>1.0</td>\n",
       "      <td>NaN</td>\n",
       "      <td>54791.03</td>\n",
       "      <td>20200421.0</td>\n",
       "      <td>NAH4</td>\n",
       "      <td>1.930802e+09</td>\n",
       "      <td>1</td>\n",
       "    </tr>\n",
       "    <tr>\n",
       "      <th>49998</th>\n",
       "      <td>U001</td>\n",
       "      <td>0200759878</td>\n",
       "      <td>SA co</td>\n",
       "      <td>2019-03-11 00:00:00</td>\n",
       "      <td>2019.0</td>\n",
       "      <td>1.928845e+09</td>\n",
       "      <td>2019-02-23</td>\n",
       "      <td>20190222</td>\n",
       "      <td>20190223</td>\n",
       "      <td>20190310.0</td>\n",
       "      <td>USD</td>\n",
       "      <td>RV</td>\n",
       "      <td>1.0</td>\n",
       "      <td>NaN</td>\n",
       "      <td>73799.96</td>\n",
       "      <td>20190223.0</td>\n",
       "      <td>NAH4</td>\n",
       "      <td>1.928845e+09</td>\n",
       "      <td>0</td>\n",
       "    </tr>\n",
       "    <tr>\n",
       "      <th>49999</th>\n",
       "      <td>U001</td>\n",
       "      <td>0200865666</td>\n",
       "      <td>RESTAU corp</td>\n",
       "      <td>2019-03-20 00:00:00</td>\n",
       "      <td>2019.0</td>\n",
       "      <td>1.928907e+09</td>\n",
       "      <td>2019-03-05</td>\n",
       "      <td>20190305</td>\n",
       "      <td>20190305</td>\n",
       "      <td>20190320.0</td>\n",
       "      <td>USD</td>\n",
       "      <td>RV</td>\n",
       "      <td>1.0</td>\n",
       "      <td>NaN</td>\n",
       "      <td>11895.36</td>\n",
       "      <td>20190305.0</td>\n",
       "      <td>NAA8</td>\n",
       "      <td>1.928907e+09</td>\n",
       "      <td>0</td>\n",
       "    </tr>\n",
       "  </tbody>\n",
       "</table>\n",
       "</div>"
      ],
      "text/plain": [
       "      business_code cust_number       name_customer           clear_date  \\\n",
       "49995          U001  0200875006   KROGER associates  2019-04-26 00:00:00   \n",
       "49996          U001  0200769623  WAL-MAR foundation  2019-11-04 00:00:00   \n",
       "49997          U001  0200769623         WAL-MAR llc                  NaN   \n",
       "49998          U001  0200759878               SA co  2019-03-11 00:00:00   \n",
       "49999          U001  0200865666         RESTAU corp  2019-03-20 00:00:00   \n",
       "\n",
       "       buisness_year        doc_id posting_date  document_create_date  \\\n",
       "49995         2019.0  1.929136e+09   2019-04-11              20190412   \n",
       "49996         2019.0  1.930037e+09   2019-10-24              20191021   \n",
       "49997         2020.0  1.930802e+09   2020-04-21              20200420   \n",
       "49998         2019.0  1.928845e+09   2019-02-23              20190222   \n",
       "49999         2019.0  1.928907e+09   2019-03-05              20190305   \n",
       "\n",
       "       document_create_date.1  due_in_date invoice_currency document type  \\\n",
       "49995                20190411   20190426.0              USD            RV   \n",
       "49996                20191024   20191108.0              USD            RV   \n",
       "49997                20200421   20200506.0              USD            RV   \n",
       "49998                20190223   20190310.0              USD            RV   \n",
       "49999                20190305   20190320.0              USD            RV   \n",
       "\n",
       "       posting_id  area_business  total_open_amount  baseline_create_date  \\\n",
       "49995         1.0            NaN          184407.56            20190411.0   \n",
       "49996         1.0            NaN           16175.40            20191024.0   \n",
       "49997         1.0            NaN           54791.03            20200421.0   \n",
       "49998         1.0            NaN           73799.96            20190223.0   \n",
       "49999         1.0            NaN           11895.36            20190305.0   \n",
       "\n",
       "      cust_payment_terms    invoice_id  isOpen  \n",
       "49995               NAA8  1.929136e+09       0  \n",
       "49996               NAH4  1.930037e+09       0  \n",
       "49997               NAH4  1.930802e+09       1  \n",
       "49998               NAH4  1.928845e+09       0  \n",
       "49999               NAA8  1.928907e+09       0  "
      ]
     },
     "execution_count": 5,
     "metadata": {},
     "output_type": "execute_result"
    }
   ],
   "source": [
    "df.tail(5)"
   ]
  },
  {
   "cell_type": "markdown",
   "id": "gorgeous-difference",
   "metadata": {},
   "source": [
    "# **Statistics**"
   ]
  },
  {
   "cell_type": "code",
   "execution_count": 6,
   "id": "available-conjunction",
   "metadata": {},
   "outputs": [
    {
     "data": {
      "text/html": [
       "<div>\n",
       "<style scoped>\n",
       "    .dataframe tbody tr th:only-of-type {\n",
       "        vertical-align: middle;\n",
       "    }\n",
       "\n",
       "    .dataframe tbody tr th {\n",
       "        vertical-align: top;\n",
       "    }\n",
       "\n",
       "    .dataframe thead th {\n",
       "        text-align: right;\n",
       "    }\n",
       "</style>\n",
       "<table border=\"1\" class=\"dataframe\">\n",
       "  <thead>\n",
       "    <tr style=\"text-align: right;\">\n",
       "      <th></th>\n",
       "      <th>buisness_year</th>\n",
       "      <th>doc_id</th>\n",
       "      <th>document_create_date</th>\n",
       "      <th>document_create_date.1</th>\n",
       "      <th>due_in_date</th>\n",
       "      <th>posting_id</th>\n",
       "      <th>area_business</th>\n",
       "      <th>total_open_amount</th>\n",
       "      <th>baseline_create_date</th>\n",
       "      <th>invoice_id</th>\n",
       "      <th>isOpen</th>\n",
       "    </tr>\n",
       "  </thead>\n",
       "  <tbody>\n",
       "    <tr>\n",
       "      <th>count</th>\n",
       "      <td>50000.000000</td>\n",
       "      <td>5.000000e+04</td>\n",
       "      <td>5.000000e+04</td>\n",
       "      <td>5.000000e+04</td>\n",
       "      <td>5.000000e+04</td>\n",
       "      <td>50000.0</td>\n",
       "      <td>0.0</td>\n",
       "      <td>5.000000e+04</td>\n",
       "      <td>5.000000e+04</td>\n",
       "      <td>4.999500e+04</td>\n",
       "      <td>50000.000000</td>\n",
       "    </tr>\n",
       "    <tr>\n",
       "      <th>mean</th>\n",
       "      <td>2019.304320</td>\n",
       "      <td>2.008873e+09</td>\n",
       "      <td>2.019350e+07</td>\n",
       "      <td>2.019353e+07</td>\n",
       "      <td>2.019367e+07</td>\n",
       "      <td>1.0</td>\n",
       "      <td>NaN</td>\n",
       "      <td>3.243631e+04</td>\n",
       "      <td>2.019353e+07</td>\n",
       "      <td>2.008124e+09</td>\n",
       "      <td>0.200000</td>\n",
       "    </tr>\n",
       "    <tr>\n",
       "      <th>std</th>\n",
       "      <td>0.460123</td>\n",
       "      <td>2.816167e+08</td>\n",
       "      <td>4.491489e+03</td>\n",
       "      <td>4.477061e+03</td>\n",
       "      <td>4.463724e+03</td>\n",
       "      <td>0.0</td>\n",
       "      <td>NaN</td>\n",
       "      <td>4.026165e+04</td>\n",
       "      <td>4.478179e+03</td>\n",
       "      <td>2.714829e+08</td>\n",
       "      <td>0.400004</td>\n",
       "    </tr>\n",
       "    <tr>\n",
       "      <th>min</th>\n",
       "      <td>2019.000000</td>\n",
       "      <td>1.928502e+09</td>\n",
       "      <td>2.018123e+07</td>\n",
       "      <td>2.018123e+07</td>\n",
       "      <td>2.018032e+07</td>\n",
       "      <td>1.0</td>\n",
       "      <td>NaN</td>\n",
       "      <td>2.700000e-01</td>\n",
       "      <td>2.018031e+07</td>\n",
       "      <td>1.928502e+09</td>\n",
       "      <td>0.000000</td>\n",
       "    </tr>\n",
       "    <tr>\n",
       "      <th>25%</th>\n",
       "      <td>2019.000000</td>\n",
       "      <td>1.929341e+09</td>\n",
       "      <td>2.019051e+07</td>\n",
       "      <td>2.019051e+07</td>\n",
       "      <td>2.019052e+07</td>\n",
       "      <td>1.0</td>\n",
       "      <td>NaN</td>\n",
       "      <td>4.871745e+03</td>\n",
       "      <td>2.019051e+07</td>\n",
       "      <td>1.929341e+09</td>\n",
       "      <td>0.000000</td>\n",
       "    </tr>\n",
       "    <tr>\n",
       "      <th>50%</th>\n",
       "      <td>2019.000000</td>\n",
       "      <td>1.929974e+09</td>\n",
       "      <td>2.019091e+07</td>\n",
       "      <td>2.019091e+07</td>\n",
       "      <td>2.019093e+07</td>\n",
       "      <td>1.0</td>\n",
       "      <td>NaN</td>\n",
       "      <td>1.763928e+04</td>\n",
       "      <td>2.019091e+07</td>\n",
       "      <td>1.929974e+09</td>\n",
       "      <td>0.000000</td>\n",
       "    </tr>\n",
       "    <tr>\n",
       "      <th>75%</th>\n",
       "      <td>2020.000000</td>\n",
       "      <td>1.930617e+09</td>\n",
       "      <td>2.020013e+07</td>\n",
       "      <td>2.020013e+07</td>\n",
       "      <td>2.020022e+07</td>\n",
       "      <td>1.0</td>\n",
       "      <td>NaN</td>\n",
       "      <td>4.704053e+04</td>\n",
       "      <td>2.020013e+07</td>\n",
       "      <td>1.930617e+09</td>\n",
       "      <td>0.000000</td>\n",
       "    </tr>\n",
       "    <tr>\n",
       "      <th>max</th>\n",
       "      <td>2020.000000</td>\n",
       "      <td>9.500000e+09</td>\n",
       "      <td>2.020052e+07</td>\n",
       "      <td>2.020052e+07</td>\n",
       "      <td>2.020071e+07</td>\n",
       "      <td>1.0</td>\n",
       "      <td>NaN</td>\n",
       "      <td>1.501474e+06</td>\n",
       "      <td>2.020052e+07</td>\n",
       "      <td>2.960636e+09</td>\n",
       "      <td>1.000000</td>\n",
       "    </tr>\n",
       "  </tbody>\n",
       "</table>\n",
       "</div>"
      ],
      "text/plain": [
       "       buisness_year        doc_id  document_create_date  \\\n",
       "count   50000.000000  5.000000e+04          5.000000e+04   \n",
       "mean     2019.304320  2.008873e+09          2.019350e+07   \n",
       "std         0.460123  2.816167e+08          4.491489e+03   \n",
       "min      2019.000000  1.928502e+09          2.018123e+07   \n",
       "25%      2019.000000  1.929341e+09          2.019051e+07   \n",
       "50%      2019.000000  1.929974e+09          2.019091e+07   \n",
       "75%      2020.000000  1.930617e+09          2.020013e+07   \n",
       "max      2020.000000  9.500000e+09          2.020052e+07   \n",
       "\n",
       "       document_create_date.1   due_in_date  posting_id  area_business  \\\n",
       "count            5.000000e+04  5.000000e+04     50000.0            0.0   \n",
       "mean             2.019353e+07  2.019367e+07         1.0            NaN   \n",
       "std              4.477061e+03  4.463724e+03         0.0            NaN   \n",
       "min              2.018123e+07  2.018032e+07         1.0            NaN   \n",
       "25%              2.019051e+07  2.019052e+07         1.0            NaN   \n",
       "50%              2.019091e+07  2.019093e+07         1.0            NaN   \n",
       "75%              2.020013e+07  2.020022e+07         1.0            NaN   \n",
       "max              2.020052e+07  2.020071e+07         1.0            NaN   \n",
       "\n",
       "       total_open_amount  baseline_create_date    invoice_id        isOpen  \n",
       "count       5.000000e+04          5.000000e+04  4.999500e+04  50000.000000  \n",
       "mean        3.243631e+04          2.019353e+07  2.008124e+09      0.200000  \n",
       "std         4.026165e+04          4.478179e+03  2.714829e+08      0.400004  \n",
       "min         2.700000e-01          2.018031e+07  1.928502e+09      0.000000  \n",
       "25%         4.871745e+03          2.019051e+07  1.929341e+09      0.000000  \n",
       "50%         1.763928e+04          2.019091e+07  1.929974e+09      0.000000  \n",
       "75%         4.704053e+04          2.020013e+07  1.930617e+09      0.000000  \n",
       "max         1.501474e+06          2.020052e+07  2.960636e+09      1.000000  "
      ]
     },
     "execution_count": 6,
     "metadata": {},
     "output_type": "execute_result"
    }
   ],
   "source": [
    "df.describe()"
   ]
  },
  {
   "cell_type": "markdown",
   "id": "modified-johns",
   "metadata": {},
   "source": [
    "# **Checking for Non-Null Values**"
   ]
  },
  {
   "cell_type": "code",
   "execution_count": 7,
   "id": "afraid-monkey",
   "metadata": {},
   "outputs": [
    {
     "name": "stdout",
     "output_type": "stream",
     "text": [
      "<class 'pandas.core.frame.DataFrame'>\n",
      "RangeIndex: 50000 entries, 0 to 49999\n",
      "Data columns (total 19 columns):\n",
      " #   Column                  Non-Null Count  Dtype  \n",
      "---  ------                  --------------  -----  \n",
      " 0   business_code           50000 non-null  object \n",
      " 1   cust_number             50000 non-null  object \n",
      " 2   name_customer           50000 non-null  object \n",
      " 3   clear_date              40000 non-null  object \n",
      " 4   buisness_year           50000 non-null  float64\n",
      " 5   doc_id                  50000 non-null  float64\n",
      " 6   posting_date            50000 non-null  object \n",
      " 7   document_create_date    50000 non-null  int64  \n",
      " 8   document_create_date.1  50000 non-null  int64  \n",
      " 9   due_in_date             50000 non-null  float64\n",
      " 10  invoice_currency        50000 non-null  object \n",
      " 11  document type           50000 non-null  object \n",
      " 12  posting_id              50000 non-null  float64\n",
      " 13  area_business           0 non-null      float64\n",
      " 14  total_open_amount       50000 non-null  float64\n",
      " 15  baseline_create_date    50000 non-null  float64\n",
      " 16  cust_payment_terms      50000 non-null  object \n",
      " 17  invoice_id              49995 non-null  float64\n",
      " 18  isOpen                  50000 non-null  int64  \n",
      "dtypes: float64(8), int64(3), object(8)\n",
      "memory usage: 7.2+ MB\n"
     ]
    }
   ],
   "source": [
    "df.info(verbose=True, show_counts=True)"
   ]
  },
  {
   "cell_type": "markdown",
   "id": "transsexual-possession",
   "metadata": {},
   "source": [
    "# **Number of NULL Values**"
   ]
  },
  {
   "cell_type": "code",
   "execution_count": 8,
   "id": "invisible-kinase",
   "metadata": {},
   "outputs": [
    {
     "data": {
      "text/plain": [
       "business_code                 0\n",
       "cust_number                   0\n",
       "name_customer                 0\n",
       "clear_date                10000\n",
       "buisness_year                 0\n",
       "doc_id                        0\n",
       "posting_date                  0\n",
       "document_create_date          0\n",
       "document_create_date.1        0\n",
       "due_in_date                   0\n",
       "invoice_currency              0\n",
       "document type                 0\n",
       "posting_id                    0\n",
       "area_business             50000\n",
       "total_open_amount             0\n",
       "baseline_create_date          0\n",
       "cust_payment_terms            0\n",
       "invoice_id                    5\n",
       "isOpen                        0\n",
       "dtype: int64"
      ]
     },
     "execution_count": 8,
     "metadata": {},
     "output_type": "execute_result"
    }
   ],
   "source": [
    "df.isnull().sum()"
   ]
  },
  {
   "cell_type": "markdown",
   "id": "local-rebate",
   "metadata": {},
   "source": [
    "# **Dropping columns with ALL NULL values**"
   ]
  },
  {
   "cell_type": "code",
   "execution_count": 9,
   "id": "persistent-kenya",
   "metadata": {},
   "outputs": [],
   "source": [
    "df.dropna(how='all', axis=1, inplace=True)"
   ]
  },
  {
   "cell_type": "code",
   "execution_count": 10,
   "id": "southwest-flash",
   "metadata": {},
   "outputs": [
    {
     "data": {
      "text/plain": [
       "(50000, 18)"
      ]
     },
     "execution_count": 10,
     "metadata": {},
     "output_type": "execute_result"
    }
   ],
   "source": [
    "df.shape\n",
    "#Dropped area_business"
   ]
  },
  {
   "cell_type": "markdown",
   "id": "historical-north",
   "metadata": {},
   "source": [
    "# **Drop the Rows who have invoice_id as NULL**"
   ]
  },
  {
   "cell_type": "code",
   "execution_count": 11,
   "id": "bacterial-falls",
   "metadata": {},
   "outputs": [],
   "source": [
    "df.dropna(subset=['invoice_id'], axis=0, inplace=True)\n",
    "df.reset_index(drop=True, inplace=True)"
   ]
  },
  {
   "cell_type": "code",
   "execution_count": 12,
   "id": "fresh-telling",
   "metadata": {},
   "outputs": [
    {
     "data": {
      "text/plain": [
       "business_code                 0\n",
       "cust_number                   0\n",
       "name_customer                 0\n",
       "clear_date                10000\n",
       "buisness_year                 0\n",
       "doc_id                        0\n",
       "posting_date                  0\n",
       "document_create_date          0\n",
       "document_create_date.1        0\n",
       "due_in_date                   0\n",
       "invoice_currency              0\n",
       "document type                 0\n",
       "posting_id                    0\n",
       "total_open_amount             0\n",
       "baseline_create_date          0\n",
       "cust_payment_terms            0\n",
       "invoice_id                    0\n",
       "isOpen                        0\n",
       "dtype: int64"
      ]
     },
     "execution_count": 12,
     "metadata": {},
     "output_type": "execute_result"
    }
   ],
   "source": [
    "df.isnull().sum()"
   ]
  },
  {
   "cell_type": "code",
   "execution_count": 13,
   "id": "prerequisite-salmon",
   "metadata": {},
   "outputs": [
    {
     "data": {
      "text/plain": [
       "0    39995\n",
       "1    10000\n",
       "Name: isOpen, dtype: int64"
      ]
     },
     "execution_count": 13,
     "metadata": {},
     "output_type": "execute_result"
    }
   ],
   "source": [
    "df[\"isOpen\"].value_counts()"
   ]
  },
  {
   "cell_type": "markdown",
   "id": "material-pendant",
   "metadata": {},
   "source": [
    "# **Checking for Unique Values in Each Column**"
   ]
  },
  {
   "cell_type": "code",
   "execution_count": 14,
   "id": "developed-plasma",
   "metadata": {},
   "outputs": [
    {
     "name": "stdout",
     "output_type": "stream",
     "text": [
      "business_code                 6\n",
      "cust_number                1431\n",
      "name_customer              4190\n",
      "clear_date                  400\n",
      "buisness_year                 2\n",
      "doc_id                    48760\n",
      "posting_date                502\n",
      "document_create_date        505\n",
      "document_create_date.1      502\n",
      "due_in_date                 550\n",
      "invoice_currency              2\n",
      "document type                 1\n",
      "posting_id                    1\n",
      "total_open_amount         44252\n",
      "baseline_create_date        507\n",
      "cust_payment_terms           70\n",
      "invoice_id                48760\n",
      "isOpen                        2\n",
      "dtype: int64\n"
     ]
    }
   ],
   "source": [
    "n = df.nunique(axis=0)\n",
    "print(n)"
   ]
  },
  {
   "cell_type": "markdown",
   "id": "applicable-bobby",
   "metadata": {},
   "source": [
    "# **As there is only 1 unique value in document type and posting_id so we can drop these**"
   ]
  },
  {
   "cell_type": "code",
   "execution_count": 15,
   "id": "mysterious-applicant",
   "metadata": {},
   "outputs": [],
   "source": [
    "df.drop(['document type', 'posting_id'], axis = 1, inplace=True)"
   ]
  },
  {
   "cell_type": "code",
   "execution_count": 16,
   "id": "fancy-frontier",
   "metadata": {},
   "outputs": [
    {
     "name": "stdout",
     "output_type": "stream",
     "text": [
      "business_code\n",
      "cust_number\n",
      "name_customer\n",
      "clear_date\n",
      "buisness_year\n",
      "doc_id\n",
      "posting_date\n",
      "document_create_date\n",
      "document_create_date.1\n",
      "due_in_date\n",
      "invoice_currency\n",
      "total_open_amount\n",
      "baseline_create_date\n",
      "cust_payment_terms\n",
      "invoice_id\n",
      "isOpen\n"
     ]
    }
   ],
   "source": [
    "for col in df.columns:\n",
    "    print(col)"
   ]
  },
  {
   "cell_type": "markdown",
   "id": "electronic-education",
   "metadata": {},
   "source": [
    "# **Searching for Duplicate Columns**"
   ]
  },
  {
   "cell_type": "code",
   "execution_count": 17,
   "id": "perfect-signature",
   "metadata": {},
   "outputs": [
    {
     "name": "stdout",
     "output_type": "stream",
     "text": [
      "Duplicate with : invoice_id\n",
      "['doc_id']\n"
     ]
    }
   ],
   "source": [
    "duplicate = []\n",
    "for i in range (df.shape[1]):\n",
    "    col = df.iloc[:,i]\n",
    "    for j in range (i+1, df.shape[1]):\n",
    "        othercol = df.iloc[:,j]\n",
    "        if(col.equals(othercol)):\n",
    "            duplicate.append(df.columns[i]);\n",
    "            print(\"Duplicate with : \"+df.columns[j])\n",
    "print(duplicate)"
   ]
  },
  {
   "cell_type": "code",
   "execution_count": 18,
   "id": "neutral-society",
   "metadata": {},
   "outputs": [],
   "source": [
    "df.drop(duplicate, axis = 1, inplace=True) "
   ]
  },
  {
   "cell_type": "code",
   "execution_count": 19,
   "id": "foster-wheel",
   "metadata": {},
   "outputs": [
    {
     "name": "stdout",
     "output_type": "stream",
     "text": [
      "business_code\n",
      "cust_number\n",
      "name_customer\n",
      "clear_date\n",
      "buisness_year\n",
      "posting_date\n",
      "document_create_date\n",
      "document_create_date.1\n",
      "due_in_date\n",
      "invoice_currency\n",
      "total_open_amount\n",
      "baseline_create_date\n",
      "cust_payment_terms\n",
      "invoice_id\n",
      "isOpen\n"
     ]
    }
   ],
   "source": [
    "for col in df.columns:\n",
    "    print(col)"
   ]
  },
  {
   "cell_type": "markdown",
   "id": "caring-stations",
   "metadata": {},
   "source": [
    "# **Date-Time Conversion**"
   ]
  },
  {
   "cell_type": "code",
   "execution_count": 20,
   "id": "guided-sport",
   "metadata": {},
   "outputs": [
    {
     "data": {
      "text/plain": [
       "0   2019-04-26\n",
       "1   2019-09-03\n",
       "2   2019-11-11\n",
       "3   2020-05-06\n",
       "4   2020-04-20\n",
       "Name: document_create_date, dtype: datetime64[ns]"
      ]
     },
     "execution_count": 20,
     "metadata": {},
     "output_type": "execute_result"
    }
   ],
   "source": [
    "df['document_create_date']=pd.to_datetime(df['document_create_date'],format='%Y%m%d')\n",
    "df['document_create_date'].head(5)"
   ]
  },
  {
   "cell_type": "code",
   "execution_count": 21,
   "id": "stylish-participant",
   "metadata": {},
   "outputs": [
    {
     "data": {
      "text/plain": [
       "0   2019-05-01\n",
       "1   2019-09-03\n",
       "2   2019-11-11\n",
       "3   2020-05-06\n",
       "4   2020-04-22\n",
       "Name: document_create_date.1, dtype: datetime64[ns]"
      ]
     },
     "execution_count": 21,
     "metadata": {},
     "output_type": "execute_result"
    }
   ],
   "source": [
    "df['document_create_date.1']=pd.to_datetime(df['document_create_date.1'],format='%Y%m%d')\n",
    "df['document_create_date.1'].head(5)"
   ]
  },
  {
   "cell_type": "code",
   "execution_count": 22,
   "id": "certified-commons",
   "metadata": {},
   "outputs": [
    {
     "data": {
      "text/plain": [
       "0   2019-05-16\n",
       "1   2019-09-18\n",
       "2   2019-11-21\n",
       "3   2020-05-21\n",
       "4   2020-06-26\n",
       "Name: due_in_date, dtype: datetime64[ns]"
      ]
     },
     "execution_count": 22,
     "metadata": {},
     "output_type": "execute_result"
    }
   ],
   "source": [
    "df['due_in_date']=pd.to_datetime(df['due_in_date'],format='%Y%m%d')\n",
    "df['due_in_date'].head()"
   ]
  },
  {
   "cell_type": "code",
   "execution_count": 23,
   "id": "square-integration",
   "metadata": {},
   "outputs": [
    {
     "data": {
      "text/plain": [
       "0   2019-05-01\n",
       "1   2019-09-03\n",
       "2   2019-11-11\n",
       "3   2020-05-06\n",
       "4   2020-04-22\n",
       "Name: baseline_create_date, dtype: datetime64[ns]"
      ]
     },
     "execution_count": 23,
     "metadata": {},
     "output_type": "execute_result"
    }
   ],
   "source": [
    "df['baseline_create_date']=pd.to_datetime(df['baseline_create_date'],format='%Y%m%d')\n",
    "df['baseline_create_date'].head()"
   ]
  },
  {
   "cell_type": "code",
   "execution_count": 24,
   "id": "coral-funds",
   "metadata": {},
   "outputs": [
    {
     "data": {
      "text/plain": [
       "0   2019-05-17\n",
       "1   2019-09-18\n",
       "2   2019-11-22\n",
       "3          NaT\n",
       "4          NaT\n",
       "Name: clear_date, dtype: datetime64[ns]"
      ]
     },
     "execution_count": 24,
     "metadata": {},
     "output_type": "execute_result"
    }
   ],
   "source": [
    "df['clear_date']=pd.to_datetime(df['clear_date'],format='%Y-%m-%d %H:%M:%S')\n",
    "df['clear_date'].head()"
   ]
  },
  {
   "cell_type": "code",
   "execution_count": 25,
   "id": "becoming-royal",
   "metadata": {},
   "outputs": [
    {
     "data": {
      "text/plain": [
       "0   2019-05-01\n",
       "1   2019-09-03\n",
       "2   2019-11-11\n",
       "3   2020-05-06\n",
       "4   2020-04-22\n",
       "Name: posting_date, dtype: datetime64[ns]"
      ]
     },
     "execution_count": 25,
     "metadata": {},
     "output_type": "execute_result"
    }
   ],
   "source": [
    "df['posting_date']=pd.to_datetime(df['posting_date'],format='%Y-%m-%d')\n",
    "df['posting_date'].head()"
   ]
  },
  {
   "cell_type": "code",
   "execution_count": 26,
   "id": "valid-ecuador",
   "metadata": {},
   "outputs": [
    {
     "name": "stdout",
     "output_type": "stream",
     "text": [
      "<class 'pandas.core.frame.DataFrame'>\n",
      "RangeIndex: 49995 entries, 0 to 49994\n",
      "Data columns (total 15 columns):\n",
      " #   Column                  Non-Null Count  Dtype         \n",
      "---  ------                  --------------  -----         \n",
      " 0   business_code           49995 non-null  object        \n",
      " 1   cust_number             49995 non-null  object        \n",
      " 2   name_customer           49995 non-null  object        \n",
      " 3   clear_date              39995 non-null  datetime64[ns]\n",
      " 4   buisness_year           49995 non-null  float64       \n",
      " 5   posting_date            49995 non-null  datetime64[ns]\n",
      " 6   document_create_date    49995 non-null  datetime64[ns]\n",
      " 7   document_create_date.1  49995 non-null  datetime64[ns]\n",
      " 8   due_in_date             49995 non-null  datetime64[ns]\n",
      " 9   invoice_currency        49995 non-null  object        \n",
      " 10  total_open_amount       49995 non-null  float64       \n",
      " 11  baseline_create_date    49995 non-null  datetime64[ns]\n",
      " 12  cust_payment_terms      49995 non-null  object        \n",
      " 13  invoice_id              49995 non-null  float64       \n",
      " 14  isOpen                  49995 non-null  int64         \n",
      "dtypes: datetime64[ns](6), float64(3), int64(1), object(5)\n",
      "memory usage: 5.7+ MB\n"
     ]
    }
   ],
   "source": [
    "df.info()"
   ]
  },
  {
   "cell_type": "markdown",
   "id": "consecutive-understanding",
   "metadata": {},
   "source": [
    "# **Again Checking for Duplicate Columns** "
   ]
  },
  {
   "cell_type": "code",
   "execution_count": 27,
   "id": "coordinate-netherlands",
   "metadata": {},
   "outputs": [
    {
     "name": "stdout",
     "output_type": "stream",
     "text": [
      "Duplicate with : document_create_date.1\n",
      "['posting_date']\n"
     ]
    }
   ],
   "source": [
    "duplicate = []\n",
    "for x in range (df.shape[1]):\n",
    "    col = df.iloc[:,x]\n",
    "    for y in range (x+1, df.shape[1]):\n",
    "        othercol = df.iloc[:,y]\n",
    "        if(col.equals(othercol)):\n",
    "            duplicate.append(df.columns[x]);\n",
    "            print(\"Duplicate with : \"+df.columns[y])\n",
    "print(duplicate)"
   ]
  },
  {
   "cell_type": "code",
   "execution_count": 28,
   "id": "entire-sugar",
   "metadata": {},
   "outputs": [],
   "source": [
    "df.drop(duplicate, axis = 1, inplace=True) "
   ]
  },
  {
   "cell_type": "code",
   "execution_count": 29,
   "id": "sharing-origin",
   "metadata": {},
   "outputs": [
    {
     "name": "stdout",
     "output_type": "stream",
     "text": [
      "business_code\n",
      "cust_number\n",
      "name_customer\n",
      "clear_date\n",
      "buisness_year\n",
      "document_create_date\n",
      "document_create_date.1\n",
      "due_in_date\n",
      "invoice_currency\n",
      "total_open_amount\n",
      "baseline_create_date\n",
      "cust_payment_terms\n",
      "invoice_id\n",
      "isOpen\n"
     ]
    }
   ],
   "source": [
    "for col in df.columns:\n",
    "    print(col)"
   ]
  },
  {
   "cell_type": "markdown",
   "id": "chief-celebrity",
   "metadata": {},
   "source": [
    "# **Between document_create_date & document_create_date.1, we can drop one of them**"
   ]
  },
  {
   "cell_type": "code",
   "execution_count": 30,
   "id": "expired-hamburg",
   "metadata": {},
   "outputs": [],
   "source": [
    "# Due to Quasi-constant we can drop one of them\n",
    "df.drop(columns=['document_create_date'],inplace=True)"
   ]
  },
  {
   "cell_type": "markdown",
   "id": "finished-profession",
   "metadata": {},
   "source": [
    "# **Invoice Id is unique for each transaction and don't affect the sales, so we drop it**"
   ]
  },
  {
   "cell_type": "code",
   "execution_count": 31,
   "id": "regular-valley",
   "metadata": {},
   "outputs": [],
   "source": [
    "df.drop(columns=['invoice_id'],inplace=True)"
   ]
  },
  {
   "cell_type": "code",
   "execution_count": 32,
   "id": "looking-penny",
   "metadata": {},
   "outputs": [
    {
     "data": {
      "text/html": [
       "<div>\n",
       "<style scoped>\n",
       "    .dataframe tbody tr th:only-of-type {\n",
       "        vertical-align: middle;\n",
       "    }\n",
       "\n",
       "    .dataframe tbody tr th {\n",
       "        vertical-align: top;\n",
       "    }\n",
       "\n",
       "    .dataframe thead th {\n",
       "        text-align: right;\n",
       "    }\n",
       "</style>\n",
       "<table border=\"1\" class=\"dataframe\">\n",
       "  <thead>\n",
       "    <tr style=\"text-align: right;\">\n",
       "      <th></th>\n",
       "      <th>business_code</th>\n",
       "      <th>cust_number</th>\n",
       "      <th>name_customer</th>\n",
       "      <th>clear_date</th>\n",
       "      <th>buisness_year</th>\n",
       "      <th>document_create_date.1</th>\n",
       "      <th>due_in_date</th>\n",
       "      <th>invoice_currency</th>\n",
       "      <th>total_open_amount</th>\n",
       "      <th>baseline_create_date</th>\n",
       "      <th>cust_payment_terms</th>\n",
       "      <th>isOpen</th>\n",
       "    </tr>\n",
       "  </thead>\n",
       "  <tbody>\n",
       "    <tr>\n",
       "      <th>0</th>\n",
       "      <td>U001</td>\n",
       "      <td>0200040366</td>\n",
       "      <td>RASTEL co</td>\n",
       "      <td>2019-05-17</td>\n",
       "      <td>2019.0</td>\n",
       "      <td>2019-05-01</td>\n",
       "      <td>2019-05-16</td>\n",
       "      <td>USD</td>\n",
       "      <td>2160.31</td>\n",
       "      <td>2019-05-01</td>\n",
       "      <td>NAA8</td>\n",
       "      <td>0</td>\n",
       "    </tr>\n",
       "    <tr>\n",
       "      <th>1</th>\n",
       "      <td>U001</td>\n",
       "      <td>0200707822</td>\n",
       "      <td>PUBLI us</td>\n",
       "      <td>2019-09-18</td>\n",
       "      <td>2019.0</td>\n",
       "      <td>2019-09-03</td>\n",
       "      <td>2019-09-18</td>\n",
       "      <td>USD</td>\n",
       "      <td>111586.61</td>\n",
       "      <td>2019-09-03</td>\n",
       "      <td>NAA8</td>\n",
       "      <td>0</td>\n",
       "    </tr>\n",
       "    <tr>\n",
       "      <th>2</th>\n",
       "      <td>CA02</td>\n",
       "      <td>0140104409</td>\n",
       "      <td>LOB co</td>\n",
       "      <td>2019-11-22</td>\n",
       "      <td>2019.0</td>\n",
       "      <td>2019-11-11</td>\n",
       "      <td>2019-11-21</td>\n",
       "      <td>CAD</td>\n",
       "      <td>65153.44</td>\n",
       "      <td>2019-11-11</td>\n",
       "      <td>CA10</td>\n",
       "      <td>0</td>\n",
       "    </tr>\n",
       "    <tr>\n",
       "      <th>3</th>\n",
       "      <td>U001</td>\n",
       "      <td>200390794</td>\n",
       "      <td>CASH-W corporation</td>\n",
       "      <td>NaT</td>\n",
       "      <td>2020.0</td>\n",
       "      <td>2020-05-06</td>\n",
       "      <td>2020-05-21</td>\n",
       "      <td>USD</td>\n",
       "      <td>21634.82</td>\n",
       "      <td>2020-05-06</td>\n",
       "      <td>NAA8</td>\n",
       "      <td>1</td>\n",
       "    </tr>\n",
       "    <tr>\n",
       "      <th>4</th>\n",
       "      <td>U001</td>\n",
       "      <td>0200418007</td>\n",
       "      <td>AM corporation</td>\n",
       "      <td>NaT</td>\n",
       "      <td>2020.0</td>\n",
       "      <td>2020-04-22</td>\n",
       "      <td>2020-06-26</td>\n",
       "      <td>USD</td>\n",
       "      <td>31.56</td>\n",
       "      <td>2020-04-22</td>\n",
       "      <td>NAGD</td>\n",
       "      <td>1</td>\n",
       "    </tr>\n",
       "  </tbody>\n",
       "</table>\n",
       "</div>"
      ],
      "text/plain": [
       "  business_code cust_number       name_customer clear_date  buisness_year  \\\n",
       "0          U001  0200040366           RASTEL co 2019-05-17         2019.0   \n",
       "1          U001  0200707822            PUBLI us 2019-09-18         2019.0   \n",
       "2          CA02  0140104409              LOB co 2019-11-22         2019.0   \n",
       "3          U001   200390794  CASH-W corporation        NaT         2020.0   \n",
       "4          U001  0200418007      AM corporation        NaT         2020.0   \n",
       "\n",
       "  document_create_date.1 due_in_date invoice_currency  total_open_amount  \\\n",
       "0             2019-05-01  2019-05-16              USD            2160.31   \n",
       "1             2019-09-03  2019-09-18              USD          111586.61   \n",
       "2             2019-11-11  2019-11-21              CAD           65153.44   \n",
       "3             2020-05-06  2020-05-21              USD           21634.82   \n",
       "4             2020-04-22  2020-06-26              USD              31.56   \n",
       "\n",
       "  baseline_create_date cust_payment_terms  isOpen  \n",
       "0           2019-05-01               NAA8       0  \n",
       "1           2019-09-03               NAA8       0  \n",
       "2           2019-11-11               CA10       0  \n",
       "3           2020-05-06               NAA8       1  \n",
       "4           2020-04-22               NAGD       1  "
      ]
     },
     "execution_count": 32,
     "metadata": {},
     "output_type": "execute_result"
    }
   ],
   "source": [
    "df.head()"
   ]
  },
  {
   "cell_type": "markdown",
   "id": "explicit-edgar",
   "metadata": {},
   "source": [
    "# **Dropping the Duplicate Rows**"
   ]
  },
  {
   "cell_type": "code",
   "execution_count": 33,
   "id": "desirable-compatibility",
   "metadata": {},
   "outputs": [
    {
     "data": {
      "text/html": [
       "<div>\n",
       "<style scoped>\n",
       "    .dataframe tbody tr th:only-of-type {\n",
       "        vertical-align: middle;\n",
       "    }\n",
       "\n",
       "    .dataframe tbody tr th {\n",
       "        vertical-align: top;\n",
       "    }\n",
       "\n",
       "    .dataframe thead th {\n",
       "        text-align: right;\n",
       "    }\n",
       "</style>\n",
       "<table border=\"1\" class=\"dataframe\">\n",
       "  <thead>\n",
       "    <tr style=\"text-align: right;\">\n",
       "      <th></th>\n",
       "      <th>business_code</th>\n",
       "      <th>cust_number</th>\n",
       "      <th>name_customer</th>\n",
       "      <th>clear_date</th>\n",
       "      <th>buisness_year</th>\n",
       "      <th>document_create_date.1</th>\n",
       "      <th>due_in_date</th>\n",
       "      <th>invoice_currency</th>\n",
       "      <th>total_open_amount</th>\n",
       "      <th>baseline_create_date</th>\n",
       "      <th>cust_payment_terms</th>\n",
       "      <th>isOpen</th>\n",
       "    </tr>\n",
       "  </thead>\n",
       "  <tbody>\n",
       "    <tr>\n",
       "      <th>0</th>\n",
       "      <td>U001</td>\n",
       "      <td>0200040366</td>\n",
       "      <td>RASTEL co</td>\n",
       "      <td>2019-05-17</td>\n",
       "      <td>2019.0</td>\n",
       "      <td>2019-05-01</td>\n",
       "      <td>2019-05-16</td>\n",
       "      <td>USD</td>\n",
       "      <td>2160.31</td>\n",
       "      <td>2019-05-01</td>\n",
       "      <td>NAA8</td>\n",
       "      <td>0</td>\n",
       "    </tr>\n",
       "    <tr>\n",
       "      <th>1</th>\n",
       "      <td>U001</td>\n",
       "      <td>0200707822</td>\n",
       "      <td>PUBLI us</td>\n",
       "      <td>2019-09-18</td>\n",
       "      <td>2019.0</td>\n",
       "      <td>2019-09-03</td>\n",
       "      <td>2019-09-18</td>\n",
       "      <td>USD</td>\n",
       "      <td>111586.61</td>\n",
       "      <td>2019-09-03</td>\n",
       "      <td>NAA8</td>\n",
       "      <td>0</td>\n",
       "    </tr>\n",
       "    <tr>\n",
       "      <th>2</th>\n",
       "      <td>CA02</td>\n",
       "      <td>0140104409</td>\n",
       "      <td>LOB co</td>\n",
       "      <td>2019-11-22</td>\n",
       "      <td>2019.0</td>\n",
       "      <td>2019-11-11</td>\n",
       "      <td>2019-11-21</td>\n",
       "      <td>CAD</td>\n",
       "      <td>65153.44</td>\n",
       "      <td>2019-11-11</td>\n",
       "      <td>CA10</td>\n",
       "      <td>0</td>\n",
       "    </tr>\n",
       "    <tr>\n",
       "      <th>3</th>\n",
       "      <td>U001</td>\n",
       "      <td>200390794</td>\n",
       "      <td>CASH-W corporation</td>\n",
       "      <td>NaT</td>\n",
       "      <td>2020.0</td>\n",
       "      <td>2020-05-06</td>\n",
       "      <td>2020-05-21</td>\n",
       "      <td>USD</td>\n",
       "      <td>21634.82</td>\n",
       "      <td>2020-05-06</td>\n",
       "      <td>NAA8</td>\n",
       "      <td>1</td>\n",
       "    </tr>\n",
       "    <tr>\n",
       "      <th>4</th>\n",
       "      <td>U001</td>\n",
       "      <td>0200418007</td>\n",
       "      <td>AM corporation</td>\n",
       "      <td>NaT</td>\n",
       "      <td>2020.0</td>\n",
       "      <td>2020-04-22</td>\n",
       "      <td>2020-06-26</td>\n",
       "      <td>USD</td>\n",
       "      <td>31.56</td>\n",
       "      <td>2020-04-22</td>\n",
       "      <td>NAGD</td>\n",
       "      <td>1</td>\n",
       "    </tr>\n",
       "    <tr>\n",
       "      <th>...</th>\n",
       "      <td>...</td>\n",
       "      <td>...</td>\n",
       "      <td>...</td>\n",
       "      <td>...</td>\n",
       "      <td>...</td>\n",
       "      <td>...</td>\n",
       "      <td>...</td>\n",
       "      <td>...</td>\n",
       "      <td>...</td>\n",
       "      <td>...</td>\n",
       "      <td>...</td>\n",
       "      <td>...</td>\n",
       "    </tr>\n",
       "    <tr>\n",
       "      <th>48733</th>\n",
       "      <td>U001</td>\n",
       "      <td>0200875006</td>\n",
       "      <td>KROGER associates</td>\n",
       "      <td>2019-04-26</td>\n",
       "      <td>2019.0</td>\n",
       "      <td>2019-04-11</td>\n",
       "      <td>2019-04-26</td>\n",
       "      <td>USD</td>\n",
       "      <td>184407.56</td>\n",
       "      <td>2019-04-11</td>\n",
       "      <td>NAA8</td>\n",
       "      <td>0</td>\n",
       "    </tr>\n",
       "    <tr>\n",
       "      <th>48734</th>\n",
       "      <td>U001</td>\n",
       "      <td>0200769623</td>\n",
       "      <td>WAL-MAR foundation</td>\n",
       "      <td>2019-11-04</td>\n",
       "      <td>2019.0</td>\n",
       "      <td>2019-10-24</td>\n",
       "      <td>2019-11-08</td>\n",
       "      <td>USD</td>\n",
       "      <td>16175.40</td>\n",
       "      <td>2019-10-24</td>\n",
       "      <td>NAH4</td>\n",
       "      <td>0</td>\n",
       "    </tr>\n",
       "    <tr>\n",
       "      <th>48735</th>\n",
       "      <td>U001</td>\n",
       "      <td>0200769623</td>\n",
       "      <td>WAL-MAR llc</td>\n",
       "      <td>NaT</td>\n",
       "      <td>2020.0</td>\n",
       "      <td>2020-04-21</td>\n",
       "      <td>2020-05-06</td>\n",
       "      <td>USD</td>\n",
       "      <td>54791.03</td>\n",
       "      <td>2020-04-21</td>\n",
       "      <td>NAH4</td>\n",
       "      <td>1</td>\n",
       "    </tr>\n",
       "    <tr>\n",
       "      <th>48736</th>\n",
       "      <td>U001</td>\n",
       "      <td>0200759878</td>\n",
       "      <td>SA co</td>\n",
       "      <td>2019-03-11</td>\n",
       "      <td>2019.0</td>\n",
       "      <td>2019-02-23</td>\n",
       "      <td>2019-03-10</td>\n",
       "      <td>USD</td>\n",
       "      <td>73799.96</td>\n",
       "      <td>2019-02-23</td>\n",
       "      <td>NAH4</td>\n",
       "      <td>0</td>\n",
       "    </tr>\n",
       "    <tr>\n",
       "      <th>48737</th>\n",
       "      <td>U001</td>\n",
       "      <td>0200865666</td>\n",
       "      <td>RESTAU corp</td>\n",
       "      <td>2019-03-20</td>\n",
       "      <td>2019.0</td>\n",
       "      <td>2019-03-05</td>\n",
       "      <td>2019-03-20</td>\n",
       "      <td>USD</td>\n",
       "      <td>11895.36</td>\n",
       "      <td>2019-03-05</td>\n",
       "      <td>NAA8</td>\n",
       "      <td>0</td>\n",
       "    </tr>\n",
       "  </tbody>\n",
       "</table>\n",
       "<p>48738 rows × 12 columns</p>\n",
       "</div>"
      ],
      "text/plain": [
       "      business_code cust_number       name_customer clear_date  buisness_year  \\\n",
       "0              U001  0200040366           RASTEL co 2019-05-17         2019.0   \n",
       "1              U001  0200707822            PUBLI us 2019-09-18         2019.0   \n",
       "2              CA02  0140104409              LOB co 2019-11-22         2019.0   \n",
       "3              U001   200390794  CASH-W corporation        NaT         2020.0   \n",
       "4              U001  0200418007      AM corporation        NaT         2020.0   \n",
       "...             ...         ...                 ...        ...            ...   \n",
       "48733          U001  0200875006   KROGER associates 2019-04-26         2019.0   \n",
       "48734          U001  0200769623  WAL-MAR foundation 2019-11-04         2019.0   \n",
       "48735          U001  0200769623         WAL-MAR llc        NaT         2020.0   \n",
       "48736          U001  0200759878               SA co 2019-03-11         2019.0   \n",
       "48737          U001  0200865666         RESTAU corp 2019-03-20         2019.0   \n",
       "\n",
       "      document_create_date.1 due_in_date invoice_currency  total_open_amount  \\\n",
       "0                 2019-05-01  2019-05-16              USD            2160.31   \n",
       "1                 2019-09-03  2019-09-18              USD          111586.61   \n",
       "2                 2019-11-11  2019-11-21              CAD           65153.44   \n",
       "3                 2020-05-06  2020-05-21              USD           21634.82   \n",
       "4                 2020-04-22  2020-06-26              USD              31.56   \n",
       "...                      ...         ...              ...                ...   \n",
       "48733             2019-04-11  2019-04-26              USD          184407.56   \n",
       "48734             2019-10-24  2019-11-08              USD           16175.40   \n",
       "48735             2020-04-21  2020-05-06              USD           54791.03   \n",
       "48736             2019-02-23  2019-03-10              USD           73799.96   \n",
       "48737             2019-03-05  2019-03-20              USD           11895.36   \n",
       "\n",
       "      baseline_create_date cust_payment_terms  isOpen  \n",
       "0               2019-05-01               NAA8       0  \n",
       "1               2019-09-03               NAA8       0  \n",
       "2               2019-11-11               CA10       0  \n",
       "3               2020-05-06               NAA8       1  \n",
       "4               2020-04-22               NAGD       1  \n",
       "...                    ...                ...     ...  \n",
       "48733           2019-04-11               NAA8       0  \n",
       "48734           2019-10-24               NAH4       0  \n",
       "48735           2020-04-21               NAH4       1  \n",
       "48736           2019-02-23               NAH4       0  \n",
       "48737           2019-03-05               NAA8       0  \n",
       "\n",
       "[48738 rows x 12 columns]"
      ]
     },
     "execution_count": 33,
     "metadata": {},
     "output_type": "execute_result"
    }
   ],
   "source": [
    "df.drop_duplicates(keep='first', inplace=True)\n",
    "df.reset_index(drop=True, inplace=True)\n",
    "df"
   ]
  },
  {
   "cell_type": "markdown",
   "id": "central-species",
   "metadata": {},
   "source": [
    "# **Target Variable**\n",
    "# *Our Model can't Predict Dates so target column will not be clear_date.*\n",
    "# *We will add delay column as target column where delay = due_in_date - clear_date*"
   ]
  },
  {
   "cell_type": "code",
   "execution_count": 34,
   "id": "toxic-radius",
   "metadata": {},
   "outputs": [],
   "source": [
    "df['delay']=(df['clear_date']-df['due_in_date']).dt.days"
   ]
  },
  {
   "cell_type": "code",
   "execution_count": 35,
   "id": "broke-courage",
   "metadata": {},
   "outputs": [
    {
     "data": {
      "text/html": [
       "<div>\n",
       "<style scoped>\n",
       "    .dataframe tbody tr th:only-of-type {\n",
       "        vertical-align: middle;\n",
       "    }\n",
       "\n",
       "    .dataframe tbody tr th {\n",
       "        vertical-align: top;\n",
       "    }\n",
       "\n",
       "    .dataframe thead th {\n",
       "        text-align: right;\n",
       "    }\n",
       "</style>\n",
       "<table border=\"1\" class=\"dataframe\">\n",
       "  <thead>\n",
       "    <tr style=\"text-align: right;\">\n",
       "      <th></th>\n",
       "      <th>business_code</th>\n",
       "      <th>cust_number</th>\n",
       "      <th>name_customer</th>\n",
       "      <th>clear_date</th>\n",
       "      <th>buisness_year</th>\n",
       "      <th>document_create_date.1</th>\n",
       "      <th>due_in_date</th>\n",
       "      <th>invoice_currency</th>\n",
       "      <th>total_open_amount</th>\n",
       "      <th>baseline_create_date</th>\n",
       "      <th>cust_payment_terms</th>\n",
       "      <th>isOpen</th>\n",
       "      <th>delay</th>\n",
       "    </tr>\n",
       "  </thead>\n",
       "  <tbody>\n",
       "    <tr>\n",
       "      <th>0</th>\n",
       "      <td>U001</td>\n",
       "      <td>0200040366</td>\n",
       "      <td>RASTEL co</td>\n",
       "      <td>2019-05-17</td>\n",
       "      <td>2019.0</td>\n",
       "      <td>2019-05-01</td>\n",
       "      <td>2019-05-16</td>\n",
       "      <td>USD</td>\n",
       "      <td>2160.31</td>\n",
       "      <td>2019-05-01</td>\n",
       "      <td>NAA8</td>\n",
       "      <td>0</td>\n",
       "      <td>1.0</td>\n",
       "    </tr>\n",
       "    <tr>\n",
       "      <th>1</th>\n",
       "      <td>U001</td>\n",
       "      <td>0200707822</td>\n",
       "      <td>PUBLI us</td>\n",
       "      <td>2019-09-18</td>\n",
       "      <td>2019.0</td>\n",
       "      <td>2019-09-03</td>\n",
       "      <td>2019-09-18</td>\n",
       "      <td>USD</td>\n",
       "      <td>111586.61</td>\n",
       "      <td>2019-09-03</td>\n",
       "      <td>NAA8</td>\n",
       "      <td>0</td>\n",
       "      <td>0.0</td>\n",
       "    </tr>\n",
       "    <tr>\n",
       "      <th>2</th>\n",
       "      <td>CA02</td>\n",
       "      <td>0140104409</td>\n",
       "      <td>LOB co</td>\n",
       "      <td>2019-11-22</td>\n",
       "      <td>2019.0</td>\n",
       "      <td>2019-11-11</td>\n",
       "      <td>2019-11-21</td>\n",
       "      <td>CAD</td>\n",
       "      <td>65153.44</td>\n",
       "      <td>2019-11-11</td>\n",
       "      <td>CA10</td>\n",
       "      <td>0</td>\n",
       "      <td>1.0</td>\n",
       "    </tr>\n",
       "    <tr>\n",
       "      <th>3</th>\n",
       "      <td>U001</td>\n",
       "      <td>200390794</td>\n",
       "      <td>CASH-W corporation</td>\n",
       "      <td>NaT</td>\n",
       "      <td>2020.0</td>\n",
       "      <td>2020-05-06</td>\n",
       "      <td>2020-05-21</td>\n",
       "      <td>USD</td>\n",
       "      <td>21634.82</td>\n",
       "      <td>2020-05-06</td>\n",
       "      <td>NAA8</td>\n",
       "      <td>1</td>\n",
       "      <td>NaN</td>\n",
       "    </tr>\n",
       "    <tr>\n",
       "      <th>4</th>\n",
       "      <td>U001</td>\n",
       "      <td>0200418007</td>\n",
       "      <td>AM corporation</td>\n",
       "      <td>NaT</td>\n",
       "      <td>2020.0</td>\n",
       "      <td>2020-04-22</td>\n",
       "      <td>2020-06-26</td>\n",
       "      <td>USD</td>\n",
       "      <td>31.56</td>\n",
       "      <td>2020-04-22</td>\n",
       "      <td>NAGD</td>\n",
       "      <td>1</td>\n",
       "      <td>NaN</td>\n",
       "    </tr>\n",
       "  </tbody>\n",
       "</table>\n",
       "</div>"
      ],
      "text/plain": [
       "  business_code cust_number       name_customer clear_date  buisness_year  \\\n",
       "0          U001  0200040366           RASTEL co 2019-05-17         2019.0   \n",
       "1          U001  0200707822            PUBLI us 2019-09-18         2019.0   \n",
       "2          CA02  0140104409              LOB co 2019-11-22         2019.0   \n",
       "3          U001   200390794  CASH-W corporation        NaT         2020.0   \n",
       "4          U001  0200418007      AM corporation        NaT         2020.0   \n",
       "\n",
       "  document_create_date.1 due_in_date invoice_currency  total_open_amount  \\\n",
       "0             2019-05-01  2019-05-16              USD            2160.31   \n",
       "1             2019-09-03  2019-09-18              USD          111586.61   \n",
       "2             2019-11-11  2019-11-21              CAD           65153.44   \n",
       "3             2020-05-06  2020-05-21              USD           21634.82   \n",
       "4             2020-04-22  2020-06-26              USD              31.56   \n",
       "\n",
       "  baseline_create_date cust_payment_terms  isOpen  delay  \n",
       "0           2019-05-01               NAA8       0    1.0  \n",
       "1           2019-09-03               NAA8       0    0.0  \n",
       "2           2019-11-11               CA10       0    1.0  \n",
       "3           2020-05-06               NAA8       1    NaN  \n",
       "4           2020-04-22               NAGD       1    NaN  "
      ]
     },
     "execution_count": 35,
     "metadata": {},
     "output_type": "execute_result"
    }
   ],
   "source": [
    "df.head()"
   ]
  },
  {
   "cell_type": "markdown",
   "id": "extraordinary-brief",
   "metadata": {},
   "source": [
    "# **Sorting with respect to document_create_date.1**"
   ]
  },
  {
   "cell_type": "code",
   "execution_count": 36,
   "id": "mexican-spice",
   "metadata": {},
   "outputs": [],
   "source": [
    "#So that future date will not be included in Train Dataset\n",
    "df.sort_values(by='document_create_date.1',inplace=True)\n",
    "df.reset_index(drop=True, inplace=True)"
   ]
  },
  {
   "cell_type": "code",
   "execution_count": 37,
   "id": "center-aspect",
   "metadata": {},
   "outputs": [
    {
     "data": {
      "text/html": [
       "<div>\n",
       "<style scoped>\n",
       "    .dataframe tbody tr th:only-of-type {\n",
       "        vertical-align: middle;\n",
       "    }\n",
       "\n",
       "    .dataframe tbody tr th {\n",
       "        vertical-align: top;\n",
       "    }\n",
       "\n",
       "    .dataframe thead th {\n",
       "        text-align: right;\n",
       "    }\n",
       "</style>\n",
       "<table border=\"1\" class=\"dataframe\">\n",
       "  <thead>\n",
       "    <tr style=\"text-align: right;\">\n",
       "      <th></th>\n",
       "      <th>business_code</th>\n",
       "      <th>cust_number</th>\n",
       "      <th>name_customer</th>\n",
       "      <th>clear_date</th>\n",
       "      <th>buisness_year</th>\n",
       "      <th>document_create_date.1</th>\n",
       "      <th>due_in_date</th>\n",
       "      <th>invoice_currency</th>\n",
       "      <th>total_open_amount</th>\n",
       "      <th>baseline_create_date</th>\n",
       "      <th>cust_payment_terms</th>\n",
       "      <th>isOpen</th>\n",
       "      <th>delay</th>\n",
       "    </tr>\n",
       "  </thead>\n",
       "  <tbody>\n",
       "    <tr>\n",
       "      <th>0</th>\n",
       "      <td>U001</td>\n",
       "      <td>0200769623</td>\n",
       "      <td>WAL-MAR co</td>\n",
       "      <td>2019-01-09</td>\n",
       "      <td>2019.0</td>\n",
       "      <td>2018-12-30</td>\n",
       "      <td>2019-01-14</td>\n",
       "      <td>USD</td>\n",
       "      <td>11582.37</td>\n",
       "      <td>2018-12-30</td>\n",
       "      <td>NAH4</td>\n",
       "      <td>0</td>\n",
       "      <td>-5.0</td>\n",
       "    </tr>\n",
       "    <tr>\n",
       "      <th>1</th>\n",
       "      <td>U001</td>\n",
       "      <td>0200741174</td>\n",
       "      <td>M B  trust</td>\n",
       "      <td>2019-02-01</td>\n",
       "      <td>2019.0</td>\n",
       "      <td>2018-12-30</td>\n",
       "      <td>2019-01-31</td>\n",
       "      <td>USD</td>\n",
       "      <td>22776.00</td>\n",
       "      <td>2018-12-30</td>\n",
       "      <td>NA32</td>\n",
       "      <td>0</td>\n",
       "      <td>1.0</td>\n",
       "    </tr>\n",
       "    <tr>\n",
       "      <th>2</th>\n",
       "      <td>U001</td>\n",
       "      <td>0200726979</td>\n",
       "      <td>BJ'S  trust</td>\n",
       "      <td>2019-01-15</td>\n",
       "      <td>2019.0</td>\n",
       "      <td>2018-12-30</td>\n",
       "      <td>2019-01-14</td>\n",
       "      <td>USD</td>\n",
       "      <td>33.18</td>\n",
       "      <td>2018-12-30</td>\n",
       "      <td>NAA8</td>\n",
       "      <td>0</td>\n",
       "      <td>1.0</td>\n",
       "    </tr>\n",
       "    <tr>\n",
       "      <th>3</th>\n",
       "      <td>U001</td>\n",
       "      <td>0200769623</td>\n",
       "      <td>WAL-MAR foundation</td>\n",
       "      <td>2019-01-09</td>\n",
       "      <td>2019.0</td>\n",
       "      <td>2018-12-30</td>\n",
       "      <td>2019-01-14</td>\n",
       "      <td>USD</td>\n",
       "      <td>8286.44</td>\n",
       "      <td>2018-12-30</td>\n",
       "      <td>NAH4</td>\n",
       "      <td>0</td>\n",
       "      <td>-5.0</td>\n",
       "    </tr>\n",
       "    <tr>\n",
       "      <th>4</th>\n",
       "      <td>U001</td>\n",
       "      <td>0100031704</td>\n",
       "      <td>DELHAIZE in</td>\n",
       "      <td>2019-01-14</td>\n",
       "      <td>2019.0</td>\n",
       "      <td>2018-12-30</td>\n",
       "      <td>2019-01-14</td>\n",
       "      <td>USD</td>\n",
       "      <td>81196.56</td>\n",
       "      <td>2018-12-30</td>\n",
       "      <td>NAA8</td>\n",
       "      <td>0</td>\n",
       "      <td>0.0</td>\n",
       "    </tr>\n",
       "    <tr>\n",
       "      <th>...</th>\n",
       "      <td>...</td>\n",
       "      <td>...</td>\n",
       "      <td>...</td>\n",
       "      <td>...</td>\n",
       "      <td>...</td>\n",
       "      <td>...</td>\n",
       "      <td>...</td>\n",
       "      <td>...</td>\n",
       "      <td>...</td>\n",
       "      <td>...</td>\n",
       "      <td>...</td>\n",
       "      <td>...</td>\n",
       "      <td>...</td>\n",
       "    </tr>\n",
       "    <tr>\n",
       "      <th>48733</th>\n",
       "      <td>U001</td>\n",
       "      <td>0200762950</td>\n",
       "      <td>HAR corporation</td>\n",
       "      <td>NaT</td>\n",
       "      <td>2020.0</td>\n",
       "      <td>2020-05-13</td>\n",
       "      <td>2020-05-28</td>\n",
       "      <td>USD</td>\n",
       "      <td>136025.60</td>\n",
       "      <td>2020-05-13</td>\n",
       "      <td>NAA8</td>\n",
       "      <td>1</td>\n",
       "      <td>NaN</td>\n",
       "    </tr>\n",
       "    <tr>\n",
       "      <th>48734</th>\n",
       "      <td>U001</td>\n",
       "      <td>0200915438</td>\n",
       "      <td>GROC corp</td>\n",
       "      <td>NaT</td>\n",
       "      <td>2020.0</td>\n",
       "      <td>2020-05-18</td>\n",
       "      <td>2020-06-02</td>\n",
       "      <td>USD</td>\n",
       "      <td>9291.00</td>\n",
       "      <td>2020-05-18</td>\n",
       "      <td>NAA8</td>\n",
       "      <td>1</td>\n",
       "      <td>NaN</td>\n",
       "    </tr>\n",
       "    <tr>\n",
       "      <th>48735</th>\n",
       "      <td>CA02</td>\n",
       "      <td>0140105785</td>\n",
       "      <td>SHOPPE in</td>\n",
       "      <td>NaT</td>\n",
       "      <td>2020.0</td>\n",
       "      <td>2020-05-19</td>\n",
       "      <td>2020-05-29</td>\n",
       "      <td>CAD</td>\n",
       "      <td>1373.60</td>\n",
       "      <td>2020-05-19</td>\n",
       "      <td>CA10</td>\n",
       "      <td>1</td>\n",
       "      <td>NaN</td>\n",
       "    </tr>\n",
       "    <tr>\n",
       "      <th>48736</th>\n",
       "      <td>U001</td>\n",
       "      <td>0200763229</td>\n",
       "      <td>MAINES llc</td>\n",
       "      <td>NaT</td>\n",
       "      <td>2020.0</td>\n",
       "      <td>2020-05-19</td>\n",
       "      <td>2020-06-03</td>\n",
       "      <td>USD</td>\n",
       "      <td>17544.11</td>\n",
       "      <td>2020-05-19</td>\n",
       "      <td>NAA8</td>\n",
       "      <td>1</td>\n",
       "      <td>NaN</td>\n",
       "    </tr>\n",
       "    <tr>\n",
       "      <th>48737</th>\n",
       "      <td>U001</td>\n",
       "      <td>200956366</td>\n",
       "      <td>RICH systems</td>\n",
       "      <td>NaT</td>\n",
       "      <td>2020.0</td>\n",
       "      <td>2020-05-21</td>\n",
       "      <td>2020-06-05</td>\n",
       "      <td>USD</td>\n",
       "      <td>42360.00</td>\n",
       "      <td>2020-05-21</td>\n",
       "      <td>NAA8</td>\n",
       "      <td>1</td>\n",
       "      <td>NaN</td>\n",
       "    </tr>\n",
       "  </tbody>\n",
       "</table>\n",
       "<p>48738 rows × 13 columns</p>\n",
       "</div>"
      ],
      "text/plain": [
       "      business_code cust_number       name_customer clear_date  buisness_year  \\\n",
       "0              U001  0200769623          WAL-MAR co 2019-01-09         2019.0   \n",
       "1              U001  0200741174          M B  trust 2019-02-01         2019.0   \n",
       "2              U001  0200726979         BJ'S  trust 2019-01-15         2019.0   \n",
       "3              U001  0200769623  WAL-MAR foundation 2019-01-09         2019.0   \n",
       "4              U001  0100031704         DELHAIZE in 2019-01-14         2019.0   \n",
       "...             ...         ...                 ...        ...            ...   \n",
       "48733          U001  0200762950     HAR corporation        NaT         2020.0   \n",
       "48734          U001  0200915438           GROC corp        NaT         2020.0   \n",
       "48735          CA02  0140105785           SHOPPE in        NaT         2020.0   \n",
       "48736          U001  0200763229          MAINES llc        NaT         2020.0   \n",
       "48737          U001   200956366        RICH systems        NaT         2020.0   \n",
       "\n",
       "      document_create_date.1 due_in_date invoice_currency  total_open_amount  \\\n",
       "0                 2018-12-30  2019-01-14              USD           11582.37   \n",
       "1                 2018-12-30  2019-01-31              USD           22776.00   \n",
       "2                 2018-12-30  2019-01-14              USD              33.18   \n",
       "3                 2018-12-30  2019-01-14              USD            8286.44   \n",
       "4                 2018-12-30  2019-01-14              USD           81196.56   \n",
       "...                      ...         ...              ...                ...   \n",
       "48733             2020-05-13  2020-05-28              USD          136025.60   \n",
       "48734             2020-05-18  2020-06-02              USD            9291.00   \n",
       "48735             2020-05-19  2020-05-29              CAD            1373.60   \n",
       "48736             2020-05-19  2020-06-03              USD           17544.11   \n",
       "48737             2020-05-21  2020-06-05              USD           42360.00   \n",
       "\n",
       "      baseline_create_date cust_payment_terms  isOpen  delay  \n",
       "0               2018-12-30               NAH4       0   -5.0  \n",
       "1               2018-12-30               NA32       0    1.0  \n",
       "2               2018-12-30               NAA8       0    1.0  \n",
       "3               2018-12-30               NAH4       0   -5.0  \n",
       "4               2018-12-30               NAA8       0    0.0  \n",
       "...                    ...                ...     ...    ...  \n",
       "48733           2020-05-13               NAA8       1    NaN  \n",
       "48734           2020-05-18               NAA8       1    NaN  \n",
       "48735           2020-05-19               CA10       1    NaN  \n",
       "48736           2020-05-19               NAA8       1    NaN  \n",
       "48737           2020-05-21               NAA8       1    NaN  \n",
       "\n",
       "[48738 rows x 13 columns]"
      ]
     },
     "execution_count": 37,
     "metadata": {},
     "output_type": "execute_result"
    }
   ],
   "source": [
    "df"
   ]
  },
  {
   "cell_type": "markdown",
   "id": "orange-affiliate",
   "metadata": {},
   "source": [
    "# **Splitting - Creating test set on NULL clear_date**"
   ]
  },
  {
   "cell_type": "code",
   "execution_count": 38,
   "id": "played-governor",
   "metadata": {},
   "outputs": [
    {
     "data": {
      "text/html": [
       "<div>\n",
       "<style scoped>\n",
       "    .dataframe tbody tr th:only-of-type {\n",
       "        vertical-align: middle;\n",
       "    }\n",
       "\n",
       "    .dataframe tbody tr th {\n",
       "        vertical-align: top;\n",
       "    }\n",
       "\n",
       "    .dataframe thead th {\n",
       "        text-align: right;\n",
       "    }\n",
       "</style>\n",
       "<table border=\"1\" class=\"dataframe\">\n",
       "  <thead>\n",
       "    <tr style=\"text-align: right;\">\n",
       "      <th></th>\n",
       "      <th>business_code</th>\n",
       "      <th>cust_number</th>\n",
       "      <th>name_customer</th>\n",
       "      <th>clear_date</th>\n",
       "      <th>buisness_year</th>\n",
       "      <th>document_create_date.1</th>\n",
       "      <th>due_in_date</th>\n",
       "      <th>invoice_currency</th>\n",
       "      <th>total_open_amount</th>\n",
       "      <th>baseline_create_date</th>\n",
       "      <th>cust_payment_terms</th>\n",
       "      <th>isOpen</th>\n",
       "      <th>delay</th>\n",
       "    </tr>\n",
       "  </thead>\n",
       "  <tbody>\n",
       "    <tr>\n",
       "      <th>0</th>\n",
       "      <td>U013</td>\n",
       "      <td>0100048689</td>\n",
       "      <td>UNISUP foundation</td>\n",
       "      <td>NaT</td>\n",
       "      <td>2020.0</td>\n",
       "      <td>2020-02-27</td>\n",
       "      <td>2020-03-28</td>\n",
       "      <td>USD</td>\n",
       "      <td>33965.02</td>\n",
       "      <td>2020-02-27</td>\n",
       "      <td>NAVE</td>\n",
       "      <td>1</td>\n",
       "      <td>NaN</td>\n",
       "    </tr>\n",
       "    <tr>\n",
       "      <th>1</th>\n",
       "      <td>U001</td>\n",
       "      <td>0200769623</td>\n",
       "      <td>WAL-MAR associates</td>\n",
       "      <td>NaT</td>\n",
       "      <td>2020.0</td>\n",
       "      <td>2020-02-27</td>\n",
       "      <td>2020-03-13</td>\n",
       "      <td>USD</td>\n",
       "      <td>60792.77</td>\n",
       "      <td>2020-02-27</td>\n",
       "      <td>NAH4</td>\n",
       "      <td>1</td>\n",
       "      <td>NaN</td>\n",
       "    </tr>\n",
       "    <tr>\n",
       "      <th>2</th>\n",
       "      <td>U001</td>\n",
       "      <td>0200726979</td>\n",
       "      <td>BJ'S  systems</td>\n",
       "      <td>NaT</td>\n",
       "      <td>2020.0</td>\n",
       "      <td>2020-02-27</td>\n",
       "      <td>2020-03-13</td>\n",
       "      <td>USD</td>\n",
       "      <td>333.59</td>\n",
       "      <td>2020-02-27</td>\n",
       "      <td>NAA8</td>\n",
       "      <td>1</td>\n",
       "      <td>NaN</td>\n",
       "    </tr>\n",
       "    <tr>\n",
       "      <th>3</th>\n",
       "      <td>U001</td>\n",
       "      <td>0200762301</td>\n",
       "      <td>C&amp;S WH foundation</td>\n",
       "      <td>NaT</td>\n",
       "      <td>2020.0</td>\n",
       "      <td>2020-02-27</td>\n",
       "      <td>2020-03-13</td>\n",
       "      <td>USD</td>\n",
       "      <td>24145.01</td>\n",
       "      <td>2020-02-27</td>\n",
       "      <td>NAC6</td>\n",
       "      <td>1</td>\n",
       "      <td>NaN</td>\n",
       "    </tr>\n",
       "    <tr>\n",
       "      <th>4</th>\n",
       "      <td>U001</td>\n",
       "      <td>0200096390</td>\n",
       "      <td>D systems</td>\n",
       "      <td>NaT</td>\n",
       "      <td>2020.0</td>\n",
       "      <td>2020-02-27</td>\n",
       "      <td>2020-03-13</td>\n",
       "      <td>USD</td>\n",
       "      <td>40215.45</td>\n",
       "      <td>2020-02-27</td>\n",
       "      <td>NAA8</td>\n",
       "      <td>1</td>\n",
       "      <td>NaN</td>\n",
       "    </tr>\n",
       "    <tr>\n",
       "      <th>...</th>\n",
       "      <td>...</td>\n",
       "      <td>...</td>\n",
       "      <td>...</td>\n",
       "      <td>...</td>\n",
       "      <td>...</td>\n",
       "      <td>...</td>\n",
       "      <td>...</td>\n",
       "      <td>...</td>\n",
       "      <td>...</td>\n",
       "      <td>...</td>\n",
       "      <td>...</td>\n",
       "      <td>...</td>\n",
       "      <td>...</td>\n",
       "    </tr>\n",
       "    <tr>\n",
       "      <th>9671</th>\n",
       "      <td>U001</td>\n",
       "      <td>0200762950</td>\n",
       "      <td>HAR corporation</td>\n",
       "      <td>NaT</td>\n",
       "      <td>2020.0</td>\n",
       "      <td>2020-05-13</td>\n",
       "      <td>2020-05-28</td>\n",
       "      <td>USD</td>\n",
       "      <td>136025.60</td>\n",
       "      <td>2020-05-13</td>\n",
       "      <td>NAA8</td>\n",
       "      <td>1</td>\n",
       "      <td>NaN</td>\n",
       "    </tr>\n",
       "    <tr>\n",
       "      <th>9672</th>\n",
       "      <td>U001</td>\n",
       "      <td>0200915438</td>\n",
       "      <td>GROC corp</td>\n",
       "      <td>NaT</td>\n",
       "      <td>2020.0</td>\n",
       "      <td>2020-05-18</td>\n",
       "      <td>2020-06-02</td>\n",
       "      <td>USD</td>\n",
       "      <td>9291.00</td>\n",
       "      <td>2020-05-18</td>\n",
       "      <td>NAA8</td>\n",
       "      <td>1</td>\n",
       "      <td>NaN</td>\n",
       "    </tr>\n",
       "    <tr>\n",
       "      <th>9673</th>\n",
       "      <td>CA02</td>\n",
       "      <td>0140105785</td>\n",
       "      <td>SHOPPE in</td>\n",
       "      <td>NaT</td>\n",
       "      <td>2020.0</td>\n",
       "      <td>2020-05-19</td>\n",
       "      <td>2020-05-29</td>\n",
       "      <td>CAD</td>\n",
       "      <td>1373.60</td>\n",
       "      <td>2020-05-19</td>\n",
       "      <td>CA10</td>\n",
       "      <td>1</td>\n",
       "      <td>NaN</td>\n",
       "    </tr>\n",
       "    <tr>\n",
       "      <th>9674</th>\n",
       "      <td>U001</td>\n",
       "      <td>0200763229</td>\n",
       "      <td>MAINES llc</td>\n",
       "      <td>NaT</td>\n",
       "      <td>2020.0</td>\n",
       "      <td>2020-05-19</td>\n",
       "      <td>2020-06-03</td>\n",
       "      <td>USD</td>\n",
       "      <td>17544.11</td>\n",
       "      <td>2020-05-19</td>\n",
       "      <td>NAA8</td>\n",
       "      <td>1</td>\n",
       "      <td>NaN</td>\n",
       "    </tr>\n",
       "    <tr>\n",
       "      <th>9675</th>\n",
       "      <td>U001</td>\n",
       "      <td>200956366</td>\n",
       "      <td>RICH systems</td>\n",
       "      <td>NaT</td>\n",
       "      <td>2020.0</td>\n",
       "      <td>2020-05-21</td>\n",
       "      <td>2020-06-05</td>\n",
       "      <td>USD</td>\n",
       "      <td>42360.00</td>\n",
       "      <td>2020-05-21</td>\n",
       "      <td>NAA8</td>\n",
       "      <td>1</td>\n",
       "      <td>NaN</td>\n",
       "    </tr>\n",
       "  </tbody>\n",
       "</table>\n",
       "<p>9676 rows × 13 columns</p>\n",
       "</div>"
      ],
      "text/plain": [
       "     business_code cust_number       name_customer clear_date  buisness_year  \\\n",
       "0             U013  0100048689   UNISUP foundation        NaT         2020.0   \n",
       "1             U001  0200769623  WAL-MAR associates        NaT         2020.0   \n",
       "2             U001  0200726979       BJ'S  systems        NaT         2020.0   \n",
       "3             U001  0200762301   C&S WH foundation        NaT         2020.0   \n",
       "4             U001  0200096390           D systems        NaT         2020.0   \n",
       "...            ...         ...                 ...        ...            ...   \n",
       "9671          U001  0200762950     HAR corporation        NaT         2020.0   \n",
       "9672          U001  0200915438           GROC corp        NaT         2020.0   \n",
       "9673          CA02  0140105785           SHOPPE in        NaT         2020.0   \n",
       "9674          U001  0200763229          MAINES llc        NaT         2020.0   \n",
       "9675          U001   200956366        RICH systems        NaT         2020.0   \n",
       "\n",
       "     document_create_date.1 due_in_date invoice_currency  total_open_amount  \\\n",
       "0                2020-02-27  2020-03-28              USD           33965.02   \n",
       "1                2020-02-27  2020-03-13              USD           60792.77   \n",
       "2                2020-02-27  2020-03-13              USD             333.59   \n",
       "3                2020-02-27  2020-03-13              USD           24145.01   \n",
       "4                2020-02-27  2020-03-13              USD           40215.45   \n",
       "...                     ...         ...              ...                ...   \n",
       "9671             2020-05-13  2020-05-28              USD          136025.60   \n",
       "9672             2020-05-18  2020-06-02              USD            9291.00   \n",
       "9673             2020-05-19  2020-05-29              CAD            1373.60   \n",
       "9674             2020-05-19  2020-06-03              USD           17544.11   \n",
       "9675             2020-05-21  2020-06-05              USD           42360.00   \n",
       "\n",
       "     baseline_create_date cust_payment_terms  isOpen  delay  \n",
       "0              2020-02-27               NAVE       1    NaN  \n",
       "1              2020-02-27               NAH4       1    NaN  \n",
       "2              2020-02-27               NAA8       1    NaN  \n",
       "3              2020-02-27               NAC6       1    NaN  \n",
       "4              2020-02-27               NAA8       1    NaN  \n",
       "...                   ...                ...     ...    ...  \n",
       "9671           2020-05-13               NAA8       1    NaN  \n",
       "9672           2020-05-18               NAA8       1    NaN  \n",
       "9673           2020-05-19               CA10       1    NaN  \n",
       "9674           2020-05-19               NAA8       1    NaN  \n",
       "9675           2020-05-21               NAA8       1    NaN  \n",
       "\n",
       "[9676 rows x 13 columns]"
      ]
     },
     "execution_count": 38,
     "metadata": {},
     "output_type": "execute_result"
    }
   ],
   "source": [
    "testData = df[df.clear_date.isnull()].reset_index()\n",
    "testData.drop(columns=['index'], inplace=True)\n",
    "testData"
   ]
  },
  {
   "cell_type": "markdown",
   "id": "developing-pennsylvania",
   "metadata": {},
   "source": [
    "# **X_Test**"
   ]
  },
  {
   "cell_type": "code",
   "execution_count": 39,
   "id": "earlier-identity",
   "metadata": {},
   "outputs": [
    {
     "data": {
      "text/html": [
       "<div>\n",
       "<style scoped>\n",
       "    .dataframe tbody tr th:only-of-type {\n",
       "        vertical-align: middle;\n",
       "    }\n",
       "\n",
       "    .dataframe tbody tr th {\n",
       "        vertical-align: top;\n",
       "    }\n",
       "\n",
       "    .dataframe thead th {\n",
       "        text-align: right;\n",
       "    }\n",
       "</style>\n",
       "<table border=\"1\" class=\"dataframe\">\n",
       "  <thead>\n",
       "    <tr style=\"text-align: right;\">\n",
       "      <th></th>\n",
       "      <th>business_code</th>\n",
       "      <th>cust_number</th>\n",
       "      <th>name_customer</th>\n",
       "      <th>clear_date</th>\n",
       "      <th>buisness_year</th>\n",
       "      <th>document_create_date.1</th>\n",
       "      <th>due_in_date</th>\n",
       "      <th>invoice_currency</th>\n",
       "      <th>total_open_amount</th>\n",
       "      <th>baseline_create_date</th>\n",
       "      <th>cust_payment_terms</th>\n",
       "      <th>isOpen</th>\n",
       "    </tr>\n",
       "  </thead>\n",
       "  <tbody>\n",
       "    <tr>\n",
       "      <th>0</th>\n",
       "      <td>U013</td>\n",
       "      <td>0100048689</td>\n",
       "      <td>UNISUP foundation</td>\n",
       "      <td>NaT</td>\n",
       "      <td>2020.0</td>\n",
       "      <td>2020-02-27</td>\n",
       "      <td>2020-03-28</td>\n",
       "      <td>USD</td>\n",
       "      <td>33965.02</td>\n",
       "      <td>2020-02-27</td>\n",
       "      <td>NAVE</td>\n",
       "      <td>1</td>\n",
       "    </tr>\n",
       "    <tr>\n",
       "      <th>1</th>\n",
       "      <td>U001</td>\n",
       "      <td>0200769623</td>\n",
       "      <td>WAL-MAR associates</td>\n",
       "      <td>NaT</td>\n",
       "      <td>2020.0</td>\n",
       "      <td>2020-02-27</td>\n",
       "      <td>2020-03-13</td>\n",
       "      <td>USD</td>\n",
       "      <td>60792.77</td>\n",
       "      <td>2020-02-27</td>\n",
       "      <td>NAH4</td>\n",
       "      <td>1</td>\n",
       "    </tr>\n",
       "    <tr>\n",
       "      <th>2</th>\n",
       "      <td>U001</td>\n",
       "      <td>0200726979</td>\n",
       "      <td>BJ'S  systems</td>\n",
       "      <td>NaT</td>\n",
       "      <td>2020.0</td>\n",
       "      <td>2020-02-27</td>\n",
       "      <td>2020-03-13</td>\n",
       "      <td>USD</td>\n",
       "      <td>333.59</td>\n",
       "      <td>2020-02-27</td>\n",
       "      <td>NAA8</td>\n",
       "      <td>1</td>\n",
       "    </tr>\n",
       "    <tr>\n",
       "      <th>3</th>\n",
       "      <td>U001</td>\n",
       "      <td>0200762301</td>\n",
       "      <td>C&amp;S WH foundation</td>\n",
       "      <td>NaT</td>\n",
       "      <td>2020.0</td>\n",
       "      <td>2020-02-27</td>\n",
       "      <td>2020-03-13</td>\n",
       "      <td>USD</td>\n",
       "      <td>24145.01</td>\n",
       "      <td>2020-02-27</td>\n",
       "      <td>NAC6</td>\n",
       "      <td>1</td>\n",
       "    </tr>\n",
       "    <tr>\n",
       "      <th>4</th>\n",
       "      <td>U001</td>\n",
       "      <td>0200096390</td>\n",
       "      <td>D systems</td>\n",
       "      <td>NaT</td>\n",
       "      <td>2020.0</td>\n",
       "      <td>2020-02-27</td>\n",
       "      <td>2020-03-13</td>\n",
       "      <td>USD</td>\n",
       "      <td>40215.45</td>\n",
       "      <td>2020-02-27</td>\n",
       "      <td>NAA8</td>\n",
       "      <td>1</td>\n",
       "    </tr>\n",
       "    <tr>\n",
       "      <th>...</th>\n",
       "      <td>...</td>\n",
       "      <td>...</td>\n",
       "      <td>...</td>\n",
       "      <td>...</td>\n",
       "      <td>...</td>\n",
       "      <td>...</td>\n",
       "      <td>...</td>\n",
       "      <td>...</td>\n",
       "      <td>...</td>\n",
       "      <td>...</td>\n",
       "      <td>...</td>\n",
       "      <td>...</td>\n",
       "    </tr>\n",
       "    <tr>\n",
       "      <th>9671</th>\n",
       "      <td>U001</td>\n",
       "      <td>0200762950</td>\n",
       "      <td>HAR corporation</td>\n",
       "      <td>NaT</td>\n",
       "      <td>2020.0</td>\n",
       "      <td>2020-05-13</td>\n",
       "      <td>2020-05-28</td>\n",
       "      <td>USD</td>\n",
       "      <td>136025.60</td>\n",
       "      <td>2020-05-13</td>\n",
       "      <td>NAA8</td>\n",
       "      <td>1</td>\n",
       "    </tr>\n",
       "    <tr>\n",
       "      <th>9672</th>\n",
       "      <td>U001</td>\n",
       "      <td>0200915438</td>\n",
       "      <td>GROC corp</td>\n",
       "      <td>NaT</td>\n",
       "      <td>2020.0</td>\n",
       "      <td>2020-05-18</td>\n",
       "      <td>2020-06-02</td>\n",
       "      <td>USD</td>\n",
       "      <td>9291.00</td>\n",
       "      <td>2020-05-18</td>\n",
       "      <td>NAA8</td>\n",
       "      <td>1</td>\n",
       "    </tr>\n",
       "    <tr>\n",
       "      <th>9673</th>\n",
       "      <td>CA02</td>\n",
       "      <td>0140105785</td>\n",
       "      <td>SHOPPE in</td>\n",
       "      <td>NaT</td>\n",
       "      <td>2020.0</td>\n",
       "      <td>2020-05-19</td>\n",
       "      <td>2020-05-29</td>\n",
       "      <td>CAD</td>\n",
       "      <td>1373.60</td>\n",
       "      <td>2020-05-19</td>\n",
       "      <td>CA10</td>\n",
       "      <td>1</td>\n",
       "    </tr>\n",
       "    <tr>\n",
       "      <th>9674</th>\n",
       "      <td>U001</td>\n",
       "      <td>0200763229</td>\n",
       "      <td>MAINES llc</td>\n",
       "      <td>NaT</td>\n",
       "      <td>2020.0</td>\n",
       "      <td>2020-05-19</td>\n",
       "      <td>2020-06-03</td>\n",
       "      <td>USD</td>\n",
       "      <td>17544.11</td>\n",
       "      <td>2020-05-19</td>\n",
       "      <td>NAA8</td>\n",
       "      <td>1</td>\n",
       "    </tr>\n",
       "    <tr>\n",
       "      <th>9675</th>\n",
       "      <td>U001</td>\n",
       "      <td>200956366</td>\n",
       "      <td>RICH systems</td>\n",
       "      <td>NaT</td>\n",
       "      <td>2020.0</td>\n",
       "      <td>2020-05-21</td>\n",
       "      <td>2020-06-05</td>\n",
       "      <td>USD</td>\n",
       "      <td>42360.00</td>\n",
       "      <td>2020-05-21</td>\n",
       "      <td>NAA8</td>\n",
       "      <td>1</td>\n",
       "    </tr>\n",
       "  </tbody>\n",
       "</table>\n",
       "<p>9676 rows × 12 columns</p>\n",
       "</div>"
      ],
      "text/plain": [
       "     business_code cust_number       name_customer clear_date  buisness_year  \\\n",
       "0             U013  0100048689   UNISUP foundation        NaT         2020.0   \n",
       "1             U001  0200769623  WAL-MAR associates        NaT         2020.0   \n",
       "2             U001  0200726979       BJ'S  systems        NaT         2020.0   \n",
       "3             U001  0200762301   C&S WH foundation        NaT         2020.0   \n",
       "4             U001  0200096390           D systems        NaT         2020.0   \n",
       "...            ...         ...                 ...        ...            ...   \n",
       "9671          U001  0200762950     HAR corporation        NaT         2020.0   \n",
       "9672          U001  0200915438           GROC corp        NaT         2020.0   \n",
       "9673          CA02  0140105785           SHOPPE in        NaT         2020.0   \n",
       "9674          U001  0200763229          MAINES llc        NaT         2020.0   \n",
       "9675          U001   200956366        RICH systems        NaT         2020.0   \n",
       "\n",
       "     document_create_date.1 due_in_date invoice_currency  total_open_amount  \\\n",
       "0                2020-02-27  2020-03-28              USD           33965.02   \n",
       "1                2020-02-27  2020-03-13              USD           60792.77   \n",
       "2                2020-02-27  2020-03-13              USD             333.59   \n",
       "3                2020-02-27  2020-03-13              USD           24145.01   \n",
       "4                2020-02-27  2020-03-13              USD           40215.45   \n",
       "...                     ...         ...              ...                ...   \n",
       "9671             2020-05-13  2020-05-28              USD          136025.60   \n",
       "9672             2020-05-18  2020-06-02              USD            9291.00   \n",
       "9673             2020-05-19  2020-05-29              CAD            1373.60   \n",
       "9674             2020-05-19  2020-06-03              USD           17544.11   \n",
       "9675             2020-05-21  2020-06-05              USD           42360.00   \n",
       "\n",
       "     baseline_create_date cust_payment_terms  isOpen  \n",
       "0              2020-02-27               NAVE       1  \n",
       "1              2020-02-27               NAH4       1  \n",
       "2              2020-02-27               NAA8       1  \n",
       "3              2020-02-27               NAC6       1  \n",
       "4              2020-02-27               NAA8       1  \n",
       "...                   ...                ...     ...  \n",
       "9671           2020-05-13               NAA8       1  \n",
       "9672           2020-05-18               NAA8       1  \n",
       "9673           2020-05-19               CA10       1  \n",
       "9674           2020-05-19               NAA8       1  \n",
       "9675           2020-05-21               NAA8       1  \n",
       "\n",
       "[9676 rows x 12 columns]"
      ]
     },
     "execution_count": 39,
     "metadata": {},
     "output_type": "execute_result"
    }
   ],
   "source": [
    "x_test = testData.iloc[:,0:12]\n",
    "x_test"
   ]
  },
  {
   "cell_type": "markdown",
   "id": "collective-martin",
   "metadata": {},
   "source": [
    "# **Y_Test**"
   ]
  },
  {
   "cell_type": "code",
   "execution_count": 40,
   "id": "wicked-mystery",
   "metadata": {},
   "outputs": [
    {
     "data": {
      "text/plain": [
       "0      NaN\n",
       "1      NaN\n",
       "2      NaN\n",
       "3      NaN\n",
       "4      NaN\n",
       "        ..\n",
       "9671   NaN\n",
       "9672   NaN\n",
       "9673   NaN\n",
       "9674   NaN\n",
       "9675   NaN\n",
       "Name: delay, Length: 9676, dtype: float64"
      ]
     },
     "execution_count": 40,
     "metadata": {},
     "output_type": "execute_result"
    }
   ],
   "source": [
    "y_test = testData.iloc[:,-1]\n",
    "y_test"
   ]
  },
  {
   "cell_type": "markdown",
   "id": "imported-diameter",
   "metadata": {},
   "source": [
    "# **Creating Train Set**"
   ]
  },
  {
   "cell_type": "code",
   "execution_count": 41,
   "id": "happy-exercise",
   "metadata": {},
   "outputs": [
    {
     "data": {
      "text/html": [
       "<div>\n",
       "<style scoped>\n",
       "    .dataframe tbody tr th:only-of-type {\n",
       "        vertical-align: middle;\n",
       "    }\n",
       "\n",
       "    .dataframe tbody tr th {\n",
       "        vertical-align: top;\n",
       "    }\n",
       "\n",
       "    .dataframe thead th {\n",
       "        text-align: right;\n",
       "    }\n",
       "</style>\n",
       "<table border=\"1\" class=\"dataframe\">\n",
       "  <thead>\n",
       "    <tr style=\"text-align: right;\">\n",
       "      <th></th>\n",
       "      <th>business_code</th>\n",
       "      <th>cust_number</th>\n",
       "      <th>name_customer</th>\n",
       "      <th>clear_date</th>\n",
       "      <th>buisness_year</th>\n",
       "      <th>document_create_date.1</th>\n",
       "      <th>due_in_date</th>\n",
       "      <th>invoice_currency</th>\n",
       "      <th>total_open_amount</th>\n",
       "      <th>baseline_create_date</th>\n",
       "      <th>cust_payment_terms</th>\n",
       "      <th>isOpen</th>\n",
       "      <th>delay</th>\n",
       "    </tr>\n",
       "  </thead>\n",
       "  <tbody>\n",
       "    <tr>\n",
       "      <th>0</th>\n",
       "      <td>U001</td>\n",
       "      <td>0200769623</td>\n",
       "      <td>WAL-MAR co</td>\n",
       "      <td>2019-01-09</td>\n",
       "      <td>2019.0</td>\n",
       "      <td>2018-12-30</td>\n",
       "      <td>2019-01-14</td>\n",
       "      <td>USD</td>\n",
       "      <td>11582.37</td>\n",
       "      <td>2018-12-30</td>\n",
       "      <td>NAH4</td>\n",
       "      <td>0</td>\n",
       "      <td>-5.0</td>\n",
       "    </tr>\n",
       "    <tr>\n",
       "      <th>1</th>\n",
       "      <td>U001</td>\n",
       "      <td>0200741174</td>\n",
       "      <td>M B  trust</td>\n",
       "      <td>2019-02-01</td>\n",
       "      <td>2019.0</td>\n",
       "      <td>2018-12-30</td>\n",
       "      <td>2019-01-31</td>\n",
       "      <td>USD</td>\n",
       "      <td>22776.00</td>\n",
       "      <td>2018-12-30</td>\n",
       "      <td>NA32</td>\n",
       "      <td>0</td>\n",
       "      <td>1.0</td>\n",
       "    </tr>\n",
       "    <tr>\n",
       "      <th>2</th>\n",
       "      <td>U001</td>\n",
       "      <td>0200726979</td>\n",
       "      <td>BJ'S  trust</td>\n",
       "      <td>2019-01-15</td>\n",
       "      <td>2019.0</td>\n",
       "      <td>2018-12-30</td>\n",
       "      <td>2019-01-14</td>\n",
       "      <td>USD</td>\n",
       "      <td>33.18</td>\n",
       "      <td>2018-12-30</td>\n",
       "      <td>NAA8</td>\n",
       "      <td>0</td>\n",
       "      <td>1.0</td>\n",
       "    </tr>\n",
       "    <tr>\n",
       "      <th>3</th>\n",
       "      <td>U001</td>\n",
       "      <td>0200769623</td>\n",
       "      <td>WAL-MAR foundation</td>\n",
       "      <td>2019-01-09</td>\n",
       "      <td>2019.0</td>\n",
       "      <td>2018-12-30</td>\n",
       "      <td>2019-01-14</td>\n",
       "      <td>USD</td>\n",
       "      <td>8286.44</td>\n",
       "      <td>2018-12-30</td>\n",
       "      <td>NAH4</td>\n",
       "      <td>0</td>\n",
       "      <td>-5.0</td>\n",
       "    </tr>\n",
       "    <tr>\n",
       "      <th>4</th>\n",
       "      <td>U001</td>\n",
       "      <td>0100031704</td>\n",
       "      <td>DELHAIZE in</td>\n",
       "      <td>2019-01-14</td>\n",
       "      <td>2019.0</td>\n",
       "      <td>2018-12-30</td>\n",
       "      <td>2019-01-14</td>\n",
       "      <td>USD</td>\n",
       "      <td>81196.56</td>\n",
       "      <td>2018-12-30</td>\n",
       "      <td>NAA8</td>\n",
       "      <td>0</td>\n",
       "      <td>0.0</td>\n",
       "    </tr>\n",
       "    <tr>\n",
       "      <th>...</th>\n",
       "      <td>...</td>\n",
       "      <td>...</td>\n",
       "      <td>...</td>\n",
       "      <td>...</td>\n",
       "      <td>...</td>\n",
       "      <td>...</td>\n",
       "      <td>...</td>\n",
       "      <td>...</td>\n",
       "      <td>...</td>\n",
       "      <td>...</td>\n",
       "      <td>...</td>\n",
       "      <td>...</td>\n",
       "      <td>...</td>\n",
       "    </tr>\n",
       "    <tr>\n",
       "      <th>39057</th>\n",
       "      <td>CA02</td>\n",
       "      <td>0140104392</td>\n",
       "      <td>FLANAG systems</td>\n",
       "      <td>2020-03-10</td>\n",
       "      <td>2020.0</td>\n",
       "      <td>2020-02-27</td>\n",
       "      <td>2020-03-09</td>\n",
       "      <td>CAD</td>\n",
       "      <td>58200.54</td>\n",
       "      <td>2020-02-28</td>\n",
       "      <td>CA10</td>\n",
       "      <td>0</td>\n",
       "      <td>1.0</td>\n",
       "    </tr>\n",
       "    <tr>\n",
       "      <th>39058</th>\n",
       "      <td>U001</td>\n",
       "      <td>0200739534</td>\n",
       "      <td>OK</td>\n",
       "      <td>2020-03-13</td>\n",
       "      <td>2020.0</td>\n",
       "      <td>2020-02-27</td>\n",
       "      <td>2020-03-13</td>\n",
       "      <td>USD</td>\n",
       "      <td>29964.80</td>\n",
       "      <td>2020-02-27</td>\n",
       "      <td>NAA8</td>\n",
       "      <td>0</td>\n",
       "      <td>0.0</td>\n",
       "    </tr>\n",
       "    <tr>\n",
       "      <th>39059</th>\n",
       "      <td>U001</td>\n",
       "      <td>0200794332</td>\n",
       "      <td>COST trust</td>\n",
       "      <td>2020-03-12</td>\n",
       "      <td>2020.0</td>\n",
       "      <td>2020-02-27</td>\n",
       "      <td>2020-03-13</td>\n",
       "      <td>USD</td>\n",
       "      <td>38586.43</td>\n",
       "      <td>2020-02-27</td>\n",
       "      <td>NAAX</td>\n",
       "      <td>0</td>\n",
       "      <td>-1.0</td>\n",
       "    </tr>\n",
       "    <tr>\n",
       "      <th>39060</th>\n",
       "      <td>CA02</td>\n",
       "      <td>0140106408</td>\n",
       "      <td>WAL-M us</td>\n",
       "      <td>2020-03-20</td>\n",
       "      <td>2020.0</td>\n",
       "      <td>2020-02-27</td>\n",
       "      <td>2020-03-09</td>\n",
       "      <td>CAD</td>\n",
       "      <td>2878.29</td>\n",
       "      <td>2020-02-28</td>\n",
       "      <td>CA10</td>\n",
       "      <td>0</td>\n",
       "      <td>11.0</td>\n",
       "    </tr>\n",
       "    <tr>\n",
       "      <th>39061</th>\n",
       "      <td>U001</td>\n",
       "      <td>0200290370</td>\n",
       "      <td>BARGAIN  corp</td>\n",
       "      <td>2020-03-16</td>\n",
       "      <td>2020.0</td>\n",
       "      <td>2020-02-27</td>\n",
       "      <td>2020-03-13</td>\n",
       "      <td>USD</td>\n",
       "      <td>3599.97</td>\n",
       "      <td>2020-02-27</td>\n",
       "      <td>NAA8</td>\n",
       "      <td>0</td>\n",
       "      <td>3.0</td>\n",
       "    </tr>\n",
       "  </tbody>\n",
       "</table>\n",
       "<p>39062 rows × 13 columns</p>\n",
       "</div>"
      ],
      "text/plain": [
       "      business_code cust_number       name_customer clear_date  buisness_year  \\\n",
       "0              U001  0200769623          WAL-MAR co 2019-01-09         2019.0   \n",
       "1              U001  0200741174          M B  trust 2019-02-01         2019.0   \n",
       "2              U001  0200726979         BJ'S  trust 2019-01-15         2019.0   \n",
       "3              U001  0200769623  WAL-MAR foundation 2019-01-09         2019.0   \n",
       "4              U001  0100031704         DELHAIZE in 2019-01-14         2019.0   \n",
       "...             ...         ...                 ...        ...            ...   \n",
       "39057          CA02  0140104392      FLANAG systems 2020-03-10         2020.0   \n",
       "39058          U001  0200739534                 OK  2020-03-13         2020.0   \n",
       "39059          U001  0200794332          COST trust 2020-03-12         2020.0   \n",
       "39060          CA02  0140106408            WAL-M us 2020-03-20         2020.0   \n",
       "39061          U001  0200290370       BARGAIN  corp 2020-03-16         2020.0   \n",
       "\n",
       "      document_create_date.1 due_in_date invoice_currency  total_open_amount  \\\n",
       "0                 2018-12-30  2019-01-14              USD           11582.37   \n",
       "1                 2018-12-30  2019-01-31              USD           22776.00   \n",
       "2                 2018-12-30  2019-01-14              USD              33.18   \n",
       "3                 2018-12-30  2019-01-14              USD            8286.44   \n",
       "4                 2018-12-30  2019-01-14              USD           81196.56   \n",
       "...                      ...         ...              ...                ...   \n",
       "39057             2020-02-27  2020-03-09              CAD           58200.54   \n",
       "39058             2020-02-27  2020-03-13              USD           29964.80   \n",
       "39059             2020-02-27  2020-03-13              USD           38586.43   \n",
       "39060             2020-02-27  2020-03-09              CAD            2878.29   \n",
       "39061             2020-02-27  2020-03-13              USD            3599.97   \n",
       "\n",
       "      baseline_create_date cust_payment_terms  isOpen  delay  \n",
       "0               2018-12-30               NAH4       0   -5.0  \n",
       "1               2018-12-30               NA32       0    1.0  \n",
       "2               2018-12-30               NAA8       0    1.0  \n",
       "3               2018-12-30               NAH4       0   -5.0  \n",
       "4               2018-12-30               NAA8       0    0.0  \n",
       "...                    ...                ...     ...    ...  \n",
       "39057           2020-02-28               CA10       0    1.0  \n",
       "39058           2020-02-27               NAA8       0    0.0  \n",
       "39059           2020-02-27               NAAX       0   -1.0  \n",
       "39060           2020-02-28               CA10       0   11.0  \n",
       "39061           2020-02-27               NAA8       0    3.0  \n",
       "\n",
       "[39062 rows x 13 columns]"
      ]
     },
     "execution_count": 41,
     "metadata": {},
     "output_type": "execute_result"
    }
   ],
   "source": [
    "trainData = df[df.clear_date.notnull()].reset_index()\n",
    "trainData.drop(columns=['index'], inplace=True)\n",
    "trainData"
   ]
  },
  {
   "cell_type": "markdown",
   "id": "narrative-village",
   "metadata": {},
   "source": [
    "# **Main_Train --> (Train, Validation)**\n",
    "## Train - For Model Training\n",
    "## Validation - For Model Tuning"
   ]
  },
  {
   "cell_type": "code",
   "execution_count": 42,
   "id": "brutal-intellectual",
   "metadata": {},
   "outputs": [
    {
     "data": {
      "text/plain": [
       "((31249, 12), (31249,), (7813, 12), (7813,))"
      ]
     },
     "execution_count": 42,
     "metadata": {},
     "output_type": "execute_result"
    }
   ],
   "source": [
    "X = trainData.drop(columns = ['delay'])\n",
    "Y = trainData['delay']\n",
    "\n",
    "X_train, X_valid, Y_train, Y_valid = train_test_split(X,Y, train_size=0.8)\n",
    "\n",
    "X_train.shape, Y_train.shape, X_valid.shape, Y_valid.shape"
   ]
  },
  {
   "cell_type": "markdown",
   "id": "identical-pixel",
   "metadata": {},
   "source": [
    "# **EDA**"
   ]
  },
  {
   "cell_type": "code",
   "execution_count": 43,
   "id": "detailed-country",
   "metadata": {},
   "outputs": [
    {
     "name": "stdout",
     "output_type": "stream",
     "text": [
      "<class 'pandas.core.frame.DataFrame'>\n",
      "Int64Index: 31249 entries, 9075 to 34044\n",
      "Data columns (total 12 columns):\n",
      " #   Column                  Non-Null Count  Dtype         \n",
      "---  ------                  --------------  -----         \n",
      " 0   business_code           31249 non-null  object        \n",
      " 1   cust_number             31249 non-null  object        \n",
      " 2   name_customer           31249 non-null  object        \n",
      " 3   clear_date              31249 non-null  datetime64[ns]\n",
      " 4   buisness_year           31249 non-null  float64       \n",
      " 5   document_create_date.1  31249 non-null  datetime64[ns]\n",
      " 6   due_in_date             31249 non-null  datetime64[ns]\n",
      " 7   invoice_currency        31249 non-null  object        \n",
      " 8   total_open_amount       31249 non-null  float64       \n",
      " 9   baseline_create_date    31249 non-null  datetime64[ns]\n",
      " 10  cust_payment_terms      31249 non-null  object        \n",
      " 11  isOpen                  31249 non-null  int64         \n",
      "dtypes: datetime64[ns](4), float64(2), int64(1), object(5)\n",
      "memory usage: 3.1+ MB\n"
     ]
    }
   ],
   "source": [
    "X_train.info()"
   ]
  },
  {
   "cell_type": "markdown",
   "id": "solved-celebration",
   "metadata": {},
   "source": [
    "## **business_code**\n",
    "Business Code"
   ]
  },
  {
   "cell_type": "code",
   "execution_count": 44,
   "id": "expanded-manor",
   "metadata": {},
   "outputs": [
    {
     "data": {
      "text/plain": [
       "U001    28324\n",
       "CA02     2432\n",
       "U013      386\n",
       "U002       98\n",
       "U005        8\n",
       "U007        1\n",
       "Name: business_code, dtype: int64"
      ]
     },
     "execution_count": 44,
     "metadata": {},
     "output_type": "execute_result"
    }
   ],
   "source": [
    "X_train['business_code'].value_counts()"
   ]
  },
  {
   "cell_type": "code",
   "execution_count": 45,
   "id": "sunrise-transcript",
   "metadata": {},
   "outputs": [
    {
     "data": {
      "text/plain": [
       "<AxesSubplot:xlabel='business_code', ylabel='count'>"
      ]
     },
     "execution_count": 45,
     "metadata": {},
     "output_type": "execute_result"
    },
    {
     "data": {
      "image/png": "[encoded data removed]",
      "text/plain": [
       "<Figure size 432x288 with 1 Axes>"
      ]
     },
     "metadata": {
      "needs_background": "light"
     },
     "output_type": "display_data"
    }
   ],
   "source": [
    "sns.countplot(x = X_train['business_code'])"
   ]
  },
  {
   "cell_type": "markdown",
   "id": "experienced-brunswick",
   "metadata": {},
   "source": [
    "## **cust_number**\n",
    "Customer Number given to all the customers"
   ]
  },
  {
   "cell_type": "code",
   "execution_count": 46,
   "id": "serious-singing",
   "metadata": {},
   "outputs": [
    {
     "data": {
      "text/plain": [
       "0200769623    6875\n",
       "0200726979    1188\n",
       "0200762301     918\n",
       "0200759878     840\n",
       "0200794332     690\n",
       "              ... \n",
       "0100043910       1\n",
       "100054539        1\n",
       "0100051489       1\n",
       "0200803125       1\n",
       "0100051976       1\n",
       "Name: cust_number, Length: 1256, dtype: int64"
      ]
     },
     "execution_count": 46,
     "metadata": {},
     "output_type": "execute_result"
    }
   ],
   "source": [
    "X_train['cust_number'].value_counts()"
   ]
  },
  {
   "cell_type": "markdown",
   "id": "crude-seeker",
   "metadata": {},
   "source": [
    "## **name_customer**\n",
    "Name of the Customer."
   ]
  },
  {
   "cell_type": "code",
   "execution_count": 47,
   "id": "exclusive-holiday",
   "metadata": {},
   "outputs": [
    {
     "data": {
      "text/plain": [
       "WAL-MAR co             712\n",
       "WAL-MAR trust          691\n",
       "WAL-MAR associates     690\n",
       "WAL-MAR systems        682\n",
       "WAL-MAR in             677\n",
       "                      ... \n",
       "MASSY D corporation      1\n",
       "ATLANTA  systems         1\n",
       "DIS trust                1\n",
       "PARAM                    1\n",
       "TRO in                   1\n",
       "Name: name_customer, Length: 3521, dtype: int64"
      ]
     },
     "execution_count": 47,
     "metadata": {},
     "output_type": "execute_result"
    }
   ],
   "source": [
    "X_train['name_customer'].value_counts()"
   ]
  },
  {
   "cell_type": "markdown",
   "id": "iraqi-title",
   "metadata": {},
   "source": [
    "## **clear_date**\n",
    "The date on which the customer make the full payment."
   ]
  },
  {
   "cell_type": "code",
   "execution_count": 48,
   "id": "noble-configuration",
   "metadata": {},
   "outputs": [
    {
     "data": {
      "text/plain": [
       "Timestamp('2019-01-03 00:00:00')"
      ]
     },
     "execution_count": 48,
     "metadata": {},
     "output_type": "execute_result"
    }
   ],
   "source": [
    "X_train['clear_date'].min()"
   ]
  },
  {
   "cell_type": "code",
   "execution_count": 49,
   "id": "expired-threshold",
   "metadata": {},
   "outputs": [
    {
     "data": {
      "text/plain": [
       "Timestamp('2020-05-21 00:00:00')"
      ]
     },
     "execution_count": 49,
     "metadata": {},
     "output_type": "execute_result"
    }
   ],
   "source": [
    "X_train['clear_date'].max()"
   ]
  },
  {
   "cell_type": "code",
   "execution_count": 50,
   "id": "lightweight-generation",
   "metadata": {},
   "outputs": [
    {
     "name": "stdout",
     "output_type": "stream",
     "text": [
      "clear_date ranges between : 504 days 00:00:00\n"
     ]
    }
   ],
   "source": [
    "diff = (X_train['clear_date'].max() - X_train['clear_date'].min());\n",
    "print(\"clear_date ranges between : \"+str(diff))"
   ]
  },
  {
   "cell_type": "code",
   "execution_count": 51,
   "id": "preliminary-static",
   "metadata": {},
   "outputs": [
    {
     "data": {
      "text/plain": [
       "2     3736\n",
       "3     3198\n",
       "5     2701\n",
       "4     2649\n",
       "12    2590\n",
       "11    2511\n",
       "10    2413\n",
       "7     2411\n",
       "8     2390\n",
       "9     2272\n",
       "1     2221\n",
       "6     2157\n",
       "Name: clear_date, dtype: int64"
      ]
     },
     "execution_count": 51,
     "metadata": {},
     "output_type": "execute_result"
    }
   ],
   "source": [
    "#clear_month\n",
    "clear_month = X_train['clear_date'].dt.month\n",
    "clear_month.value_counts()"
   ]
  },
  {
   "cell_type": "code",
   "execution_count": 52,
   "id": "french-expression",
   "metadata": {},
   "outputs": [
    {
     "data": {
      "image/png": "[encoded data removed]",
      "text/plain": [
       "<Figure size 432x288 with 1 Axes>"
      ]
     },
     "metadata": {
      "needs_background": "light"
     },
     "output_type": "display_data"
    }
   ],
   "source": [
    "ax = sns.countplot(x = clear_month)\n",
    "ax.set(xlabel='clear_month', ylabel='count')\n",
    "plt.show()"
   ]
  },
  {
   "cell_type": "markdown",
   "id": "friendly-nicaragua",
   "metadata": {},
   "source": [
    "# **business_year**\n",
    "Indicates the year of Clear Date"
   ]
  },
  {
   "cell_type": "code",
   "execution_count": 53,
   "id": "agricultural-arkansas",
   "metadata": {},
   "outputs": [
    {
     "data": {
      "text/plain": [
       "2019.0    27184\n",
       "2020.0     4065\n",
       "Name: buisness_year, dtype: int64"
      ]
     },
     "execution_count": 53,
     "metadata": {},
     "output_type": "execute_result"
    }
   ],
   "source": [
    "X_train['buisness_year'].value_counts()"
   ]
  },
  {
   "cell_type": "code",
   "execution_count": 54,
   "id": "similar-canon",
   "metadata": {},
   "outputs": [
    {
     "data": {
      "text/plain": [
       "<AxesSubplot:xlabel='buisness_year', ylabel='count'>"
      ]
     },
     "execution_count": 54,
     "metadata": {},
     "output_type": "execute_result"
    },
    {
     "data": {
      "image/png": "[encoded data removed]",
      "text/plain": [
       "<Figure size 432x288 with 1 Axes>"
      ]
     },
     "metadata": {
      "needs_background": "light"
     },
     "output_type": "display_data"
    }
   ],
   "source": [
    "sns.countplot(x = X_train['buisness_year'])"
   ]
  },
  {
   "cell_type": "markdown",
   "id": "sticky-brown",
   "metadata": {},
   "source": [
    "# **document_create_date.1**\n",
    "The date on which the invoice document was created"
   ]
  },
  {
   "cell_type": "code",
   "execution_count": 55,
   "id": "crucial-efficiency",
   "metadata": {},
   "outputs": [
    {
     "data": {
      "text/plain": [
       "Timestamp('2018-12-30 00:00:00')"
      ]
     },
     "execution_count": 55,
     "metadata": {},
     "output_type": "execute_result"
    }
   ],
   "source": [
    "X_train[\"document_create_date.1\"].min()"
   ]
  },
  {
   "cell_type": "code",
   "execution_count": 56,
   "id": "hydraulic-philip",
   "metadata": {},
   "outputs": [
    {
     "data": {
      "text/plain": [
       "Timestamp('2020-02-27 00:00:00')"
      ]
     },
     "execution_count": 56,
     "metadata": {},
     "output_type": "execute_result"
    }
   ],
   "source": [
    "X_train[\"document_create_date.1\"].max()"
   ]
  },
  {
   "cell_type": "code",
   "execution_count": 57,
   "id": "utility-mailing",
   "metadata": {},
   "outputs": [
    {
     "data": {
      "text/plain": [
       "Timedelta('424 days 00:00:00')"
      ]
     },
     "execution_count": 57,
     "metadata": {},
     "output_type": "execute_result"
    }
   ],
   "source": [
    "diff = X_train[\"document_create_date.1\"].max() - X_train[\"document_create_date.1\"].min()\n",
    "diff"
   ]
  },
  {
   "cell_type": "markdown",
   "id": "composed-jordan",
   "metadata": {},
   "source": [
    "# **due_in_date**\n",
    "The last date for payment"
   ]
  },
  {
   "cell_type": "code",
   "execution_count": 58,
   "id": "theoretical-clear",
   "metadata": {},
   "outputs": [
    {
     "data": {
      "text/plain": [
       "Timestamp('2018-03-18 00:00:00')"
      ]
     },
     "execution_count": 58,
     "metadata": {},
     "output_type": "execute_result"
    }
   ],
   "source": [
    "X_train['due_in_date'].min()"
   ]
  },
  {
   "cell_type": "code",
   "execution_count": 59,
   "id": "martial-october",
   "metadata": {},
   "outputs": [
    {
     "data": {
      "text/plain": [
       "Timestamp('2020-06-24 00:00:00')"
      ]
     },
     "execution_count": 59,
     "metadata": {},
     "output_type": "execute_result"
    }
   ],
   "source": [
    "X_train['due_in_date'].max()"
   ]
  },
  {
   "cell_type": "code",
   "execution_count": 60,
   "id": "generic-radiation",
   "metadata": {},
   "outputs": [
    {
     "data": {
      "text/plain": [
       "Timedelta('829 days 00:00:00')"
      ]
     },
     "execution_count": 60,
     "metadata": {},
     "output_type": "execute_result"
    }
   ],
   "source": [
    "diff = (X_train['due_in_date'].max() - X_train['due_in_date'].min());\n",
    "diff"
   ]
  },
  {
   "cell_type": "code",
   "execution_count": 61,
   "id": "exterior-mattress",
   "metadata": {},
   "outputs": [
    {
     "data": {
      "text/plain": [
       "2     3881\n",
       "3     3239\n",
       "5     2595\n",
       "4     2582\n",
       "11    2544\n",
       "10    2416\n",
       "12    2364\n",
       "7     2363\n",
       "8     2357\n",
       "6     2322\n",
       "1     2320\n",
       "9     2266\n",
       "Name: due_in_date, dtype: int64"
      ]
     },
     "execution_count": 61,
     "metadata": {},
     "output_type": "execute_result"
    }
   ],
   "source": [
    "due_month = X_train['due_in_date'].dt.month\n",
    "due_month.value_counts()"
   ]
  },
  {
   "cell_type": "code",
   "execution_count": 62,
   "id": "limiting-updating",
   "metadata": {},
   "outputs": [
    {
     "data": {
      "image/png": "[encoded data removed]",
      "text/plain": [
       "<Figure size 432x288 with 1 Axes>"
      ]
     },
     "metadata": {
      "needs_background": "light"
     },
     "output_type": "display_data"
    }
   ],
   "source": [
    "ax = sns.countplot(x = due_month)\n",
    "ax.set(xlabel='due_month', ylabel='count')\n",
    "plt.show()"
   ]
  },
  {
   "cell_type": "markdown",
   "id": "registered-affairs",
   "metadata": {},
   "source": [
    "# **invoice_currency**"
   ]
  },
  {
   "cell_type": "code",
   "execution_count": 63,
   "id": "metric-october",
   "metadata": {},
   "outputs": [
    {
     "data": {
      "text/plain": [
       "USD    28817\n",
       "CAD     2432\n",
       "Name: invoice_currency, dtype: int64"
      ]
     },
     "execution_count": 63,
     "metadata": {},
     "output_type": "execute_result"
    }
   ],
   "source": [
    "X_train[\"invoice_currency\"].value_counts()"
   ]
  },
  {
   "cell_type": "markdown",
   "id": "coastal-montreal",
   "metadata": {},
   "source": [
    "As there are two currencies, we can convert either one them. However, as there is not much difference between USD and CAD, there is not much use of converting them."
   ]
  },
  {
   "cell_type": "markdown",
   "id": "demographic-riding",
   "metadata": {},
   "source": [
    "# **total_open_amount**"
   ]
  },
  {
   "cell_type": "markdown",
   "id": "taken-capacity",
   "metadata": {},
   "source": [
    "The amount that is to be paid for that invoice"
   ]
  },
  {
   "cell_type": "code",
   "execution_count": 64,
   "id": "collected-potential",
   "metadata": {},
   "outputs": [
    {
     "data": {
      "text/plain": [
       "count      31249.000000\n",
       "mean       32343.922137\n",
       "std        41258.094951\n",
       "min            0.790000\n",
       "25%         4679.260000\n",
       "50%        17283.500000\n",
       "75%        46589.690000\n",
       "max      1501474.160000\n",
       "Name: total_open_amount, dtype: object"
      ]
     },
     "execution_count": 64,
     "metadata": {},
     "output_type": "execute_result"
    }
   ],
   "source": [
    "X_train['total_open_amount'].describe().apply(lambda x: format(x,'f'))"
   ]
  },
  {
   "cell_type": "markdown",
   "id": "assisted-visiting",
   "metadata": {},
   "source": [
    "# **baseline_create_date**\n",
    "The date on which the Invoice was created."
   ]
  },
  {
   "cell_type": "code",
   "execution_count": 65,
   "id": "fixed-desire",
   "metadata": {},
   "outputs": [
    {
     "name": "stdout",
     "output_type": "stream",
     "text": [
      "Number of Similar Dates : 34769\n",
      "Number of Non-Similar Dates : 4293\n"
     ]
    }
   ],
   "source": [
    "count=0\n",
    "count1=0\n",
    "for row in range (trainData.shape[0]):\n",
    "    if(trainData['document_create_date.1'][row] == trainData['baseline_create_date'][row]):\n",
    "        count = count + 1;\n",
    "    else:\n",
    "        count1 = count1 + 1;\n",
    "print(\"Number of Similar Dates : \"+str(count))\n",
    "print(\"Number of Non-Similar Dates : \"+str(count1))"
   ]
  },
  {
   "cell_type": "markdown",
   "id": "designed-savage",
   "metadata": {},
   "source": [
    "Baseline create date and document create date are same except if the company is Canadian.\n",
    "It's not that important to our model so we'll drop it"
   ]
  },
  {
   "cell_type": "markdown",
   "id": "essential-objective",
   "metadata": {},
   "source": [
    "# **cust_payment_terms**"
   ]
  },
  {
   "cell_type": "code",
   "execution_count": 66,
   "id": "conventional-process",
   "metadata": {},
   "outputs": [
    {
     "data": {
      "text/plain": [
       "NAA8    12629\n",
       "NAH4     8187\n",
       "CA10     2365\n",
       "NAC6     1048\n",
       "NAM4      858\n",
       "        ...  \n",
       "NA8Q        1\n",
       "CAX2        1\n",
       "NATV        1\n",
       "90M7        1\n",
       "NATM        1\n",
       "Name: cust_payment_terms, Length: 64, dtype: int64"
      ]
     },
     "execution_count": 66,
     "metadata": {},
     "output_type": "execute_result"
    }
   ],
   "source": [
    "X_train['cust_payment_terms'].value_counts()"
   ]
  },
  {
   "cell_type": "markdown",
   "id": "cross-moore",
   "metadata": {},
   "source": [
    "# **isOpen**\n",
    "Tells whether a transaction is open or closed"
   ]
  },
  {
   "cell_type": "code",
   "execution_count": 67,
   "id": "ordered-restaurant",
   "metadata": {},
   "outputs": [
    {
     "data": {
      "text/plain": [
       "0    31249\n",
       "Name: isOpen, dtype: int64"
      ]
     },
     "execution_count": 67,
     "metadata": {},
     "output_type": "execute_result"
    }
   ],
   "source": [
    "X_train.isOpen.value_counts()"
   ]
  },
  {
   "cell_type": "markdown",
   "id": "great-stand",
   "metadata": {},
   "source": [
    "# **Delay**\n",
    "The negative delay specifies that the amount was cleared before the due date and thus there was no delay. Therefore we have replace the negative values with 0"
   ]
  },
  {
   "cell_type": "code",
   "execution_count": 68,
   "id": "veterinary-trash",
   "metadata": {},
   "outputs": [
    {
     "name": "stdout",
     "output_type": "stream",
     "text": [
      "14328\n"
     ]
    }
   ],
   "source": [
    "count=0\n",
    "for row in range(trainData.shape[0]):\n",
    "    if (trainData['delay'][row] < 0):\n",
    "        count = count + 1\n",
    "print(count)"
   ]
  },
  {
   "cell_type": "code",
   "execution_count": 69,
   "id": "available-ribbon",
   "metadata": {},
   "outputs": [],
   "source": [
    "trainData['delay'] = trainData.delay.apply(lambda x: 0 if x<0 else x)"
   ]
  },
  {
   "cell_type": "code",
   "execution_count": 70,
   "id": "selective-roulette",
   "metadata": {},
   "outputs": [
    {
     "name": "stdout",
     "output_type": "stream",
     "text": [
      "0\n"
     ]
    }
   ],
   "source": [
    "count=0\n",
    "for row in range(trainData.shape[0]):\n",
    "    if (trainData['delay'][row] < 0):\n",
    "        count = count + 1\n",
    "print(count)"
   ]
  },
  {
   "cell_type": "code",
   "execution_count": 71,
   "id": "still-broadcasting",
   "metadata": {},
   "outputs": [
    {
     "data": {
      "text/plain": [
       "count    39062.000000\n",
       "mean         2.700195\n",
       "std          9.275545\n",
       "min          0.000000\n",
       "25%          0.000000\n",
       "50%          0.000000\n",
       "75%          2.000000\n",
       "max        442.000000\n",
       "Name: delay, dtype: float64"
      ]
     },
     "execution_count": 71,
     "metadata": {},
     "output_type": "execute_result"
    }
   ],
   "source": [
    "trainData.delay.describe()"
   ]
  },
  {
   "cell_type": "code",
   "execution_count": 72,
   "id": "lucky-edmonton",
   "metadata": {},
   "outputs": [
    {
     "data": {
      "text/plain": [
       "<AxesSubplot:xlabel='delay', ylabel='Density'>"
      ]
     },
     "execution_count": 72,
     "metadata": {},
     "output_type": "execute_result"
    },
    {
     "data": {
      "image/png": "[encoded data removed]",
      "text/plain": [
       "<Figure size 432x288 with 1 Axes>"
      ]
     },
     "metadata": {
      "needs_background": "light"
     },
     "output_type": "display_data"
    }
   ],
   "source": [
    "sns.distplot(Y_train)"
   ]
  },
  {
   "cell_type": "markdown",
   "id": "fifty-hungary",
   "metadata": {},
   "source": [
    "# **Multivariate Analysis**\n",
    "### **Relation b/w business_code with invoice_currency**"
   ]
  },
  {
   "cell_type": "code",
   "execution_count": 73,
   "id": "wooden-workstation",
   "metadata": {},
   "outputs": [
    {
     "data": {
      "text/plain": [
       "USD    36045\n",
       "CAD     3017\n",
       "Name: invoice_currency, dtype: int64"
      ]
     },
     "execution_count": 73,
     "metadata": {},
     "output_type": "execute_result"
    }
   ],
   "source": [
    "trainData['invoice_currency'].value_counts()"
   ]
  },
  {
   "cell_type": "code",
   "execution_count": 74,
   "id": "sticky-mountain",
   "metadata": {},
   "outputs": [
    {
     "data": {
      "text/plain": [
       "invoice_currency  business_code\n",
       "CAD               CA02              3017\n",
       "USD               U001             35430\n",
       "                  U013               490\n",
       "                  U002               114\n",
       "                  U005                 9\n",
       "                  U007                 2\n",
       "Name: business_code, dtype: int64"
      ]
     },
     "execution_count": 74,
     "metadata": {},
     "output_type": "execute_result"
    }
   ],
   "source": [
    "trainData.groupby(\"invoice_currency\").business_code.value_counts()"
   ]
  },
  {
   "cell_type": "markdown",
   "id": "adjacent-assurance",
   "metadata": {},
   "source": [
    "## **Delay Bin**"
   ]
  },
  {
   "cell_type": "code",
   "execution_count": 75,
   "id": "confirmed-animal",
   "metadata": {},
   "outputs": [],
   "source": [
    "delay_bins = [0,15,30,45,60]\n",
    "delay_bucket = pd.cut(Y_train, bins = delay_bins)"
   ]
  },
  {
   "cell_type": "markdown",
   "id": "satisfactory-wildlife",
   "metadata": {},
   "source": [
    "## **Amount Bin**"
   ]
  },
  {
   "cell_type": "code",
   "execution_count": 76,
   "id": "direct-melissa",
   "metadata": {},
   "outputs": [],
   "source": [
    "amount_bins = [0,5000,10000,50000,100000,1100000]\n",
    "new_open_amount_bin = pd.cut(X_train['total_open_amount'], bins = amount_bins)"
   ]
  },
  {
   "cell_type": "code",
   "execution_count": 77,
   "id": "electrical-warrant",
   "metadata": {},
   "outputs": [
    {
     "data": {
      "text/html": [
       "<div>\n",
       "<style scoped>\n",
       "    .dataframe tbody tr th:only-of-type {\n",
       "        vertical-align: middle;\n",
       "    }\n",
       "\n",
       "    .dataframe tbody tr th {\n",
       "        vertical-align: top;\n",
       "    }\n",
       "\n",
       "    .dataframe thead th {\n",
       "        text-align: right;\n",
       "    }\n",
       "</style>\n",
       "<table border=\"1\" class=\"dataframe\">\n",
       "  <thead>\n",
       "    <tr style=\"text-align: right;\">\n",
       "      <th>delay</th>\n",
       "      <th>(0, 15]</th>\n",
       "      <th>(15, 30]</th>\n",
       "      <th>(30, 45]</th>\n",
       "      <th>(45, 60]</th>\n",
       "    </tr>\n",
       "    <tr>\n",
       "      <th>total_open_amount</th>\n",
       "      <th></th>\n",
       "      <th></th>\n",
       "      <th></th>\n",
       "      <th></th>\n",
       "    </tr>\n",
       "  </thead>\n",
       "  <tbody>\n",
       "    <tr>\n",
       "      <th>(0, 5000]</th>\n",
       "      <td>2703</td>\n",
       "      <td>85</td>\n",
       "      <td>76</td>\n",
       "      <td>72</td>\n",
       "    </tr>\n",
       "    <tr>\n",
       "      <th>(5000, 10000]</th>\n",
       "      <td>1256</td>\n",
       "      <td>47</td>\n",
       "      <td>40</td>\n",
       "      <td>29</td>\n",
       "    </tr>\n",
       "    <tr>\n",
       "      <th>(10000, 50000]</th>\n",
       "      <td>5057</td>\n",
       "      <td>244</td>\n",
       "      <td>167</td>\n",
       "      <td>87</td>\n",
       "    </tr>\n",
       "    <tr>\n",
       "      <th>(50000, 100000]</th>\n",
       "      <td>2050</td>\n",
       "      <td>57</td>\n",
       "      <td>16</td>\n",
       "      <td>11</td>\n",
       "    </tr>\n",
       "    <tr>\n",
       "      <th>(100000, 1100000]</th>\n",
       "      <td>951</td>\n",
       "      <td>16</td>\n",
       "      <td>12</td>\n",
       "      <td>7</td>\n",
       "    </tr>\n",
       "  </tbody>\n",
       "</table>\n",
       "</div>"
      ],
      "text/plain": [
       "delay              (0, 15]  (15, 30]  (30, 45]  (45, 60]\n",
       "total_open_amount                                       \n",
       "(0, 5000]             2703        85        76        72\n",
       "(5000, 10000]         1256        47        40        29\n",
       "(10000, 50000]        5057       244       167        87\n",
       "(50000, 100000]       2050        57        16        11\n",
       "(100000, 1100000]      951        16        12         7"
      ]
     },
     "execution_count": 77,
     "metadata": {},
     "output_type": "execute_result"
    }
   ],
   "source": [
    "pd.crosstab(index = new_open_amount_bin, columns =delay_bucket)"
   ]
  },
  {
   "cell_type": "code",
   "execution_count": 78,
   "id": "duplicate-desktop",
   "metadata": {},
   "outputs": [
    {
     "data": {
      "text/plain": [
       "<AxesSubplot:xlabel='total_open_amount', ylabel='count'>"
      ]
     },
     "execution_count": 78,
     "metadata": {},
     "output_type": "execute_result"
    },
    {
     "data": {
      "image/png": "[encoded data removed]",
      "text/plain": [
       "<Figure size 720x432 with 1 Axes>"
      ]
     },
     "metadata": {
      "needs_background": "light"
     },
     "output_type": "display_data"
    }
   ],
   "source": [
    "plt.figure(figsize=(10,6))\n",
    "plt.xlabel(\"Amount bin\")\n",
    "sns.countplot(x = new_open_amount_bin, hue=delay_bucket)"
   ]
  },
  {
   "cell_type": "code",
   "execution_count": 79,
   "id": "secure-browse",
   "metadata": {},
   "outputs": [
    {
     "data": {
      "text/plain": [
       "<seaborn.axisgrid.PairGrid at 0x28a0ead7d00>"
      ]
     },
     "execution_count": 79,
     "metadata": {},
     "output_type": "execute_result"
    },
    {
     "data": {
      "image/png": "[encoded data removed]",
      "text/plain": [
       "<Figure size 900x900 with 30 Axes>"
      ]
     },
     "metadata": {
      "needs_background": "light"
     },
     "output_type": "display_data"
    }
   ],
   "source": [
    "sns.pairplot(X_train.merge(Y_train, on=X_train.index))"
   ]
  },
  {
   "cell_type": "markdown",
   "id": "revised-contents",
   "metadata": {},
   "source": [
    "# **Feature Engineering**"
   ]
  },
  {
   "cell_type": "code",
   "execution_count": 80,
   "id": "indoor-turning",
   "metadata": {},
   "outputs": [],
   "source": [
    "X_train.drop(columns=[ 'name_customer','buisness_year','invoice_currency','baseline_create_date', 'isOpen'], inplace=True)\n",
    "X_valid.drop(columns=['name_customer','buisness_year','invoice_currency','baseline_create_date', 'isOpen'], inplace=True)\n",
    "x_test.drop(columns=['name_customer','buisness_year','invoice_currency','baseline_create_date', 'isOpen'], inplace=True)"
   ]
  },
  {
   "cell_type": "code",
   "execution_count": 81,
   "id": "foreign-kingdom",
   "metadata": {},
   "outputs": [
    {
     "data": {
      "text/plain": [
       "((31249, 7), (7813, 7), (9676, 7))"
      ]
     },
     "execution_count": 81,
     "metadata": {},
     "output_type": "execute_result"
    }
   ],
   "source": [
    "X_train.shape, X_valid.shape, x_test.shape"
   ]
  },
  {
   "cell_type": "code",
   "execution_count": 82,
   "id": "instrumental-blowing",
   "metadata": {},
   "outputs": [
    {
     "name": "stdout",
     "output_type": "stream",
     "text": [
      "<class 'pandas.core.frame.DataFrame'>\n",
      "Int64Index: 31249 entries, 9075 to 34044\n",
      "Data columns (total 7 columns):\n",
      " #   Column                  Non-Null Count  Dtype         \n",
      "---  ------                  --------------  -----         \n",
      " 0   business_code           31249 non-null  object        \n",
      " 1   clear_date              31249 non-null  datetime64[ns]\n",
      " 2   document_create_date.1  31249 non-null  datetime64[ns]\n",
      " 3   due_in_date             31249 non-null  datetime64[ns]\n",
      " 4   total_open_amount       31249 non-null  float64       \n",
      " 5   cust_payment_terms      31249 non-null  object        \n",
      " 6   cust_num                31249 non-null  float64       \n",
      "dtypes: datetime64[ns](3), float64(2), object(2)\n",
      "memory usage: 2.9+ MB\n"
     ]
    }
   ],
   "source": [
    "X_train['cust_num'] = X_train['cust_number'].str.extract('(\\d+)')\n",
    "x_test['cust_num'] = x_test['cust_number'].str.extract('(\\d+)')\n",
    "X_valid['cust_num'] = X_valid['cust_number'].str.extract('(\\d+)')\n",
    "X_train.drop('cust_number',axis=1,inplace=True)\n",
    "x_test.drop('cust_number',axis=1,inplace=True)\n",
    "X_valid.drop('cust_number',axis=1,inplace=True)\n",
    "X_train['cust_num']=X_train['cust_num'].astype(str).astype(float)\n",
    "x_test['cust_num']=x_test['cust_num'].astype(str).astype(float)\n",
    "X_valid['cust_num']=X_valid['cust_num'].astype(str).astype(float)\n",
    "X_train.info()"
   ]
  },
  {
   "cell_type": "code",
   "execution_count": 83,
   "id": "informal-valentine",
   "metadata": {},
   "outputs": [],
   "source": [
    "#Encoding Business Code\n",
    "buss_code= LabelEncoder()\n",
    "buss_code.fit(X_train['business_code'])\n",
    "X_train['buss_code']=buss_code.transform(X_train['business_code'])\n",
    "X_valid['buss_code']=buss_code.transform(X_valid['business_code'])\n",
    "x_test['buss_code']=buss_code.transform(x_test['business_code'])"
   ]
  },
  {
   "cell_type": "code",
   "execution_count": 84,
   "id": "signed-uzbekistan",
   "metadata": {},
   "outputs": [],
   "source": [
    "#Encoding Customer Payment Terms\n",
    "cpt= LabelEncoder()\n",
    "cpt.fit(X_train['cust_payment_terms'])\n",
    "X_train['cpt']=cpt.transform(X_train['cust_payment_terms'])\n",
    "cpt.fit(x_test['cust_payment_terms'])\n",
    "x_test['cpt']=cpt.transform(x_test['cust_payment_terms'])\n",
    "cpt.fit(X_valid['cust_payment_terms'])\n",
    "X_valid['cpt']=cpt.transform(X_valid['cust_payment_terms'])\n",
    "X_train.drop('cust_payment_terms',axis=1,inplace=True)\n",
    "x_test.drop('cust_payment_terms',axis=1,inplace=True)\n",
    "X_valid.drop('cust_payment_terms',axis=1,inplace=True)"
   ]
  },
  {
   "cell_type": "code",
   "execution_count": 85,
   "id": "fleet-protein",
   "metadata": {},
   "outputs": [],
   "source": [
    "#Document Create Date\n",
    "X_train[\"doc_crt_day\"] = X_train[\"document_create_date.1\"].dt.day\n",
    "x_test[\"doc_crt_day\"] = x_test[\"document_create_date.1\"].dt.day\n",
    "X_valid[\"doc_crt_day\"] = X_valid[\"document_create_date.1\"].dt.day\n",
    "\n",
    "X_train[\"doc_crt_month\"] = X_train[\"document_create_date.1\"].dt.month\n",
    "x_test[\"doc_crt_month\"] = x_test[\"document_create_date.1\"].dt.month\n",
    "X_valid[\"doc_crt_month\"] = X_valid[\"document_create_date.1\"].dt.month"
   ]
  },
  {
   "cell_type": "code",
   "execution_count": 86,
   "id": "suspended-optics",
   "metadata": {},
   "outputs": [],
   "source": [
    "#Due Date\n",
    "X_train[\"due_day\"] = X_train[\"due_in_date\"].dt.day\n",
    "x_test[\"due_day\"] = x_test[\"due_in_date\"].dt.day\n",
    "X_valid[\"due_day\"] = X_valid[\"due_in_date\"].dt.day\n",
    "\n",
    "X_train[\"due_month\"] = X_train[\"due_in_date\"].dt.month\n",
    "x_test[\"due_month\"] = x_test[\"due_in_date\"].dt.month\n",
    "X_valid[\"due_month\"] = X_valid[\"due_in_date\"].dt.month"
   ]
  },
  {
   "cell_type": "code",
   "execution_count": 87,
   "id": "sexual-toilet",
   "metadata": {},
   "outputs": [],
   "source": [
    "X_train.drop(columns=['clear_date', 'document_create_date.1', 'due_in_date'], inplace=True)\n",
    "x_test.drop(columns=['clear_date', 'document_create_date.1', 'due_in_date'], inplace=True)\n",
    "X_valid.drop(columns=['clear_date', 'document_create_date.1', 'due_in_date'], inplace=True)\n",
    "X_train.drop('business_code',axis=1,inplace=True)\n",
    "x_test.drop('business_code',axis=1,inplace=True)\n",
    "X_valid.drop('business_code',axis=1,inplace=True)"
   ]
  },
  {
   "cell_type": "code",
   "execution_count": 88,
   "id": "organizational-corner",
   "metadata": {},
   "outputs": [
    {
     "name": "stdout",
     "output_type": "stream",
     "text": [
      "<class 'pandas.core.frame.DataFrame'>\n",
      "Int64Index: 31249 entries, 9075 to 34044\n",
      "Data columns (total 8 columns):\n",
      " #   Column             Non-Null Count  Dtype  \n",
      "---  ------             --------------  -----  \n",
      " 0   total_open_amount  31249 non-null  float64\n",
      " 1   cust_num           31249 non-null  float64\n",
      " 2   buss_code          31249 non-null  int32  \n",
      " 3   cpt                31249 non-null  int32  \n",
      " 4   doc_crt_day        31249 non-null  int64  \n",
      " 5   doc_crt_month      31249 non-null  int64  \n",
      " 6   due_day            31249 non-null  int64  \n",
      " 7   due_month          31249 non-null  int64  \n",
      "dtypes: float64(2), int32(2), int64(4)\n",
      "memory usage: 2.9 MB\n"
     ]
    }
   ],
   "source": [
    "X_train.info()"
   ]
  },
  {
   "cell_type": "code",
   "execution_count": 89,
   "id": "certain-television",
   "metadata": {},
   "outputs": [
    {
     "name": "stdout",
     "output_type": "stream",
     "text": [
      "<class 'pandas.core.frame.DataFrame'>\n",
      "RangeIndex: 9676 entries, 0 to 9675\n",
      "Data columns (total 8 columns):\n",
      " #   Column             Non-Null Count  Dtype  \n",
      "---  ------             --------------  -----  \n",
      " 0   total_open_amount  9676 non-null   float64\n",
      " 1   cust_num           9676 non-null   float64\n",
      " 2   buss_code          9676 non-null   int32  \n",
      " 3   cpt                9676 non-null   int32  \n",
      " 4   doc_crt_day        9676 non-null   int64  \n",
      " 5   doc_crt_month      9676 non-null   int64  \n",
      " 6   due_day            9676 non-null   int64  \n",
      " 7   due_month          9676 non-null   int64  \n",
      "dtypes: float64(2), int32(2), int64(4)\n",
      "memory usage: 529.3 KB\n"
     ]
    }
   ],
   "source": [
    "x_test.info()"
   ]
  },
  {
   "cell_type": "code",
   "execution_count": 90,
   "id": "proprietary-gabriel",
   "metadata": {},
   "outputs": [
    {
     "name": "stdout",
     "output_type": "stream",
     "text": [
      "<class 'pandas.core.frame.DataFrame'>\n",
      "Int64Index: 7813 entries, 20149 to 32730\n",
      "Data columns (total 8 columns):\n",
      " #   Column             Non-Null Count  Dtype  \n",
      "---  ------             --------------  -----  \n",
      " 0   total_open_amount  7813 non-null   float64\n",
      " 1   cust_num           7813 non-null   float64\n",
      " 2   buss_code          7813 non-null   int32  \n",
      " 3   cpt                7813 non-null   int32  \n",
      " 4   doc_crt_day        7813 non-null   int64  \n",
      " 5   doc_crt_month      7813 non-null   int64  \n",
      " 6   due_day            7813 non-null   int64  \n",
      " 7   due_month          7813 non-null   int64  \n",
      "dtypes: float64(2), int32(2), int64(4)\n",
      "memory usage: 488.3 KB\n"
     ]
    }
   ],
   "source": [
    "X_valid.info()"
   ]
  },
  {
   "cell_type": "markdown",
   "id": "proud-philip",
   "metadata": {},
   "source": [
    "# **Feature Selection**"
   ]
  },
  {
   "cell_type": "code",
   "execution_count": 91,
   "id": "after-fitting",
   "metadata": {},
   "outputs": [
    {
     "data": {
      "text/plain": [
       "<AxesSubplot:>"
      ]
     },
     "execution_count": 91,
     "metadata": {},
     "output_type": "execute_result"
    },
    {
     "data": {
      "image/png": "[encoded data removed]",
      "text/plain": [
       "<Figure size 864x720 with 2 Axes>"
      ]
     },
     "metadata": {
      "needs_background": "light"
     },
     "output_type": "display_data"
    }
   ],
   "source": [
    "plt.figure(figsize=(12,10))\n",
    "cor = X_train.merge(Y_train, on=X_train.index).corr()\n",
    "sns.heatmap(cor,cmap = 'viridis',annot=True)"
   ]
  },
  {
   "cell_type": "markdown",
   "id": "beautiful-lafayette",
   "metadata": {},
   "source": [
    "As we can see from the above graph due_month and doc_create_month are highly correlated and thus they will have a negative impact on our model. So drop remove due_month."
   ]
  },
  {
   "cell_type": "code",
   "execution_count": 92,
   "id": "seeing-architecture",
   "metadata": {},
   "outputs": [],
   "source": [
    "X_train = X_train.drop([\"due_month\"], axis=1).copy()\n",
    "X_valid = X_valid.drop([\"due_month\"], axis=1).copy()\n",
    "x_test = x_test.drop([\"due_month\"], axis=1).copy()"
   ]
  },
  {
   "cell_type": "code",
   "execution_count": 93,
   "id": "annoying-renaissance",
   "metadata": {},
   "outputs": [],
   "source": [
    "Y_train=Y_train.apply(lambda x: 0 if x<0 else x)\n",
    "Y_valid=Y_valid.apply(lambda x: 0 if x<0 else x)"
   ]
  },
  {
   "cell_type": "markdown",
   "id": "compound-wilderness",
   "metadata": {},
   "source": [
    "# **Modelling**"
   ]
  },
  {
   "cell_type": "code",
   "execution_count": 94,
   "id": "ordered-playback",
   "metadata": {},
   "outputs": [
    {
     "data": {
      "text/plain": [
       "LinearRegression()"
      ]
     },
     "execution_count": 94,
     "metadata": {},
     "output_type": "execute_result"
    }
   ],
   "source": [
    "base_model=LinearRegression()\n",
    "base_model.fit(X_train, Y_train)"
   ]
  },
  {
   "cell_type": "markdown",
   "id": "outdoor-furniture",
   "metadata": {},
   "source": [
    "### **Model Validation**"
   ]
  },
  {
   "cell_type": "code",
   "execution_count": 95,
   "id": "aboriginal-creek",
   "metadata": {},
   "outputs": [],
   "source": [
    "Y_Pred = base_model.predict(X_valid)"
   ]
  },
  {
   "cell_type": "code",
   "execution_count": 96,
   "id": "miniature-capital",
   "metadata": {},
   "outputs": [
    {
     "data": {
      "text/plain": [
       "8.737705965500322"
      ]
     },
     "execution_count": 96,
     "metadata": {},
     "output_type": "execute_result"
    }
   ],
   "source": [
    "mean_squared_error(Y_valid, Y_Pred, squared=False)"
   ]
  },
  {
   "cell_type": "code",
   "execution_count": 97,
   "id": "aboriginal-wildlife",
   "metadata": {},
   "outputs": [
    {
     "data": {
      "text/html": [
       "<div>\n",
       "<style scoped>\n",
       "    .dataframe tbody tr th:only-of-type {\n",
       "        vertical-align: middle;\n",
       "    }\n",
       "\n",
       "    .dataframe tbody tr th {\n",
       "        vertical-align: top;\n",
       "    }\n",
       "\n",
       "    .dataframe thead th {\n",
       "        text-align: right;\n",
       "    }\n",
       "</style>\n",
       "<table border=\"1\" class=\"dataframe\">\n",
       "  <thead>\n",
       "    <tr style=\"text-align: right;\">\n",
       "      <th></th>\n",
       "      <th>PredictedData</th>\n",
       "      <th>ActualData</th>\n",
       "    </tr>\n",
       "  </thead>\n",
       "  <tbody>\n",
       "    <tr>\n",
       "      <th>0</th>\n",
       "      <td>-0.279846</td>\n",
       "      <td>1.0</td>\n",
       "    </tr>\n",
       "    <tr>\n",
       "      <th>1</th>\n",
       "      <td>2.381478</td>\n",
       "      <td>0.0</td>\n",
       "    </tr>\n",
       "    <tr>\n",
       "      <th>2</th>\n",
       "      <td>8.885014</td>\n",
       "      <td>0.0</td>\n",
       "    </tr>\n",
       "    <tr>\n",
       "      <th>3</th>\n",
       "      <td>0.345376</td>\n",
       "      <td>1.0</td>\n",
       "    </tr>\n",
       "    <tr>\n",
       "      <th>4</th>\n",
       "      <td>2.742453</td>\n",
       "      <td>0.0</td>\n",
       "    </tr>\n",
       "  </tbody>\n",
       "</table>\n",
       "</div>"
      ],
      "text/plain": [
       "   PredictedData  ActualData\n",
       "0      -0.279846         1.0\n",
       "1       2.381478         0.0\n",
       "2       8.885014         0.0\n",
       "3       0.345376         1.0\n",
       "4       2.742453         0.0"
      ]
     },
     "execution_count": 97,
     "metadata": {},
     "output_type": "execute_result"
    }
   ],
   "source": [
    "# creating a DataFrame to store Predicted and actual data\n",
    "check = pd.DataFrame(zip(Y_Pred , Y_valid),columns=['PredictedData','ActualData'])\n",
    "check.head()"
   ]
  },
  {
   "cell_type": "markdown",
   "id": "burning-roommate",
   "metadata": {},
   "source": [
    "# **Missing Data Prediction**"
   ]
  },
  {
   "cell_type": "code",
   "execution_count": 98,
   "id": "incorporated-example",
   "metadata": {},
   "outputs": [],
   "source": [
    "predicted = base_model.predict(x_test)"
   ]
  },
  {
   "cell_type": "code",
   "execution_count": 99,
   "id": "younger-ranking",
   "metadata": {},
   "outputs": [
    {
     "data": {
      "text/plain": [
       "array([7, 2, 0, ..., 5, 0, 0])"
      ]
     },
     "execution_count": 99,
     "metadata": {},
     "output_type": "execute_result"
    }
   ],
   "source": [
    "predicted = np.around(predicted)\n",
    "predicted.astype(int)"
   ]
  },
  {
   "cell_type": "markdown",
   "id": "religious-trustee",
   "metadata": {},
   "source": [
    "### **Creating a new dataframe**"
   ]
  },
  {
   "cell_type": "code",
   "execution_count": 100,
   "id": "saved-quantum",
   "metadata": {},
   "outputs": [],
   "source": [
    "Col=pd.DataFrame()\n",
    "Delay=[]\n",
    "for x in predicted:\n",
    "    Delay.append(pd.Timedelta(days=x))\n",
    "delay = pd.Series(Delay,name='delay')"
   ]
  },
  {
   "cell_type": "code",
   "execution_count": 101,
   "id": "proper-lending",
   "metadata": {},
   "outputs": [
    {
     "data": {
      "text/html": [
       "<div>\n",
       "<style scoped>\n",
       "    .dataframe tbody tr th:only-of-type {\n",
       "        vertical-align: middle;\n",
       "    }\n",
       "\n",
       "    .dataframe tbody tr th {\n",
       "        vertical-align: top;\n",
       "    }\n",
       "\n",
       "    .dataframe thead th {\n",
       "        text-align: right;\n",
       "    }\n",
       "</style>\n",
       "<table border=\"1\" class=\"dataframe\">\n",
       "  <thead>\n",
       "    <tr style=\"text-align: right;\">\n",
       "      <th></th>\n",
       "      <th>total_open_amount</th>\n",
       "      <th>cust_num</th>\n",
       "      <th>buss_code</th>\n",
       "      <th>cpt</th>\n",
       "      <th>doc_crt_day</th>\n",
       "      <th>doc_crt_month</th>\n",
       "      <th>due_day</th>\n",
       "      <th>delay</th>\n",
       "    </tr>\n",
       "  </thead>\n",
       "  <tbody>\n",
       "    <tr>\n",
       "      <th>0</th>\n",
       "      <td>33965.02</td>\n",
       "      <td>100048689.0</td>\n",
       "      <td>5</td>\n",
       "      <td>38</td>\n",
       "      <td>27</td>\n",
       "      <td>2</td>\n",
       "      <td>28</td>\n",
       "      <td>7 days</td>\n",
       "    </tr>\n",
       "    <tr>\n",
       "      <th>1</th>\n",
       "      <td>60792.77</td>\n",
       "      <td>200769623.0</td>\n",
       "      <td>1</td>\n",
       "      <td>27</td>\n",
       "      <td>27</td>\n",
       "      <td>2</td>\n",
       "      <td>13</td>\n",
       "      <td>2 days</td>\n",
       "    </tr>\n",
       "    <tr>\n",
       "      <th>2</th>\n",
       "      <td>333.59</td>\n",
       "      <td>200726979.0</td>\n",
       "      <td>1</td>\n",
       "      <td>13</td>\n",
       "      <td>27</td>\n",
       "      <td>2</td>\n",
       "      <td>13</td>\n",
       "      <td>0 days</td>\n",
       "    </tr>\n",
       "    <tr>\n",
       "      <th>3</th>\n",
       "      <td>24145.01</td>\n",
       "      <td>200762301.0</td>\n",
       "      <td>1</td>\n",
       "      <td>18</td>\n",
       "      <td>27</td>\n",
       "      <td>2</td>\n",
       "      <td>13</td>\n",
       "      <td>1 days</td>\n",
       "    </tr>\n",
       "    <tr>\n",
       "      <th>4</th>\n",
       "      <td>40215.45</td>\n",
       "      <td>200096390.0</td>\n",
       "      <td>1</td>\n",
       "      <td>13</td>\n",
       "      <td>27</td>\n",
       "      <td>2</td>\n",
       "      <td>13</td>\n",
       "      <td>0 days</td>\n",
       "    </tr>\n",
       "    <tr>\n",
       "      <th>...</th>\n",
       "      <td>...</td>\n",
       "      <td>...</td>\n",
       "      <td>...</td>\n",
       "      <td>...</td>\n",
       "      <td>...</td>\n",
       "      <td>...</td>\n",
       "      <td>...</td>\n",
       "      <td>...</td>\n",
       "    </tr>\n",
       "    <tr>\n",
       "      <th>9671</th>\n",
       "      <td>136025.60</td>\n",
       "      <td>200762950.0</td>\n",
       "      <td>1</td>\n",
       "      <td>13</td>\n",
       "      <td>13</td>\n",
       "      <td>5</td>\n",
       "      <td>28</td>\n",
       "      <td>-1 days</td>\n",
       "    </tr>\n",
       "    <tr>\n",
       "      <th>9672</th>\n",
       "      <td>9291.00</td>\n",
       "      <td>200915438.0</td>\n",
       "      <td>1</td>\n",
       "      <td>13</td>\n",
       "      <td>18</td>\n",
       "      <td>5</td>\n",
       "      <td>2</td>\n",
       "      <td>0 days</td>\n",
       "    </tr>\n",
       "    <tr>\n",
       "      <th>9673</th>\n",
       "      <td>1373.60</td>\n",
       "      <td>140105785.0</td>\n",
       "      <td>0</td>\n",
       "      <td>4</td>\n",
       "      <td>19</td>\n",
       "      <td>5</td>\n",
       "      <td>29</td>\n",
       "      <td>5 days</td>\n",
       "    </tr>\n",
       "    <tr>\n",
       "      <th>9674</th>\n",
       "      <td>17544.11</td>\n",
       "      <td>200763229.0</td>\n",
       "      <td>1</td>\n",
       "      <td>13</td>\n",
       "      <td>19</td>\n",
       "      <td>5</td>\n",
       "      <td>3</td>\n",
       "      <td>0 days</td>\n",
       "    </tr>\n",
       "    <tr>\n",
       "      <th>9675</th>\n",
       "      <td>42360.00</td>\n",
       "      <td>200956366.0</td>\n",
       "      <td>1</td>\n",
       "      <td>13</td>\n",
       "      <td>21</td>\n",
       "      <td>5</td>\n",
       "      <td>5</td>\n",
       "      <td>0 days</td>\n",
       "    </tr>\n",
       "  </tbody>\n",
       "</table>\n",
       "<p>9676 rows × 8 columns</p>\n",
       "</div>"
      ],
      "text/plain": [
       "      total_open_amount     cust_num  buss_code  cpt  doc_crt_day  \\\n",
       "0              33965.02  100048689.0          5   38           27   \n",
       "1              60792.77  200769623.0          1   27           27   \n",
       "2                333.59  200726979.0          1   13           27   \n",
       "3              24145.01  200762301.0          1   18           27   \n",
       "4              40215.45  200096390.0          1   13           27   \n",
       "...                 ...          ...        ...  ...          ...   \n",
       "9671          136025.60  200762950.0          1   13           13   \n",
       "9672            9291.00  200915438.0          1   13           18   \n",
       "9673            1373.60  140105785.0          0    4           19   \n",
       "9674           17544.11  200763229.0          1   13           19   \n",
       "9675           42360.00  200956366.0          1   13           21   \n",
       "\n",
       "      doc_crt_month  due_day   delay  \n",
       "0                 2       28  7 days  \n",
       "1                 2       13  2 days  \n",
       "2                 2       13  0 days  \n",
       "3                 2       13  1 days  \n",
       "4                 2       13  0 days  \n",
       "...             ...      ...     ...  \n",
       "9671              5       28 -1 days  \n",
       "9672              5        2  0 days  \n",
       "9673              5       29  5 days  \n",
       "9674              5        3  0 days  \n",
       "9675              5        5  0 days  \n",
       "\n",
       "[9676 rows x 8 columns]"
      ]
     },
     "execution_count": 101,
     "metadata": {},
     "output_type": "execute_result"
    }
   ],
   "source": [
    "FinalDF = x_test.merge(delay, on=x_test.index )\n",
    "FinalDF.drop('key_0', axis=1, inplace=True)\n",
    "FinalDF"
   ]
  },
  {
   "cell_type": "markdown",
   "id": "satisfied-injury",
   "metadata": {},
   "source": [
    "# **Creating the Aging Bucket**"
   ]
  },
  {
   "cell_type": "code",
   "execution_count": 102,
   "id": "ahead-collins",
   "metadata": {},
   "outputs": [],
   "source": [
    "aging_bucket = []\n",
    "for x in predicted:\n",
    "    if x<=15:\n",
    "        aging_bucket.append(\"0-15days\")\n",
    "    elif x<=30:\n",
    "        aging_bucket.append(\"16-30days\")\n",
    "    elif x<=45:\n",
    "        aging_bucket.append(\"31-45days\")\n",
    "    elif x<=60:\n",
    "        aging_bucket.append(\"46-60days\")\n",
    "    else:\n",
    "        aging_bucket.append(\"Greater than 60 days\")\n",
    "agingBucket = pd.Series(aging_bucket, name=\"aging_bucket\")"
   ]
  },
  {
   "cell_type": "code",
   "execution_count": 103,
   "id": "blessed-thong",
   "metadata": {},
   "outputs": [
    {
     "data": {
      "text/html": [
       "<div>\n",
       "<style scoped>\n",
       "    .dataframe tbody tr th:only-of-type {\n",
       "        vertical-align: middle;\n",
       "    }\n",
       "\n",
       "    .dataframe tbody tr th {\n",
       "        vertical-align: top;\n",
       "    }\n",
       "\n",
       "    .dataframe thead th {\n",
       "        text-align: right;\n",
       "    }\n",
       "</style>\n",
       "<table border=\"1\" class=\"dataframe\">\n",
       "  <thead>\n",
       "    <tr style=\"text-align: right;\">\n",
       "      <th></th>\n",
       "      <th>total_open_amount</th>\n",
       "      <th>cust_num</th>\n",
       "      <th>buss_code</th>\n",
       "      <th>cpt</th>\n",
       "      <th>doc_crt_day</th>\n",
       "      <th>doc_crt_month</th>\n",
       "      <th>due_day</th>\n",
       "      <th>delay</th>\n",
       "      <th>aging_bucket</th>\n",
       "    </tr>\n",
       "  </thead>\n",
       "  <tbody>\n",
       "    <tr>\n",
       "      <th>0</th>\n",
       "      <td>33965.02</td>\n",
       "      <td>100048689.0</td>\n",
       "      <td>5</td>\n",
       "      <td>38</td>\n",
       "      <td>27</td>\n",
       "      <td>2</td>\n",
       "      <td>28</td>\n",
       "      <td>7 days</td>\n",
       "      <td>0-15days</td>\n",
       "    </tr>\n",
       "    <tr>\n",
       "      <th>1</th>\n",
       "      <td>60792.77</td>\n",
       "      <td>200769623.0</td>\n",
       "      <td>1</td>\n",
       "      <td>27</td>\n",
       "      <td>27</td>\n",
       "      <td>2</td>\n",
       "      <td>13</td>\n",
       "      <td>2 days</td>\n",
       "      <td>0-15days</td>\n",
       "    </tr>\n",
       "    <tr>\n",
       "      <th>2</th>\n",
       "      <td>333.59</td>\n",
       "      <td>200726979.0</td>\n",
       "      <td>1</td>\n",
       "      <td>13</td>\n",
       "      <td>27</td>\n",
       "      <td>2</td>\n",
       "      <td>13</td>\n",
       "      <td>0 days</td>\n",
       "      <td>0-15days</td>\n",
       "    </tr>\n",
       "    <tr>\n",
       "      <th>3</th>\n",
       "      <td>24145.01</td>\n",
       "      <td>200762301.0</td>\n",
       "      <td>1</td>\n",
       "      <td>18</td>\n",
       "      <td>27</td>\n",
       "      <td>2</td>\n",
       "      <td>13</td>\n",
       "      <td>1 days</td>\n",
       "      <td>0-15days</td>\n",
       "    </tr>\n",
       "    <tr>\n",
       "      <th>4</th>\n",
       "      <td>40215.45</td>\n",
       "      <td>200096390.0</td>\n",
       "      <td>1</td>\n",
       "      <td>13</td>\n",
       "      <td>27</td>\n",
       "      <td>2</td>\n",
       "      <td>13</td>\n",
       "      <td>0 days</td>\n",
       "      <td>0-15days</td>\n",
       "    </tr>\n",
       "    <tr>\n",
       "      <th>...</th>\n",
       "      <td>...</td>\n",
       "      <td>...</td>\n",
       "      <td>...</td>\n",
       "      <td>...</td>\n",
       "      <td>...</td>\n",
       "      <td>...</td>\n",
       "      <td>...</td>\n",
       "      <td>...</td>\n",
       "      <td>...</td>\n",
       "    </tr>\n",
       "    <tr>\n",
       "      <th>9671</th>\n",
       "      <td>136025.60</td>\n",
       "      <td>200762950.0</td>\n",
       "      <td>1</td>\n",
       "      <td>13</td>\n",
       "      <td>13</td>\n",
       "      <td>5</td>\n",
       "      <td>28</td>\n",
       "      <td>-1 days</td>\n",
       "      <td>0-15days</td>\n",
       "    </tr>\n",
       "    <tr>\n",
       "      <th>9672</th>\n",
       "      <td>9291.00</td>\n",
       "      <td>200915438.0</td>\n",
       "      <td>1</td>\n",
       "      <td>13</td>\n",
       "      <td>18</td>\n",
       "      <td>5</td>\n",
       "      <td>2</td>\n",
       "      <td>0 days</td>\n",
       "      <td>0-15days</td>\n",
       "    </tr>\n",
       "    <tr>\n",
       "      <th>9673</th>\n",
       "      <td>1373.60</td>\n",
       "      <td>140105785.0</td>\n",
       "      <td>0</td>\n",
       "      <td>4</td>\n",
       "      <td>19</td>\n",
       "      <td>5</td>\n",
       "      <td>29</td>\n",
       "      <td>5 days</td>\n",
       "      <td>0-15days</td>\n",
       "    </tr>\n",
       "    <tr>\n",
       "      <th>9674</th>\n",
       "      <td>17544.11</td>\n",
       "      <td>200763229.0</td>\n",
       "      <td>1</td>\n",
       "      <td>13</td>\n",
       "      <td>19</td>\n",
       "      <td>5</td>\n",
       "      <td>3</td>\n",
       "      <td>0 days</td>\n",
       "      <td>0-15days</td>\n",
       "    </tr>\n",
       "    <tr>\n",
       "      <th>9675</th>\n",
       "      <td>42360.00</td>\n",
       "      <td>200956366.0</td>\n",
       "      <td>1</td>\n",
       "      <td>13</td>\n",
       "      <td>21</td>\n",
       "      <td>5</td>\n",
       "      <td>5</td>\n",
       "      <td>0 days</td>\n",
       "      <td>0-15days</td>\n",
       "    </tr>\n",
       "  </tbody>\n",
       "</table>\n",
       "<p>9676 rows × 9 columns</p>\n",
       "</div>"
      ],
      "text/plain": [
       "      total_open_amount     cust_num  buss_code  cpt  doc_crt_day  \\\n",
       "0              33965.02  100048689.0          5   38           27   \n",
       "1              60792.77  200769623.0          1   27           27   \n",
       "2                333.59  200726979.0          1   13           27   \n",
       "3              24145.01  200762301.0          1   18           27   \n",
       "4              40215.45  200096390.0          1   13           27   \n",
       "...                 ...          ...        ...  ...          ...   \n",
       "9671          136025.60  200762950.0          1   13           13   \n",
       "9672            9291.00  200915438.0          1   13           18   \n",
       "9673            1373.60  140105785.0          0    4           19   \n",
       "9674           17544.11  200763229.0          1   13           19   \n",
       "9675           42360.00  200956366.0          1   13           21   \n",
       "\n",
       "      doc_crt_month  due_day   delay aging_bucket  \n",
       "0                 2       28  7 days     0-15days  \n",
       "1                 2       13  2 days     0-15days  \n",
       "2                 2       13  0 days     0-15days  \n",
       "3                 2       13  1 days     0-15days  \n",
       "4                 2       13  0 days     0-15days  \n",
       "...             ...      ...     ...          ...  \n",
       "9671              5       28 -1 days     0-15days  \n",
       "9672              5        2  0 days     0-15days  \n",
       "9673              5       29  5 days     0-15days  \n",
       "9674              5        3  0 days     0-15days  \n",
       "9675              5        5  0 days     0-15days  \n",
       "\n",
       "[9676 rows x 9 columns]"
      ]
     },
     "execution_count": 103,
     "metadata": {},
     "output_type": "execute_result"
    }
   ],
   "source": [
    "FinalDF = FinalDF.merge(agingBucket, on=FinalDF.index )\n",
    "FinalDF.drop('key_0', axis=1, inplace=True)\n",
    "FinalDF"
   ]
  },
  {
   "cell_type": "code",
   "execution_count": 104,
   "id": "flush-geometry",
   "metadata": {},
   "outputs": [
    {
     "data": {
      "text/plain": [
       "0-15days     9556\n",
       "16-30days     120\n",
       "Name: aging_bucket, dtype: int64"
      ]
     },
     "execution_count": 104,
     "metadata": {},
     "output_type": "execute_result"
    }
   ],
   "source": [
    "data_list = []\n",
    "for i in range(FinalDF.shape[0]):\n",
    "    if FinalDF['delay'][i] <=pd.Timedelta(days=15) :\n",
    "        data_list.append(\"0-15days\")\n",
    "    elif FinalDF['delay'][i] <= pd.Timedelta(days=30):\n",
    "        data_list.append(\"16-30days\")\n",
    "    elif FinalDF['delay'][i] <= pd.Timedelta(days=45):\n",
    "        data_list.append(\"31-45days\")\n",
    "    elif FinalDF['delay'][i] <= pd.Timedelta(days=60):\n",
    "        data_list.append(\"46-60days\")\n",
    "    else:\n",
    "        data_list.append(\">60days\");\n",
    "        \n",
    "FinalDF['aging_bucket'] = data_list\n",
    "\n",
    "FinalDF['aging_bucket'].value_counts()"
   ]
  }
 ],
 "metadata": {
  "kernelspec": {
   "display_name": "Python 3",
   "language": "python",
   "name": "python3"
  },
  "language_info": {
   "codemirror_mode": {
    "name": "ipython",
    "version": 3
   },
   "file_extension": ".py",
   "mimetype": "text/x-python",
   "name": "python",
   "nbconvert_exporter": "python",
   "pygments_lexer": "ipython3",
   "version": "3.9.2"
  }
 },
 "nbformat": 4,
 "nbformat_minor": 5
}
