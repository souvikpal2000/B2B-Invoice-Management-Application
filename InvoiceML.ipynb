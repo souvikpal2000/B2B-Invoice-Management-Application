{
 "cells": [
  {
   "cell_type": "code",
   "execution_count": 1,
   "id": "otherwise-break",
   "metadata": {},
   "outputs": [],
   "source": [
    "import pandas as pd\n",
    "import numpy as np\n",
    "import seaborn as sns\n",
    "import matplotlib.pyplot as plt\n",
    "from sklearn.model_selection import train_test_split\n",
    "import warnings\n",
    "warnings.filterwarnings('ignore')\n",
    "from sklearn.preprocessing import LabelEncoder\n",
    "import xgboost as xgb\n",
    "import sklearn.metrics as sm\n",
    "from sklearn.ensemble import RandomForestRegressor\n",
    "from sklearn.tree import DecisionTreeRegressor\n",
    "from sklearn.linear_model import LinearRegression\n",
    "from sklearn.svm import SVR\n",
    "from sklearn.model_selection import RandomizedSearchCV, GridSearchCV"
   ]
  },
  {
   "cell_type": "markdown",
   "id": "rising-sponsorship",
   "metadata": {},
   "source": [
    "# **Read CSV & store it in Dataframe**"
   ]
  },
  {
   "cell_type": "code",
   "execution_count": 2,
   "id": "collect-digit",
   "metadata": {},
   "outputs": [],
   "source": [
    "df = pd.read_csv('H2HBABBA1361.csv')"
   ]
  },
  {
   "cell_type": "markdown",
   "id": "subject-pacific",
   "metadata": {},
   "source": [
    "# **Shape of the Dataframe**"
   ]
  },
  {
   "cell_type": "code",
   "execution_count": 3,
   "id": "twelve-miniature",
   "metadata": {},
   "outputs": [
    {
     "data": {
      "text/plain": [
       "(50000, 19)"
      ]
     },
     "execution_count": 3,
     "metadata": {},
     "output_type": "execute_result"
    }
   ],
   "source": [
    "df.shape"
   ]
  },
  {
   "cell_type": "markdown",
   "id": "opposed-concord",
   "metadata": {},
   "source": [
    "# **Display First 5 Rows of Dataframe**"
   ]
  },
  {
   "cell_type": "code",
   "execution_count": 4,
   "id": "curious-termination",
   "metadata": {},
   "outputs": [
    {
     "data": {
      "text/html": [
       "<div>\n",
       "<style scoped>\n",
       "    .dataframe tbody tr th:only-of-type {\n",
       "        vertical-align: middle;\n",
       "    }\n",
       "\n",
       "    .dataframe tbody tr th {\n",
       "        vertical-align: top;\n",
       "    }\n",
       "\n",
       "    .dataframe thead th {\n",
       "        text-align: right;\n",
       "    }\n",
       "</style>\n",
       "<table border=\"1\" class=\"dataframe\">\n",
       "  <thead>\n",
       "    <tr style=\"text-align: right;\">\n",
       "      <th></th>\n",
       "      <th>business_code</th>\n",
       "      <th>cust_number</th>\n",
       "      <th>name_customer</th>\n",
       "      <th>clear_date</th>\n",
       "      <th>buisness_year</th>\n",
       "      <th>doc_id</th>\n",
       "      <th>posting_date</th>\n",
       "      <th>document_create_date</th>\n",
       "      <th>document_create_date.1</th>\n",
       "      <th>due_in_date</th>\n",
       "      <th>invoice_currency</th>\n",
       "      <th>document type</th>\n",
       "      <th>posting_id</th>\n",
       "      <th>area_business</th>\n",
       "      <th>total_open_amount</th>\n",
       "      <th>baseline_create_date</th>\n",
       "      <th>cust_payment_terms</th>\n",
       "      <th>invoice_id</th>\n",
       "      <th>isOpen</th>\n",
       "    </tr>\n",
       "  </thead>\n",
       "  <tbody>\n",
       "    <tr>\n",
       "      <th>0</th>\n",
       "      <td>U001</td>\n",
       "      <td>0200040366</td>\n",
       "      <td>RASTEL co</td>\n",
       "      <td>2019-05-17 00:00:00</td>\n",
       "      <td>2019.0</td>\n",
       "      <td>1.929212e+09</td>\n",
       "      <td>2019-05-01</td>\n",
       "      <td>20190426</td>\n",
       "      <td>20190501</td>\n",
       "      <td>20190516.0</td>\n",
       "      <td>USD</td>\n",
       "      <td>RV</td>\n",
       "      <td>1.0</td>\n",
       "      <td>NaN</td>\n",
       "      <td>2160.31</td>\n",
       "      <td>20190501.0</td>\n",
       "      <td>NAA8</td>\n",
       "      <td>1.929212e+09</td>\n",
       "      <td>0</td>\n",
       "    </tr>\n",
       "    <tr>\n",
       "      <th>1</th>\n",
       "      <td>U001</td>\n",
       "      <td>0200707822</td>\n",
       "      <td>PUBLI us</td>\n",
       "      <td>2019-09-18 00:00:00</td>\n",
       "      <td>2019.0</td>\n",
       "      <td>1.929821e+09</td>\n",
       "      <td>2019-09-03</td>\n",
       "      <td>20190903</td>\n",
       "      <td>20190903</td>\n",
       "      <td>20190918.0</td>\n",
       "      <td>USD</td>\n",
       "      <td>RV</td>\n",
       "      <td>1.0</td>\n",
       "      <td>NaN</td>\n",
       "      <td>111586.61</td>\n",
       "      <td>20190903.0</td>\n",
       "      <td>NAA8</td>\n",
       "      <td>1.929821e+09</td>\n",
       "      <td>0</td>\n",
       "    </tr>\n",
       "    <tr>\n",
       "      <th>2</th>\n",
       "      <td>CA02</td>\n",
       "      <td>0140104409</td>\n",
       "      <td>LOB co</td>\n",
       "      <td>2019-11-22 00:00:00</td>\n",
       "      <td>2019.0</td>\n",
       "      <td>2.960593e+09</td>\n",
       "      <td>2019-11-11</td>\n",
       "      <td>20191111</td>\n",
       "      <td>20191111</td>\n",
       "      <td>20191121.0</td>\n",
       "      <td>CAD</td>\n",
       "      <td>RV</td>\n",
       "      <td>1.0</td>\n",
       "      <td>NaN</td>\n",
       "      <td>65153.44</td>\n",
       "      <td>20191111.0</td>\n",
       "      <td>CA10</td>\n",
       "      <td>2.960593e+09</td>\n",
       "      <td>0</td>\n",
       "    </tr>\n",
       "    <tr>\n",
       "      <th>3</th>\n",
       "      <td>U001</td>\n",
       "      <td>200390794</td>\n",
       "      <td>CASH-W corporation</td>\n",
       "      <td>NaN</td>\n",
       "      <td>2020.0</td>\n",
       "      <td>1.930867e+09</td>\n",
       "      <td>2020-05-06</td>\n",
       "      <td>20200506</td>\n",
       "      <td>20200506</td>\n",
       "      <td>20200521.0</td>\n",
       "      <td>USD</td>\n",
       "      <td>RV</td>\n",
       "      <td>1.0</td>\n",
       "      <td>NaN</td>\n",
       "      <td>21634.82</td>\n",
       "      <td>20200506.0</td>\n",
       "      <td>NAA8</td>\n",
       "      <td>1.930867e+09</td>\n",
       "      <td>1</td>\n",
       "    </tr>\n",
       "    <tr>\n",
       "      <th>4</th>\n",
       "      <td>U001</td>\n",
       "      <td>0200418007</td>\n",
       "      <td>AM corporation</td>\n",
       "      <td>NaN</td>\n",
       "      <td>2020.0</td>\n",
       "      <td>1.930805e+09</td>\n",
       "      <td>2020-04-22</td>\n",
       "      <td>20200420</td>\n",
       "      <td>20200422</td>\n",
       "      <td>20200626.0</td>\n",
       "      <td>USD</td>\n",
       "      <td>RV</td>\n",
       "      <td>1.0</td>\n",
       "      <td>NaN</td>\n",
       "      <td>31.56</td>\n",
       "      <td>20200422.0</td>\n",
       "      <td>NAGD</td>\n",
       "      <td>1.930805e+09</td>\n",
       "      <td>1</td>\n",
       "    </tr>\n",
       "  </tbody>\n",
       "</table>\n",
       "</div>"
      ],
      "text/plain": [
       "  business_code cust_number       name_customer           clear_date  \\\n",
       "0          U001  0200040366           RASTEL co  2019-05-17 00:00:00   \n",
       "1          U001  0200707822            PUBLI us  2019-09-18 00:00:00   \n",
       "2          CA02  0140104409              LOB co  2019-11-22 00:00:00   \n",
       "3          U001   200390794  CASH-W corporation                  NaN   \n",
       "4          U001  0200418007      AM corporation                  NaN   \n",
       "\n",
       "   buisness_year        doc_id posting_date  document_create_date  \\\n",
       "0         2019.0  1.929212e+09   2019-05-01              20190426   \n",
       "1         2019.0  1.929821e+09   2019-09-03              20190903   \n",
       "2         2019.0  2.960593e+09   2019-11-11              20191111   \n",
       "3         2020.0  1.930867e+09   2020-05-06              20200506   \n",
       "4         2020.0  1.930805e+09   2020-04-22              20200420   \n",
       "\n",
       "   document_create_date.1  due_in_date invoice_currency document type  \\\n",
       "0                20190501   20190516.0              USD            RV   \n",
       "1                20190903   20190918.0              USD            RV   \n",
       "2                20191111   20191121.0              CAD            RV   \n",
       "3                20200506   20200521.0              USD            RV   \n",
       "4                20200422   20200626.0              USD            RV   \n",
       "\n",
       "   posting_id  area_business  total_open_amount  baseline_create_date  \\\n",
       "0         1.0            NaN            2160.31            20190501.0   \n",
       "1         1.0            NaN          111586.61            20190903.0   \n",
       "2         1.0            NaN           65153.44            20191111.0   \n",
       "3         1.0            NaN           21634.82            20200506.0   \n",
       "4         1.0            NaN              31.56            20200422.0   \n",
       "\n",
       "  cust_payment_terms    invoice_id  isOpen  \n",
       "0               NAA8  1.929212e+09       0  \n",
       "1               NAA8  1.929821e+09       0  \n",
       "2               CA10  2.960593e+09       0  \n",
       "3               NAA8  1.930867e+09       1  \n",
       "4               NAGD  1.930805e+09       1  "
      ]
     },
     "execution_count": 4,
     "metadata": {},
     "output_type": "execute_result"
    }
   ],
   "source": [
    "df.head(5)"
   ]
  },
  {
   "cell_type": "markdown",
   "id": "useful-radical",
   "metadata": {},
   "source": [
    "# **Display Last 5 Rows of Dataframe**"
   ]
  },
  {
   "cell_type": "code",
   "execution_count": 5,
   "id": "initial-christianity",
   "metadata": {},
   "outputs": [
    {
     "data": {
      "text/html": [
       "<div>\n",
       "<style scoped>\n",
       "    .dataframe tbody tr th:only-of-type {\n",
       "        vertical-align: middle;\n",
       "    }\n",
       "\n",
       "    .dataframe tbody tr th {\n",
       "        vertical-align: top;\n",
       "    }\n",
       "\n",
       "    .dataframe thead th {\n",
       "        text-align: right;\n",
       "    }\n",
       "</style>\n",
       "<table border=\"1\" class=\"dataframe\">\n",
       "  <thead>\n",
       "    <tr style=\"text-align: right;\">\n",
       "      <th></th>\n",
       "      <th>business_code</th>\n",
       "      <th>cust_number</th>\n",
       "      <th>name_customer</th>\n",
       "      <th>clear_date</th>\n",
       "      <th>buisness_year</th>\n",
       "      <th>doc_id</th>\n",
       "      <th>posting_date</th>\n",
       "      <th>document_create_date</th>\n",
       "      <th>document_create_date.1</th>\n",
       "      <th>due_in_date</th>\n",
       "      <th>invoice_currency</th>\n",
       "      <th>document type</th>\n",
       "      <th>posting_id</th>\n",
       "      <th>area_business</th>\n",
       "      <th>total_open_amount</th>\n",
       "      <th>baseline_create_date</th>\n",
       "      <th>cust_payment_terms</th>\n",
       "      <th>invoice_id</th>\n",
       "      <th>isOpen</th>\n",
       "    </tr>\n",
       "  </thead>\n",
       "  <tbody>\n",
       "    <tr>\n",
       "      <th>49995</th>\n",
       "      <td>U001</td>\n",
       "      <td>0200875006</td>\n",
       "      <td>KROGER associates</td>\n",
       "      <td>2019-04-26 00:00:00</td>\n",
       "      <td>2019.0</td>\n",
       "      <td>1.929136e+09</td>\n",
       "      <td>2019-04-11</td>\n",
       "      <td>20190412</td>\n",
       "      <td>20190411</td>\n",
       "      <td>20190426.0</td>\n",
       "      <td>USD</td>\n",
       "      <td>RV</td>\n",
       "      <td>1.0</td>\n",
       "      <td>NaN</td>\n",
       "      <td>184407.56</td>\n",
       "      <td>20190411.0</td>\n",
       "      <td>NAA8</td>\n",
       "      <td>1.929136e+09</td>\n",
       "      <td>0</td>\n",
       "    </tr>\n",
       "    <tr>\n",
       "      <th>49996</th>\n",
       "      <td>U001</td>\n",
       "      <td>0200769623</td>\n",
       "      <td>WAL-MAR foundation</td>\n",
       "      <td>2019-11-04 00:00:00</td>\n",
       "      <td>2019.0</td>\n",
       "      <td>1.930037e+09</td>\n",
       "      <td>2019-10-24</td>\n",
       "      <td>20191021</td>\n",
       "      <td>20191024</td>\n",
       "      <td>20191108.0</td>\n",
       "      <td>USD</td>\n",
       "      <td>RV</td>\n",
       "      <td>1.0</td>\n",
       "      <td>NaN</td>\n",
       "      <td>16175.40</td>\n",
       "      <td>20191024.0</td>\n",
       "      <td>NAH4</td>\n",
       "      <td>1.930037e+09</td>\n",
       "      <td>0</td>\n",
       "    </tr>\n",
       "    <tr>\n",
       "      <th>49997</th>\n",
       "      <td>U001</td>\n",
       "      <td>0200769623</td>\n",
       "      <td>WAL-MAR llc</td>\n",
       "      <td>NaN</td>\n",
       "      <td>2020.0</td>\n",
       "      <td>1.930802e+09</td>\n",
       "      <td>2020-04-21</td>\n",
       "      <td>20200420</td>\n",
       "      <td>20200421</td>\n",
       "      <td>20200506.0</td>\n",
       "      <td>USD</td>\n",
       "      <td>RV</td>\n",
       "      <td>1.0</td>\n",
       "      <td>NaN</td>\n",
       "      <td>54791.03</td>\n",
       "      <td>20200421.0</td>\n",
       "      <td>NAH4</td>\n",
       "      <td>1.930802e+09</td>\n",
       "      <td>1</td>\n",
       "    </tr>\n",
       "    <tr>\n",
       "      <th>49998</th>\n",
       "      <td>U001</td>\n",
       "      <td>0200759878</td>\n",
       "      <td>SA co</td>\n",
       "      <td>2019-03-11 00:00:00</td>\n",
       "      <td>2019.0</td>\n",
       "      <td>1.928845e+09</td>\n",
       "      <td>2019-02-23</td>\n",
       "      <td>20190222</td>\n",
       "      <td>20190223</td>\n",
       "      <td>20190310.0</td>\n",
       "      <td>USD</td>\n",
       "      <td>RV</td>\n",
       "      <td>1.0</td>\n",
       "      <td>NaN</td>\n",
       "      <td>73799.96</td>\n",
       "      <td>20190223.0</td>\n",
       "      <td>NAH4</td>\n",
       "      <td>1.928845e+09</td>\n",
       "      <td>0</td>\n",
       "    </tr>\n",
       "    <tr>\n",
       "      <th>49999</th>\n",
       "      <td>U001</td>\n",
       "      <td>0200865666</td>\n",
       "      <td>RESTAU corp</td>\n",
       "      <td>2019-03-20 00:00:00</td>\n",
       "      <td>2019.0</td>\n",
       "      <td>1.928907e+09</td>\n",
       "      <td>2019-03-05</td>\n",
       "      <td>20190305</td>\n",
       "      <td>20190305</td>\n",
       "      <td>20190320.0</td>\n",
       "      <td>USD</td>\n",
       "      <td>RV</td>\n",
       "      <td>1.0</td>\n",
       "      <td>NaN</td>\n",
       "      <td>11895.36</td>\n",
       "      <td>20190305.0</td>\n",
       "      <td>NAA8</td>\n",
       "      <td>1.928907e+09</td>\n",
       "      <td>0</td>\n",
       "    </tr>\n",
       "  </tbody>\n",
       "</table>\n",
       "</div>"
      ],
      "text/plain": [
       "      business_code cust_number       name_customer           clear_date  \\\n",
       "49995          U001  0200875006   KROGER associates  2019-04-26 00:00:00   \n",
       "49996          U001  0200769623  WAL-MAR foundation  2019-11-04 00:00:00   \n",
       "49997          U001  0200769623         WAL-MAR llc                  NaN   \n",
       "49998          U001  0200759878               SA co  2019-03-11 00:00:00   \n",
       "49999          U001  0200865666         RESTAU corp  2019-03-20 00:00:00   \n",
       "\n",
       "       buisness_year        doc_id posting_date  document_create_date  \\\n",
       "49995         2019.0  1.929136e+09   2019-04-11              20190412   \n",
       "49996         2019.0  1.930037e+09   2019-10-24              20191021   \n",
       "49997         2020.0  1.930802e+09   2020-04-21              20200420   \n",
       "49998         2019.0  1.928845e+09   2019-02-23              20190222   \n",
       "49999         2019.0  1.928907e+09   2019-03-05              20190305   \n",
       "\n",
       "       document_create_date.1  due_in_date invoice_currency document type  \\\n",
       "49995                20190411   20190426.0              USD            RV   \n",
       "49996                20191024   20191108.0              USD            RV   \n",
       "49997                20200421   20200506.0              USD            RV   \n",
       "49998                20190223   20190310.0              USD            RV   \n",
       "49999                20190305   20190320.0              USD            RV   \n",
       "\n",
       "       posting_id  area_business  total_open_amount  baseline_create_date  \\\n",
       "49995         1.0            NaN          184407.56            20190411.0   \n",
       "49996         1.0            NaN           16175.40            20191024.0   \n",
       "49997         1.0            NaN           54791.03            20200421.0   \n",
       "49998         1.0            NaN           73799.96            20190223.0   \n",
       "49999         1.0            NaN           11895.36            20190305.0   \n",
       "\n",
       "      cust_payment_terms    invoice_id  isOpen  \n",
       "49995               NAA8  1.929136e+09       0  \n",
       "49996               NAH4  1.930037e+09       0  \n",
       "49997               NAH4  1.930802e+09       1  \n",
       "49998               NAH4  1.928845e+09       0  \n",
       "49999               NAA8  1.928907e+09       0  "
      ]
     },
     "execution_count": 5,
     "metadata": {},
     "output_type": "execute_result"
    }
   ],
   "source": [
    "df.tail(5)"
   ]
  },
  {
   "cell_type": "markdown",
   "id": "first-retail",
   "metadata": {},
   "source": [
    "# **Statistics**"
   ]
  },
  {
   "cell_type": "code",
   "execution_count": 6,
   "id": "compliant-bahrain",
   "metadata": {},
   "outputs": [
    {
     "data": {
      "text/html": [
       "<div>\n",
       "<style scoped>\n",
       "    .dataframe tbody tr th:only-of-type {\n",
       "        vertical-align: middle;\n",
       "    }\n",
       "\n",
       "    .dataframe tbody tr th {\n",
       "        vertical-align: top;\n",
       "    }\n",
       "\n",
       "    .dataframe thead th {\n",
       "        text-align: right;\n",
       "    }\n",
       "</style>\n",
       "<table border=\"1\" class=\"dataframe\">\n",
       "  <thead>\n",
       "    <tr style=\"text-align: right;\">\n",
       "      <th></th>\n",
       "      <th>buisness_year</th>\n",
       "      <th>doc_id</th>\n",
       "      <th>document_create_date</th>\n",
       "      <th>document_create_date.1</th>\n",
       "      <th>due_in_date</th>\n",
       "      <th>posting_id</th>\n",
       "      <th>area_business</th>\n",
       "      <th>total_open_amount</th>\n",
       "      <th>baseline_create_date</th>\n",
       "      <th>invoice_id</th>\n",
       "      <th>isOpen</th>\n",
       "    </tr>\n",
       "  </thead>\n",
       "  <tbody>\n",
       "    <tr>\n",
       "      <th>count</th>\n",
       "      <td>50000.000000</td>\n",
       "      <td>5.000000e+04</td>\n",
       "      <td>5.000000e+04</td>\n",
       "      <td>5.000000e+04</td>\n",
       "      <td>5.000000e+04</td>\n",
       "      <td>50000.0</td>\n",
       "      <td>0.0</td>\n",
       "      <td>5.000000e+04</td>\n",
       "      <td>5.000000e+04</td>\n",
       "      <td>4.999500e+04</td>\n",
       "      <td>50000.000000</td>\n",
       "    </tr>\n",
       "    <tr>\n",
       "      <th>mean</th>\n",
       "      <td>2019.304320</td>\n",
       "      <td>2.008873e+09</td>\n",
       "      <td>2.019350e+07</td>\n",
       "      <td>2.019353e+07</td>\n",
       "      <td>2.019367e+07</td>\n",
       "      <td>1.0</td>\n",
       "      <td>NaN</td>\n",
       "      <td>3.243631e+04</td>\n",
       "      <td>2.019353e+07</td>\n",
       "      <td>2.008124e+09</td>\n",
       "      <td>0.200000</td>\n",
       "    </tr>\n",
       "    <tr>\n",
       "      <th>std</th>\n",
       "      <td>0.460123</td>\n",
       "      <td>2.816167e+08</td>\n",
       "      <td>4.491489e+03</td>\n",
       "      <td>4.477061e+03</td>\n",
       "      <td>4.463724e+03</td>\n",
       "      <td>0.0</td>\n",
       "      <td>NaN</td>\n",
       "      <td>4.026165e+04</td>\n",
       "      <td>4.478179e+03</td>\n",
       "      <td>2.714829e+08</td>\n",
       "      <td>0.400004</td>\n",
       "    </tr>\n",
       "    <tr>\n",
       "      <th>min</th>\n",
       "      <td>2019.000000</td>\n",
       "      <td>1.928502e+09</td>\n",
       "      <td>2.018123e+07</td>\n",
       "      <td>2.018123e+07</td>\n",
       "      <td>2.018032e+07</td>\n",
       "      <td>1.0</td>\n",
       "      <td>NaN</td>\n",
       "      <td>2.700000e-01</td>\n",
       "      <td>2.018031e+07</td>\n",
       "      <td>1.928502e+09</td>\n",
       "      <td>0.000000</td>\n",
       "    </tr>\n",
       "    <tr>\n",
       "      <th>25%</th>\n",
       "      <td>2019.000000</td>\n",
       "      <td>1.929341e+09</td>\n",
       "      <td>2.019051e+07</td>\n",
       "      <td>2.019051e+07</td>\n",
       "      <td>2.019052e+07</td>\n",
       "      <td>1.0</td>\n",
       "      <td>NaN</td>\n",
       "      <td>4.871745e+03</td>\n",
       "      <td>2.019051e+07</td>\n",
       "      <td>1.929341e+09</td>\n",
       "      <td>0.000000</td>\n",
       "    </tr>\n",
       "    <tr>\n",
       "      <th>50%</th>\n",
       "      <td>2019.000000</td>\n",
       "      <td>1.929974e+09</td>\n",
       "      <td>2.019091e+07</td>\n",
       "      <td>2.019091e+07</td>\n",
       "      <td>2.019093e+07</td>\n",
       "      <td>1.0</td>\n",
       "      <td>NaN</td>\n",
       "      <td>1.763928e+04</td>\n",
       "      <td>2.019091e+07</td>\n",
       "      <td>1.929974e+09</td>\n",
       "      <td>0.000000</td>\n",
       "    </tr>\n",
       "    <tr>\n",
       "      <th>75%</th>\n",
       "      <td>2020.000000</td>\n",
       "      <td>1.930617e+09</td>\n",
       "      <td>2.020013e+07</td>\n",
       "      <td>2.020013e+07</td>\n",
       "      <td>2.020022e+07</td>\n",
       "      <td>1.0</td>\n",
       "      <td>NaN</td>\n",
       "      <td>4.704053e+04</td>\n",
       "      <td>2.020013e+07</td>\n",
       "      <td>1.930617e+09</td>\n",
       "      <td>0.000000</td>\n",
       "    </tr>\n",
       "    <tr>\n",
       "      <th>max</th>\n",
       "      <td>2020.000000</td>\n",
       "      <td>9.500000e+09</td>\n",
       "      <td>2.020052e+07</td>\n",
       "      <td>2.020052e+07</td>\n",
       "      <td>2.020071e+07</td>\n",
       "      <td>1.0</td>\n",
       "      <td>NaN</td>\n",
       "      <td>1.501474e+06</td>\n",
       "      <td>2.020052e+07</td>\n",
       "      <td>2.960636e+09</td>\n",
       "      <td>1.000000</td>\n",
       "    </tr>\n",
       "  </tbody>\n",
       "</table>\n",
       "</div>"
      ],
      "text/plain": [
       "       buisness_year        doc_id  document_create_date  \\\n",
       "count   50000.000000  5.000000e+04          5.000000e+04   \n",
       "mean     2019.304320  2.008873e+09          2.019350e+07   \n",
       "std         0.460123  2.816167e+08          4.491489e+03   \n",
       "min      2019.000000  1.928502e+09          2.018123e+07   \n",
       "25%      2019.000000  1.929341e+09          2.019051e+07   \n",
       "50%      2019.000000  1.929974e+09          2.019091e+07   \n",
       "75%      2020.000000  1.930617e+09          2.020013e+07   \n",
       "max      2020.000000  9.500000e+09          2.020052e+07   \n",
       "\n",
       "       document_create_date.1   due_in_date  posting_id  area_business  \\\n",
       "count            5.000000e+04  5.000000e+04     50000.0            0.0   \n",
       "mean             2.019353e+07  2.019367e+07         1.0            NaN   \n",
       "std              4.477061e+03  4.463724e+03         0.0            NaN   \n",
       "min              2.018123e+07  2.018032e+07         1.0            NaN   \n",
       "25%              2.019051e+07  2.019052e+07         1.0            NaN   \n",
       "50%              2.019091e+07  2.019093e+07         1.0            NaN   \n",
       "75%              2.020013e+07  2.020022e+07         1.0            NaN   \n",
       "max              2.020052e+07  2.020071e+07         1.0            NaN   \n",
       "\n",
       "       total_open_amount  baseline_create_date    invoice_id        isOpen  \n",
       "count       5.000000e+04          5.000000e+04  4.999500e+04  50000.000000  \n",
       "mean        3.243631e+04          2.019353e+07  2.008124e+09      0.200000  \n",
       "std         4.026165e+04          4.478179e+03  2.714829e+08      0.400004  \n",
       "min         2.700000e-01          2.018031e+07  1.928502e+09      0.000000  \n",
       "25%         4.871745e+03          2.019051e+07  1.929341e+09      0.000000  \n",
       "50%         1.763928e+04          2.019091e+07  1.929974e+09      0.000000  \n",
       "75%         4.704053e+04          2.020013e+07  1.930617e+09      0.000000  \n",
       "max         1.501474e+06          2.020052e+07  2.960636e+09      1.000000  "
      ]
     },
     "execution_count": 6,
     "metadata": {},
     "output_type": "execute_result"
    }
   ],
   "source": [
    "df.describe()"
   ]
  },
  {
   "cell_type": "markdown",
   "id": "attempted-kelly",
   "metadata": {},
   "source": [
    "# **Checking for Non-Null Values**"
   ]
  },
  {
   "cell_type": "code",
   "execution_count": 7,
   "id": "chief-sphere",
   "metadata": {},
   "outputs": [
    {
     "name": "stdout",
     "output_type": "stream",
     "text": [
      "<class 'pandas.core.frame.DataFrame'>\n",
      "RangeIndex: 50000 entries, 0 to 49999\n",
      "Data columns (total 19 columns):\n",
      " #   Column                  Non-Null Count  Dtype  \n",
      "---  ------                  --------------  -----  \n",
      " 0   business_code           50000 non-null  object \n",
      " 1   cust_number             50000 non-null  object \n",
      " 2   name_customer           50000 non-null  object \n",
      " 3   clear_date              40000 non-null  object \n",
      " 4   buisness_year           50000 non-null  float64\n",
      " 5   doc_id                  50000 non-null  float64\n",
      " 6   posting_date            50000 non-null  object \n",
      " 7   document_create_date    50000 non-null  int64  \n",
      " 8   document_create_date.1  50000 non-null  int64  \n",
      " 9   due_in_date             50000 non-null  float64\n",
      " 10  invoice_currency        50000 non-null  object \n",
      " 11  document type           50000 non-null  object \n",
      " 12  posting_id              50000 non-null  float64\n",
      " 13  area_business           0 non-null      float64\n",
      " 14  total_open_amount       50000 non-null  float64\n",
      " 15  baseline_create_date    50000 non-null  float64\n",
      " 16  cust_payment_terms      50000 non-null  object \n",
      " 17  invoice_id              49995 non-null  float64\n",
      " 18  isOpen                  50000 non-null  int64  \n",
      "dtypes: float64(8), int64(3), object(8)\n",
      "memory usage: 7.2+ MB\n"
     ]
    }
   ],
   "source": [
    "df.info(verbose=True, show_counts=True)"
   ]
  },
  {
   "cell_type": "markdown",
   "id": "exterior-modern",
   "metadata": {},
   "source": [
    "# **Number of NULL Values**"
   ]
  },
  {
   "cell_type": "code",
   "execution_count": 8,
   "id": "automated-silly",
   "metadata": {},
   "outputs": [
    {
     "data": {
      "text/plain": [
       "business_code                 0\n",
       "cust_number                   0\n",
       "name_customer                 0\n",
       "clear_date                10000\n",
       "buisness_year                 0\n",
       "doc_id                        0\n",
       "posting_date                  0\n",
       "document_create_date          0\n",
       "document_create_date.1        0\n",
       "due_in_date                   0\n",
       "invoice_currency              0\n",
       "document type                 0\n",
       "posting_id                    0\n",
       "area_business             50000\n",
       "total_open_amount             0\n",
       "baseline_create_date          0\n",
       "cust_payment_terms            0\n",
       "invoice_id                    5\n",
       "isOpen                        0\n",
       "dtype: int64"
      ]
     },
     "execution_count": 8,
     "metadata": {},
     "output_type": "execute_result"
    }
   ],
   "source": [
    "df.isnull().sum()"
   ]
  },
  {
   "cell_type": "markdown",
   "id": "experienced-gentleman",
   "metadata": {},
   "source": [
    "# **Dropping columns with ALL NULL values**"
   ]
  },
  {
   "cell_type": "code",
   "execution_count": 9,
   "id": "endless-ghost",
   "metadata": {},
   "outputs": [],
   "source": [
    "df.dropna(how='all', axis=1, inplace=True)"
   ]
  },
  {
   "cell_type": "code",
   "execution_count": 10,
   "id": "labeled-monster",
   "metadata": {},
   "outputs": [
    {
     "data": {
      "text/plain": [
       "(50000, 18)"
      ]
     },
     "execution_count": 10,
     "metadata": {},
     "output_type": "execute_result"
    }
   ],
   "source": [
    "df.shape\n",
    "#Dropped area_business"
   ]
  },
  {
   "cell_type": "markdown",
   "id": "cloudy-dodge",
   "metadata": {},
   "source": [
    "# **Drop the Rows who have invoice_id as NULL**"
   ]
  },
  {
   "cell_type": "code",
   "execution_count": 11,
   "id": "single-sculpture",
   "metadata": {},
   "outputs": [],
   "source": [
    "df.dropna(subset=['invoice_id'], axis=0, inplace=True)\n",
    "df.reset_index(drop=True, inplace=True)"
   ]
  },
  {
   "cell_type": "code",
   "execution_count": 12,
   "id": "interstate-camel",
   "metadata": {},
   "outputs": [
    {
     "data": {
      "text/plain": [
       "business_code                 0\n",
       "cust_number                   0\n",
       "name_customer                 0\n",
       "clear_date                10000\n",
       "buisness_year                 0\n",
       "doc_id                        0\n",
       "posting_date                  0\n",
       "document_create_date          0\n",
       "document_create_date.1        0\n",
       "due_in_date                   0\n",
       "invoice_currency              0\n",
       "document type                 0\n",
       "posting_id                    0\n",
       "total_open_amount             0\n",
       "baseline_create_date          0\n",
       "cust_payment_terms            0\n",
       "invoice_id                    0\n",
       "isOpen                        0\n",
       "dtype: int64"
      ]
     },
     "execution_count": 12,
     "metadata": {},
     "output_type": "execute_result"
    }
   ],
   "source": [
    "df.isnull().sum()"
   ]
  },
  {
   "cell_type": "code",
   "execution_count": 13,
   "id": "recorded-equity",
   "metadata": {},
   "outputs": [
    {
     "data": {
      "text/plain": [
       "0    39995\n",
       "1    10000\n",
       "Name: isOpen, dtype: int64"
      ]
     },
     "execution_count": 13,
     "metadata": {},
     "output_type": "execute_result"
    }
   ],
   "source": [
    "df[\"isOpen\"].value_counts()"
   ]
  },
  {
   "cell_type": "markdown",
   "id": "lined-horizon",
   "metadata": {},
   "source": [
    "# **Checking for Unique Values in Each Column**"
   ]
  },
  {
   "cell_type": "code",
   "execution_count": 14,
   "id": "innocent-greek",
   "metadata": {},
   "outputs": [
    {
     "name": "stdout",
     "output_type": "stream",
     "text": [
      "business_code                 6\n",
      "cust_number                1431\n",
      "name_customer              4190\n",
      "clear_date                  400\n",
      "buisness_year                 2\n",
      "doc_id                    48760\n",
      "posting_date                502\n",
      "document_create_date        505\n",
      "document_create_date.1      502\n",
      "due_in_date                 550\n",
      "invoice_currency              2\n",
      "document type                 1\n",
      "posting_id                    1\n",
      "total_open_amount         44252\n",
      "baseline_create_date        507\n",
      "cust_payment_terms           70\n",
      "invoice_id                48760\n",
      "isOpen                        2\n",
      "dtype: int64\n"
     ]
    }
   ],
   "source": [
    "n = df.nunique(axis=0)\n",
    "print(n)"
   ]
  },
  {
   "cell_type": "markdown",
   "id": "champion-static",
   "metadata": {},
   "source": [
    "# **As there is only 1 unique value in document type and posting_id so we can drop these**"
   ]
  },
  {
   "cell_type": "code",
   "execution_count": 15,
   "id": "coral-mouse",
   "metadata": {},
   "outputs": [],
   "source": [
    "df.drop(['document type', 'posting_id'], axis = 1, inplace=True)"
   ]
  },
  {
   "cell_type": "code",
   "execution_count": 16,
   "id": "sticky-pharmacology",
   "metadata": {},
   "outputs": [
    {
     "name": "stdout",
     "output_type": "stream",
     "text": [
      "business_code\n",
      "cust_number\n",
      "name_customer\n",
      "clear_date\n",
      "buisness_year\n",
      "doc_id\n",
      "posting_date\n",
      "document_create_date\n",
      "document_create_date.1\n",
      "due_in_date\n",
      "invoice_currency\n",
      "total_open_amount\n",
      "baseline_create_date\n",
      "cust_payment_terms\n",
      "invoice_id\n",
      "isOpen\n"
     ]
    }
   ],
   "source": [
    "for col in df.columns:\n",
    "    print(col)"
   ]
  },
  {
   "cell_type": "markdown",
   "id": "valid-copying",
   "metadata": {},
   "source": [
    "# **Searching for Duplicate Columns**"
   ]
  },
  {
   "cell_type": "code",
   "execution_count": 17,
   "id": "revolutionary-estimate",
   "metadata": {},
   "outputs": [
    {
     "name": "stdout",
     "output_type": "stream",
     "text": [
      "Duplicate with : invoice_id\n",
      "['doc_id']\n"
     ]
    }
   ],
   "source": [
    "duplicate = []\n",
    "for i in range (df.shape[1]):\n",
    "    col = df.iloc[:,i]\n",
    "    for j in range (i+1, df.shape[1]):\n",
    "        othercol = df.iloc[:,j]\n",
    "        if(col.equals(othercol)):\n",
    "            duplicate.append(df.columns[i]);\n",
    "            print(\"Duplicate with : \"+df.columns[j])\n",
    "print(duplicate)"
   ]
  },
  {
   "cell_type": "code",
   "execution_count": 18,
   "id": "geographic-raleigh",
   "metadata": {},
   "outputs": [],
   "source": [
    "df.drop(duplicate, axis = 1, inplace=True) "
   ]
  },
  {
   "cell_type": "code",
   "execution_count": 19,
   "id": "psychological-election",
   "metadata": {},
   "outputs": [
    {
     "name": "stdout",
     "output_type": "stream",
     "text": [
      "business_code\n",
      "cust_number\n",
      "name_customer\n",
      "clear_date\n",
      "buisness_year\n",
      "posting_date\n",
      "document_create_date\n",
      "document_create_date.1\n",
      "due_in_date\n",
      "invoice_currency\n",
      "total_open_amount\n",
      "baseline_create_date\n",
      "cust_payment_terms\n",
      "invoice_id\n",
      "isOpen\n"
     ]
    }
   ],
   "source": [
    "for col in df.columns:\n",
    "    print(col)"
   ]
  },
  {
   "cell_type": "markdown",
   "id": "accessible-barrel",
   "metadata": {},
   "source": [
    "# **Date-Time Conversion**"
   ]
  },
  {
   "cell_type": "code",
   "execution_count": 20,
   "id": "mediterranean-helicopter",
   "metadata": {},
   "outputs": [
    {
     "data": {
      "text/plain": [
       "0   2019-04-26\n",
       "1   2019-09-03\n",
       "2   2019-11-11\n",
       "3   2020-05-06\n",
       "4   2020-04-20\n",
       "Name: document_create_date, dtype: datetime64[ns]"
      ]
     },
     "execution_count": 20,
     "metadata": {},
     "output_type": "execute_result"
    }
   ],
   "source": [
    "df['document_create_date']=pd.to_datetime(df['document_create_date'],format='%Y%m%d')\n",
    "df['document_create_date'].head(5)"
   ]
  },
  {
   "cell_type": "code",
   "execution_count": 21,
   "id": "comparable-fever",
   "metadata": {},
   "outputs": [
    {
     "data": {
      "text/plain": [
       "0   2019-05-01\n",
       "1   2019-09-03\n",
       "2   2019-11-11\n",
       "3   2020-05-06\n",
       "4   2020-04-22\n",
       "Name: document_create_date.1, dtype: datetime64[ns]"
      ]
     },
     "execution_count": 21,
     "metadata": {},
     "output_type": "execute_result"
    }
   ],
   "source": [
    "df['document_create_date.1']=pd.to_datetime(df['document_create_date.1'],format='%Y%m%d')\n",
    "df['document_create_date.1'].head(5)"
   ]
  },
  {
   "cell_type": "code",
   "execution_count": 22,
   "id": "cleared-brunswick",
   "metadata": {},
   "outputs": [
    {
     "data": {
      "text/plain": [
       "0   2019-05-16\n",
       "1   2019-09-18\n",
       "2   2019-11-21\n",
       "3   2020-05-21\n",
       "4   2020-06-26\n",
       "Name: due_in_date, dtype: datetime64[ns]"
      ]
     },
     "execution_count": 22,
     "metadata": {},
     "output_type": "execute_result"
    }
   ],
   "source": [
    "df['due_in_date']=pd.to_datetime(df['due_in_date'],format='%Y%m%d')\n",
    "df['due_in_date'].head()"
   ]
  },
  {
   "cell_type": "code",
   "execution_count": 23,
   "id": "specialized-market",
   "metadata": {},
   "outputs": [
    {
     "data": {
      "text/plain": [
       "0   2019-05-01\n",
       "1   2019-09-03\n",
       "2   2019-11-11\n",
       "3   2020-05-06\n",
       "4   2020-04-22\n",
       "Name: baseline_create_date, dtype: datetime64[ns]"
      ]
     },
     "execution_count": 23,
     "metadata": {},
     "output_type": "execute_result"
    }
   ],
   "source": [
    "df['baseline_create_date']=pd.to_datetime(df['baseline_create_date'],format='%Y%m%d')\n",
    "df['baseline_create_date'].head()"
   ]
  },
  {
   "cell_type": "code",
   "execution_count": 24,
   "id": "injured-stick",
   "metadata": {},
   "outputs": [
    {
     "data": {
      "text/plain": [
       "0   2019-05-17\n",
       "1   2019-09-18\n",
       "2   2019-11-22\n",
       "3          NaT\n",
       "4          NaT\n",
       "Name: clear_date, dtype: datetime64[ns]"
      ]
     },
     "execution_count": 24,
     "metadata": {},
     "output_type": "execute_result"
    }
   ],
   "source": [
    "df['clear_date']=pd.to_datetime(df['clear_date'],format='%Y-%m-%d %H:%M:%S')\n",
    "df['clear_date'].head()"
   ]
  },
  {
   "cell_type": "code",
   "execution_count": 25,
   "id": "improving-driving",
   "metadata": {},
   "outputs": [
    {
     "data": {
      "text/plain": [
       "0   2019-05-01\n",
       "1   2019-09-03\n",
       "2   2019-11-11\n",
       "3   2020-05-06\n",
       "4   2020-04-22\n",
       "Name: posting_date, dtype: datetime64[ns]"
      ]
     },
     "execution_count": 25,
     "metadata": {},
     "output_type": "execute_result"
    }
   ],
   "source": [
    "df['posting_date']=pd.to_datetime(df['posting_date'],format='%Y-%m-%d')\n",
    "df['posting_date'].head()"
   ]
  },
  {
   "cell_type": "code",
   "execution_count": 26,
   "id": "placed-mother",
   "metadata": {},
   "outputs": [
    {
     "name": "stdout",
     "output_type": "stream",
     "text": [
      "<class 'pandas.core.frame.DataFrame'>\n",
      "RangeIndex: 49995 entries, 0 to 49994\n",
      "Data columns (total 15 columns):\n",
      " #   Column                  Non-Null Count  Dtype         \n",
      "---  ------                  --------------  -----         \n",
      " 0   business_code           49995 non-null  object        \n",
      " 1   cust_number             49995 non-null  object        \n",
      " 2   name_customer           49995 non-null  object        \n",
      " 3   clear_date              39995 non-null  datetime64[ns]\n",
      " 4   buisness_year           49995 non-null  float64       \n",
      " 5   posting_date            49995 non-null  datetime64[ns]\n",
      " 6   document_create_date    49995 non-null  datetime64[ns]\n",
      " 7   document_create_date.1  49995 non-null  datetime64[ns]\n",
      " 8   due_in_date             49995 non-null  datetime64[ns]\n",
      " 9   invoice_currency        49995 non-null  object        \n",
      " 10  total_open_amount       49995 non-null  float64       \n",
      " 11  baseline_create_date    49995 non-null  datetime64[ns]\n",
      " 12  cust_payment_terms      49995 non-null  object        \n",
      " 13  invoice_id              49995 non-null  float64       \n",
      " 14  isOpen                  49995 non-null  int64         \n",
      "dtypes: datetime64[ns](6), float64(3), int64(1), object(5)\n",
      "memory usage: 5.7+ MB\n"
     ]
    }
   ],
   "source": [
    "df.info()"
   ]
  },
  {
   "cell_type": "markdown",
   "id": "literary-wells",
   "metadata": {},
   "source": [
    "# **Again Checking for Duplicate Columns** "
   ]
  },
  {
   "cell_type": "code",
   "execution_count": 27,
   "id": "boxed-blank",
   "metadata": {},
   "outputs": [
    {
     "name": "stdout",
     "output_type": "stream",
     "text": [
      "Duplicate with : document_create_date.1\n",
      "['posting_date']\n"
     ]
    }
   ],
   "source": [
    "duplicate = []\n",
    "for x in range (df.shape[1]):\n",
    "    col = df.iloc[:,x]\n",
    "    for y in range (x+1, df.shape[1]):\n",
    "        othercol = df.iloc[:,y]\n",
    "        if(col.equals(othercol)):\n",
    "            duplicate.append(df.columns[x]);\n",
    "            print(\"Duplicate with : \"+df.columns[y])\n",
    "print(duplicate)"
   ]
  },
  {
   "cell_type": "code",
   "execution_count": 28,
   "id": "scheduled-envelope",
   "metadata": {},
   "outputs": [],
   "source": [
    "df.drop(duplicate, axis = 1, inplace=True) "
   ]
  },
  {
   "cell_type": "code",
   "execution_count": 29,
   "id": "unexpected-yellow",
   "metadata": {},
   "outputs": [
    {
     "name": "stdout",
     "output_type": "stream",
     "text": [
      "business_code\n",
      "cust_number\n",
      "name_customer\n",
      "clear_date\n",
      "buisness_year\n",
      "document_create_date\n",
      "document_create_date.1\n",
      "due_in_date\n",
      "invoice_currency\n",
      "total_open_amount\n",
      "baseline_create_date\n",
      "cust_payment_terms\n",
      "invoice_id\n",
      "isOpen\n"
     ]
    }
   ],
   "source": [
    "for col in df.columns:\n",
    "    print(col)"
   ]
  },
  {
   "cell_type": "markdown",
   "id": "official-texture",
   "metadata": {},
   "source": [
    "# **Between document_create_date & document_create_date.1, we can drop one of them**"
   ]
  },
  {
   "cell_type": "code",
   "execution_count": 30,
   "id": "commercial-excitement",
   "metadata": {},
   "outputs": [],
   "source": [
    "# Due to Quasi-constant we can drop one of them\n",
    "df.drop(columns=['document_create_date'],inplace=True)"
   ]
  },
  {
   "cell_type": "markdown",
   "id": "thick-lending",
   "metadata": {},
   "source": [
    "# **Invoice Id is unique for each transaction and don't affect the sales, so we drop it**"
   ]
  },
  {
   "cell_type": "code",
   "execution_count": 31,
   "id": "north-apartment",
   "metadata": {},
   "outputs": [],
   "source": [
    "df.drop(columns=['invoice_id'],inplace=True)"
   ]
  },
  {
   "cell_type": "code",
   "execution_count": 32,
   "id": "preceding-temperature",
   "metadata": {},
   "outputs": [
    {
     "data": {
      "text/html": [
       "<div>\n",
       "<style scoped>\n",
       "    .dataframe tbody tr th:only-of-type {\n",
       "        vertical-align: middle;\n",
       "    }\n",
       "\n",
       "    .dataframe tbody tr th {\n",
       "        vertical-align: top;\n",
       "    }\n",
       "\n",
       "    .dataframe thead th {\n",
       "        text-align: right;\n",
       "    }\n",
       "</style>\n",
       "<table border=\"1\" class=\"dataframe\">\n",
       "  <thead>\n",
       "    <tr style=\"text-align: right;\">\n",
       "      <th></th>\n",
       "      <th>business_code</th>\n",
       "      <th>cust_number</th>\n",
       "      <th>name_customer</th>\n",
       "      <th>clear_date</th>\n",
       "      <th>buisness_year</th>\n",
       "      <th>document_create_date.1</th>\n",
       "      <th>due_in_date</th>\n",
       "      <th>invoice_currency</th>\n",
       "      <th>total_open_amount</th>\n",
       "      <th>baseline_create_date</th>\n",
       "      <th>cust_payment_terms</th>\n",
       "      <th>isOpen</th>\n",
       "    </tr>\n",
       "  </thead>\n",
       "  <tbody>\n",
       "    <tr>\n",
       "      <th>0</th>\n",
       "      <td>U001</td>\n",
       "      <td>0200040366</td>\n",
       "      <td>RASTEL co</td>\n",
       "      <td>2019-05-17</td>\n",
       "      <td>2019.0</td>\n",
       "      <td>2019-05-01</td>\n",
       "      <td>2019-05-16</td>\n",
       "      <td>USD</td>\n",
       "      <td>2160.31</td>\n",
       "      <td>2019-05-01</td>\n",
       "      <td>NAA8</td>\n",
       "      <td>0</td>\n",
       "    </tr>\n",
       "    <tr>\n",
       "      <th>1</th>\n",
       "      <td>U001</td>\n",
       "      <td>0200707822</td>\n",
       "      <td>PUBLI us</td>\n",
       "      <td>2019-09-18</td>\n",
       "      <td>2019.0</td>\n",
       "      <td>2019-09-03</td>\n",
       "      <td>2019-09-18</td>\n",
       "      <td>USD</td>\n",
       "      <td>111586.61</td>\n",
       "      <td>2019-09-03</td>\n",
       "      <td>NAA8</td>\n",
       "      <td>0</td>\n",
       "    </tr>\n",
       "    <tr>\n",
       "      <th>2</th>\n",
       "      <td>CA02</td>\n",
       "      <td>0140104409</td>\n",
       "      <td>LOB co</td>\n",
       "      <td>2019-11-22</td>\n",
       "      <td>2019.0</td>\n",
       "      <td>2019-11-11</td>\n",
       "      <td>2019-11-21</td>\n",
       "      <td>CAD</td>\n",
       "      <td>65153.44</td>\n",
       "      <td>2019-11-11</td>\n",
       "      <td>CA10</td>\n",
       "      <td>0</td>\n",
       "    </tr>\n",
       "    <tr>\n",
       "      <th>3</th>\n",
       "      <td>U001</td>\n",
       "      <td>200390794</td>\n",
       "      <td>CASH-W corporation</td>\n",
       "      <td>NaT</td>\n",
       "      <td>2020.0</td>\n",
       "      <td>2020-05-06</td>\n",
       "      <td>2020-05-21</td>\n",
       "      <td>USD</td>\n",
       "      <td>21634.82</td>\n",
       "      <td>2020-05-06</td>\n",
       "      <td>NAA8</td>\n",
       "      <td>1</td>\n",
       "    </tr>\n",
       "    <tr>\n",
       "      <th>4</th>\n",
       "      <td>U001</td>\n",
       "      <td>0200418007</td>\n",
       "      <td>AM corporation</td>\n",
       "      <td>NaT</td>\n",
       "      <td>2020.0</td>\n",
       "      <td>2020-04-22</td>\n",
       "      <td>2020-06-26</td>\n",
       "      <td>USD</td>\n",
       "      <td>31.56</td>\n",
       "      <td>2020-04-22</td>\n",
       "      <td>NAGD</td>\n",
       "      <td>1</td>\n",
       "    </tr>\n",
       "  </tbody>\n",
       "</table>\n",
       "</div>"
      ],
      "text/plain": [
       "  business_code cust_number       name_customer clear_date  buisness_year  \\\n",
       "0          U001  0200040366           RASTEL co 2019-05-17         2019.0   \n",
       "1          U001  0200707822            PUBLI us 2019-09-18         2019.0   \n",
       "2          CA02  0140104409              LOB co 2019-11-22         2019.0   \n",
       "3          U001   200390794  CASH-W corporation        NaT         2020.0   \n",
       "4          U001  0200418007      AM corporation        NaT         2020.0   \n",
       "\n",
       "  document_create_date.1 due_in_date invoice_currency  total_open_amount  \\\n",
       "0             2019-05-01  2019-05-16              USD            2160.31   \n",
       "1             2019-09-03  2019-09-18              USD          111586.61   \n",
       "2             2019-11-11  2019-11-21              CAD           65153.44   \n",
       "3             2020-05-06  2020-05-21              USD           21634.82   \n",
       "4             2020-04-22  2020-06-26              USD              31.56   \n",
       "\n",
       "  baseline_create_date cust_payment_terms  isOpen  \n",
       "0           2019-05-01               NAA8       0  \n",
       "1           2019-09-03               NAA8       0  \n",
       "2           2019-11-11               CA10       0  \n",
       "3           2020-05-06               NAA8       1  \n",
       "4           2020-04-22               NAGD       1  "
      ]
     },
     "execution_count": 32,
     "metadata": {},
     "output_type": "execute_result"
    }
   ],
   "source": [
    "df.head()"
   ]
  },
  {
   "cell_type": "markdown",
   "id": "killing-enemy",
   "metadata": {},
   "source": [
    "# **Dropping the Duplicate Rows**"
   ]
  },
  {
   "cell_type": "code",
   "execution_count": 33,
   "id": "excessive-saudi",
   "metadata": {},
   "outputs": [
    {
     "data": {
      "text/html": [
       "<div>\n",
       "<style scoped>\n",
       "    .dataframe tbody tr th:only-of-type {\n",
       "        vertical-align: middle;\n",
       "    }\n",
       "\n",
       "    .dataframe tbody tr th {\n",
       "        vertical-align: top;\n",
       "    }\n",
       "\n",
       "    .dataframe thead th {\n",
       "        text-align: right;\n",
       "    }\n",
       "</style>\n",
       "<table border=\"1\" class=\"dataframe\">\n",
       "  <thead>\n",
       "    <tr style=\"text-align: right;\">\n",
       "      <th></th>\n",
       "      <th>business_code</th>\n",
       "      <th>cust_number</th>\n",
       "      <th>name_customer</th>\n",
       "      <th>clear_date</th>\n",
       "      <th>buisness_year</th>\n",
       "      <th>document_create_date.1</th>\n",
       "      <th>due_in_date</th>\n",
       "      <th>invoice_currency</th>\n",
       "      <th>total_open_amount</th>\n",
       "      <th>baseline_create_date</th>\n",
       "      <th>cust_payment_terms</th>\n",
       "      <th>isOpen</th>\n",
       "    </tr>\n",
       "  </thead>\n",
       "  <tbody>\n",
       "    <tr>\n",
       "      <th>0</th>\n",
       "      <td>U001</td>\n",
       "      <td>0200040366</td>\n",
       "      <td>RASTEL co</td>\n",
       "      <td>2019-05-17</td>\n",
       "      <td>2019.0</td>\n",
       "      <td>2019-05-01</td>\n",
       "      <td>2019-05-16</td>\n",
       "      <td>USD</td>\n",
       "      <td>2160.31</td>\n",
       "      <td>2019-05-01</td>\n",
       "      <td>NAA8</td>\n",
       "      <td>0</td>\n",
       "    </tr>\n",
       "    <tr>\n",
       "      <th>1</th>\n",
       "      <td>U001</td>\n",
       "      <td>0200707822</td>\n",
       "      <td>PUBLI us</td>\n",
       "      <td>2019-09-18</td>\n",
       "      <td>2019.0</td>\n",
       "      <td>2019-09-03</td>\n",
       "      <td>2019-09-18</td>\n",
       "      <td>USD</td>\n",
       "      <td>111586.61</td>\n",
       "      <td>2019-09-03</td>\n",
       "      <td>NAA8</td>\n",
       "      <td>0</td>\n",
       "    </tr>\n",
       "    <tr>\n",
       "      <th>2</th>\n",
       "      <td>CA02</td>\n",
       "      <td>0140104409</td>\n",
       "      <td>LOB co</td>\n",
       "      <td>2019-11-22</td>\n",
       "      <td>2019.0</td>\n",
       "      <td>2019-11-11</td>\n",
       "      <td>2019-11-21</td>\n",
       "      <td>CAD</td>\n",
       "      <td>65153.44</td>\n",
       "      <td>2019-11-11</td>\n",
       "      <td>CA10</td>\n",
       "      <td>0</td>\n",
       "    </tr>\n",
       "    <tr>\n",
       "      <th>3</th>\n",
       "      <td>U001</td>\n",
       "      <td>200390794</td>\n",
       "      <td>CASH-W corporation</td>\n",
       "      <td>NaT</td>\n",
       "      <td>2020.0</td>\n",
       "      <td>2020-05-06</td>\n",
       "      <td>2020-05-21</td>\n",
       "      <td>USD</td>\n",
       "      <td>21634.82</td>\n",
       "      <td>2020-05-06</td>\n",
       "      <td>NAA8</td>\n",
       "      <td>1</td>\n",
       "    </tr>\n",
       "    <tr>\n",
       "      <th>4</th>\n",
       "      <td>U001</td>\n",
       "      <td>0200418007</td>\n",
       "      <td>AM corporation</td>\n",
       "      <td>NaT</td>\n",
       "      <td>2020.0</td>\n",
       "      <td>2020-04-22</td>\n",
       "      <td>2020-06-26</td>\n",
       "      <td>USD</td>\n",
       "      <td>31.56</td>\n",
       "      <td>2020-04-22</td>\n",
       "      <td>NAGD</td>\n",
       "      <td>1</td>\n",
       "    </tr>\n",
       "    <tr>\n",
       "      <th>...</th>\n",
       "      <td>...</td>\n",
       "      <td>...</td>\n",
       "      <td>...</td>\n",
       "      <td>...</td>\n",
       "      <td>...</td>\n",
       "      <td>...</td>\n",
       "      <td>...</td>\n",
       "      <td>...</td>\n",
       "      <td>...</td>\n",
       "      <td>...</td>\n",
       "      <td>...</td>\n",
       "      <td>...</td>\n",
       "    </tr>\n",
       "    <tr>\n",
       "      <th>48733</th>\n",
       "      <td>U001</td>\n",
       "      <td>0200875006</td>\n",
       "      <td>KROGER associates</td>\n",
       "      <td>2019-04-26</td>\n",
       "      <td>2019.0</td>\n",
       "      <td>2019-04-11</td>\n",
       "      <td>2019-04-26</td>\n",
       "      <td>USD</td>\n",
       "      <td>184407.56</td>\n",
       "      <td>2019-04-11</td>\n",
       "      <td>NAA8</td>\n",
       "      <td>0</td>\n",
       "    </tr>\n",
       "    <tr>\n",
       "      <th>48734</th>\n",
       "      <td>U001</td>\n",
       "      <td>0200769623</td>\n",
       "      <td>WAL-MAR foundation</td>\n",
       "      <td>2019-11-04</td>\n",
       "      <td>2019.0</td>\n",
       "      <td>2019-10-24</td>\n",
       "      <td>2019-11-08</td>\n",
       "      <td>USD</td>\n",
       "      <td>16175.40</td>\n",
       "      <td>2019-10-24</td>\n",
       "      <td>NAH4</td>\n",
       "      <td>0</td>\n",
       "    </tr>\n",
       "    <tr>\n",
       "      <th>48735</th>\n",
       "      <td>U001</td>\n",
       "      <td>0200769623</td>\n",
       "      <td>WAL-MAR llc</td>\n",
       "      <td>NaT</td>\n",
       "      <td>2020.0</td>\n",
       "      <td>2020-04-21</td>\n",
       "      <td>2020-05-06</td>\n",
       "      <td>USD</td>\n",
       "      <td>54791.03</td>\n",
       "      <td>2020-04-21</td>\n",
       "      <td>NAH4</td>\n",
       "      <td>1</td>\n",
       "    </tr>\n",
       "    <tr>\n",
       "      <th>48736</th>\n",
       "      <td>U001</td>\n",
       "      <td>0200759878</td>\n",
       "      <td>SA co</td>\n",
       "      <td>2019-03-11</td>\n",
       "      <td>2019.0</td>\n",
       "      <td>2019-02-23</td>\n",
       "      <td>2019-03-10</td>\n",
       "      <td>USD</td>\n",
       "      <td>73799.96</td>\n",
       "      <td>2019-02-23</td>\n",
       "      <td>NAH4</td>\n",
       "      <td>0</td>\n",
       "    </tr>\n",
       "    <tr>\n",
       "      <th>48737</th>\n",
       "      <td>U001</td>\n",
       "      <td>0200865666</td>\n",
       "      <td>RESTAU corp</td>\n",
       "      <td>2019-03-20</td>\n",
       "      <td>2019.0</td>\n",
       "      <td>2019-03-05</td>\n",
       "      <td>2019-03-20</td>\n",
       "      <td>USD</td>\n",
       "      <td>11895.36</td>\n",
       "      <td>2019-03-05</td>\n",
       "      <td>NAA8</td>\n",
       "      <td>0</td>\n",
       "    </tr>\n",
       "  </tbody>\n",
       "</table>\n",
       "<p>48738 rows × 12 columns</p>\n",
       "</div>"
      ],
      "text/plain": [
       "      business_code cust_number       name_customer clear_date  buisness_year  \\\n",
       "0              U001  0200040366           RASTEL co 2019-05-17         2019.0   \n",
       "1              U001  0200707822            PUBLI us 2019-09-18         2019.0   \n",
       "2              CA02  0140104409              LOB co 2019-11-22         2019.0   \n",
       "3              U001   200390794  CASH-W corporation        NaT         2020.0   \n",
       "4              U001  0200418007      AM corporation        NaT         2020.0   \n",
       "...             ...         ...                 ...        ...            ...   \n",
       "48733          U001  0200875006   KROGER associates 2019-04-26         2019.0   \n",
       "48734          U001  0200769623  WAL-MAR foundation 2019-11-04         2019.0   \n",
       "48735          U001  0200769623         WAL-MAR llc        NaT         2020.0   \n",
       "48736          U001  0200759878               SA co 2019-03-11         2019.0   \n",
       "48737          U001  0200865666         RESTAU corp 2019-03-20         2019.0   \n",
       "\n",
       "      document_create_date.1 due_in_date invoice_currency  total_open_amount  \\\n",
       "0                 2019-05-01  2019-05-16              USD            2160.31   \n",
       "1                 2019-09-03  2019-09-18              USD          111586.61   \n",
       "2                 2019-11-11  2019-11-21              CAD           65153.44   \n",
       "3                 2020-05-06  2020-05-21              USD           21634.82   \n",
       "4                 2020-04-22  2020-06-26              USD              31.56   \n",
       "...                      ...         ...              ...                ...   \n",
       "48733             2019-04-11  2019-04-26              USD          184407.56   \n",
       "48734             2019-10-24  2019-11-08              USD           16175.40   \n",
       "48735             2020-04-21  2020-05-06              USD           54791.03   \n",
       "48736             2019-02-23  2019-03-10              USD           73799.96   \n",
       "48737             2019-03-05  2019-03-20              USD           11895.36   \n",
       "\n",
       "      baseline_create_date cust_payment_terms  isOpen  \n",
       "0               2019-05-01               NAA8       0  \n",
       "1               2019-09-03               NAA8       0  \n",
       "2               2019-11-11               CA10       0  \n",
       "3               2020-05-06               NAA8       1  \n",
       "4               2020-04-22               NAGD       1  \n",
       "...                    ...                ...     ...  \n",
       "48733           2019-04-11               NAA8       0  \n",
       "48734           2019-10-24               NAH4       0  \n",
       "48735           2020-04-21               NAH4       1  \n",
       "48736           2019-02-23               NAH4       0  \n",
       "48737           2019-03-05               NAA8       0  \n",
       "\n",
       "[48738 rows x 12 columns]"
      ]
     },
     "execution_count": 33,
     "metadata": {},
     "output_type": "execute_result"
    }
   ],
   "source": [
    "df.drop_duplicates(keep='first', inplace=True)\n",
    "df.reset_index(drop=True, inplace=True)\n",
    "df"
   ]
  },
  {
   "cell_type": "markdown",
   "id": "published-maldives",
   "metadata": {},
   "source": [
    "# **Target Variable**\n",
    "# *Our Model can't Predict Dates so target column will not be clear_date.*\n",
    "# *We will add delay column as target column where delay = due_in_date - clear_date*"
   ]
  },
  {
   "cell_type": "code",
   "execution_count": 34,
   "id": "thirty-mining",
   "metadata": {},
   "outputs": [],
   "source": [
    "df['delay']=(df['clear_date']-df['due_in_date']).dt.days"
   ]
  },
  {
   "cell_type": "code",
   "execution_count": 35,
   "id": "electronic-benefit",
   "metadata": {},
   "outputs": [
    {
     "data": {
      "text/html": [
       "<div>\n",
       "<style scoped>\n",
       "    .dataframe tbody tr th:only-of-type {\n",
       "        vertical-align: middle;\n",
       "    }\n",
       "\n",
       "    .dataframe tbody tr th {\n",
       "        vertical-align: top;\n",
       "    }\n",
       "\n",
       "    .dataframe thead th {\n",
       "        text-align: right;\n",
       "    }\n",
       "</style>\n",
       "<table border=\"1\" class=\"dataframe\">\n",
       "  <thead>\n",
       "    <tr style=\"text-align: right;\">\n",
       "      <th></th>\n",
       "      <th>business_code</th>\n",
       "      <th>cust_number</th>\n",
       "      <th>name_customer</th>\n",
       "      <th>clear_date</th>\n",
       "      <th>buisness_year</th>\n",
       "      <th>document_create_date.1</th>\n",
       "      <th>due_in_date</th>\n",
       "      <th>invoice_currency</th>\n",
       "      <th>total_open_amount</th>\n",
       "      <th>baseline_create_date</th>\n",
       "      <th>cust_payment_terms</th>\n",
       "      <th>isOpen</th>\n",
       "      <th>delay</th>\n",
       "    </tr>\n",
       "  </thead>\n",
       "  <tbody>\n",
       "    <tr>\n",
       "      <th>0</th>\n",
       "      <td>U001</td>\n",
       "      <td>0200040366</td>\n",
       "      <td>RASTEL co</td>\n",
       "      <td>2019-05-17</td>\n",
       "      <td>2019.0</td>\n",
       "      <td>2019-05-01</td>\n",
       "      <td>2019-05-16</td>\n",
       "      <td>USD</td>\n",
       "      <td>2160.31</td>\n",
       "      <td>2019-05-01</td>\n",
       "      <td>NAA8</td>\n",
       "      <td>0</td>\n",
       "      <td>1.0</td>\n",
       "    </tr>\n",
       "    <tr>\n",
       "      <th>1</th>\n",
       "      <td>U001</td>\n",
       "      <td>0200707822</td>\n",
       "      <td>PUBLI us</td>\n",
       "      <td>2019-09-18</td>\n",
       "      <td>2019.0</td>\n",
       "      <td>2019-09-03</td>\n",
       "      <td>2019-09-18</td>\n",
       "      <td>USD</td>\n",
       "      <td>111586.61</td>\n",
       "      <td>2019-09-03</td>\n",
       "      <td>NAA8</td>\n",
       "      <td>0</td>\n",
       "      <td>0.0</td>\n",
       "    </tr>\n",
       "    <tr>\n",
       "      <th>2</th>\n",
       "      <td>CA02</td>\n",
       "      <td>0140104409</td>\n",
       "      <td>LOB co</td>\n",
       "      <td>2019-11-22</td>\n",
       "      <td>2019.0</td>\n",
       "      <td>2019-11-11</td>\n",
       "      <td>2019-11-21</td>\n",
       "      <td>CAD</td>\n",
       "      <td>65153.44</td>\n",
       "      <td>2019-11-11</td>\n",
       "      <td>CA10</td>\n",
       "      <td>0</td>\n",
       "      <td>1.0</td>\n",
       "    </tr>\n",
       "    <tr>\n",
       "      <th>3</th>\n",
       "      <td>U001</td>\n",
       "      <td>200390794</td>\n",
       "      <td>CASH-W corporation</td>\n",
       "      <td>NaT</td>\n",
       "      <td>2020.0</td>\n",
       "      <td>2020-05-06</td>\n",
       "      <td>2020-05-21</td>\n",
       "      <td>USD</td>\n",
       "      <td>21634.82</td>\n",
       "      <td>2020-05-06</td>\n",
       "      <td>NAA8</td>\n",
       "      <td>1</td>\n",
       "      <td>NaN</td>\n",
       "    </tr>\n",
       "    <tr>\n",
       "      <th>4</th>\n",
       "      <td>U001</td>\n",
       "      <td>0200418007</td>\n",
       "      <td>AM corporation</td>\n",
       "      <td>NaT</td>\n",
       "      <td>2020.0</td>\n",
       "      <td>2020-04-22</td>\n",
       "      <td>2020-06-26</td>\n",
       "      <td>USD</td>\n",
       "      <td>31.56</td>\n",
       "      <td>2020-04-22</td>\n",
       "      <td>NAGD</td>\n",
       "      <td>1</td>\n",
       "      <td>NaN</td>\n",
       "    </tr>\n",
       "  </tbody>\n",
       "</table>\n",
       "</div>"
      ],
      "text/plain": [
       "  business_code cust_number       name_customer clear_date  buisness_year  \\\n",
       "0          U001  0200040366           RASTEL co 2019-05-17         2019.0   \n",
       "1          U001  0200707822            PUBLI us 2019-09-18         2019.0   \n",
       "2          CA02  0140104409              LOB co 2019-11-22         2019.0   \n",
       "3          U001   200390794  CASH-W corporation        NaT         2020.0   \n",
       "4          U001  0200418007      AM corporation        NaT         2020.0   \n",
       "\n",
       "  document_create_date.1 due_in_date invoice_currency  total_open_amount  \\\n",
       "0             2019-05-01  2019-05-16              USD            2160.31   \n",
       "1             2019-09-03  2019-09-18              USD          111586.61   \n",
       "2             2019-11-11  2019-11-21              CAD           65153.44   \n",
       "3             2020-05-06  2020-05-21              USD           21634.82   \n",
       "4             2020-04-22  2020-06-26              USD              31.56   \n",
       "\n",
       "  baseline_create_date cust_payment_terms  isOpen  delay  \n",
       "0           2019-05-01               NAA8       0    1.0  \n",
       "1           2019-09-03               NAA8       0    0.0  \n",
       "2           2019-11-11               CA10       0    1.0  \n",
       "3           2020-05-06               NAA8       1    NaN  \n",
       "4           2020-04-22               NAGD       1    NaN  "
      ]
     },
     "execution_count": 35,
     "metadata": {},
     "output_type": "execute_result"
    }
   ],
   "source": [
    "df.head()"
   ]
  },
  {
   "cell_type": "markdown",
   "id": "solid-cannon",
   "metadata": {},
   "source": [
    "# **Sorting with respect to document_create_date.1**"
   ]
  },
  {
   "cell_type": "code",
   "execution_count": 36,
   "id": "confident-toronto",
   "metadata": {},
   "outputs": [],
   "source": [
    "#So that future date will not be included in Train Dataset\n",
    "df.sort_values(by='document_create_date.1',inplace=True)\n",
    "df.reset_index(drop=True, inplace=True)"
   ]
  },
  {
   "cell_type": "code",
   "execution_count": 37,
   "id": "directed-ireland",
   "metadata": {},
   "outputs": [
    {
     "data": {
      "text/html": [
       "<div>\n",
       "<style scoped>\n",
       "    .dataframe tbody tr th:only-of-type {\n",
       "        vertical-align: middle;\n",
       "    }\n",
       "\n",
       "    .dataframe tbody tr th {\n",
       "        vertical-align: top;\n",
       "    }\n",
       "\n",
       "    .dataframe thead th {\n",
       "        text-align: right;\n",
       "    }\n",
       "</style>\n",
       "<table border=\"1\" class=\"dataframe\">\n",
       "  <thead>\n",
       "    <tr style=\"text-align: right;\">\n",
       "      <th></th>\n",
       "      <th>business_code</th>\n",
       "      <th>cust_number</th>\n",
       "      <th>name_customer</th>\n",
       "      <th>clear_date</th>\n",
       "      <th>buisness_year</th>\n",
       "      <th>document_create_date.1</th>\n",
       "      <th>due_in_date</th>\n",
       "      <th>invoice_currency</th>\n",
       "      <th>total_open_amount</th>\n",
       "      <th>baseline_create_date</th>\n",
       "      <th>cust_payment_terms</th>\n",
       "      <th>isOpen</th>\n",
       "      <th>delay</th>\n",
       "    </tr>\n",
       "  </thead>\n",
       "  <tbody>\n",
       "    <tr>\n",
       "      <th>0</th>\n",
       "      <td>U001</td>\n",
       "      <td>0200769623</td>\n",
       "      <td>WAL-MAR co</td>\n",
       "      <td>2019-01-09</td>\n",
       "      <td>2019.0</td>\n",
       "      <td>2018-12-30</td>\n",
       "      <td>2019-01-14</td>\n",
       "      <td>USD</td>\n",
       "      <td>11582.37</td>\n",
       "      <td>2018-12-30</td>\n",
       "      <td>NAH4</td>\n",
       "      <td>0</td>\n",
       "      <td>-5.0</td>\n",
       "    </tr>\n",
       "    <tr>\n",
       "      <th>1</th>\n",
       "      <td>U001</td>\n",
       "      <td>0200741174</td>\n",
       "      <td>M B  trust</td>\n",
       "      <td>2019-02-01</td>\n",
       "      <td>2019.0</td>\n",
       "      <td>2018-12-30</td>\n",
       "      <td>2019-01-31</td>\n",
       "      <td>USD</td>\n",
       "      <td>22776.00</td>\n",
       "      <td>2018-12-30</td>\n",
       "      <td>NA32</td>\n",
       "      <td>0</td>\n",
       "      <td>1.0</td>\n",
       "    </tr>\n",
       "    <tr>\n",
       "      <th>2</th>\n",
       "      <td>U001</td>\n",
       "      <td>0200726979</td>\n",
       "      <td>BJ'S  trust</td>\n",
       "      <td>2019-01-15</td>\n",
       "      <td>2019.0</td>\n",
       "      <td>2018-12-30</td>\n",
       "      <td>2019-01-14</td>\n",
       "      <td>USD</td>\n",
       "      <td>33.18</td>\n",
       "      <td>2018-12-30</td>\n",
       "      <td>NAA8</td>\n",
       "      <td>0</td>\n",
       "      <td>1.0</td>\n",
       "    </tr>\n",
       "    <tr>\n",
       "      <th>3</th>\n",
       "      <td>U001</td>\n",
       "      <td>0200769623</td>\n",
       "      <td>WAL-MAR foundation</td>\n",
       "      <td>2019-01-09</td>\n",
       "      <td>2019.0</td>\n",
       "      <td>2018-12-30</td>\n",
       "      <td>2019-01-14</td>\n",
       "      <td>USD</td>\n",
       "      <td>8286.44</td>\n",
       "      <td>2018-12-30</td>\n",
       "      <td>NAH4</td>\n",
       "      <td>0</td>\n",
       "      <td>-5.0</td>\n",
       "    </tr>\n",
       "    <tr>\n",
       "      <th>4</th>\n",
       "      <td>U001</td>\n",
       "      <td>0100031704</td>\n",
       "      <td>DELHAIZE in</td>\n",
       "      <td>2019-01-14</td>\n",
       "      <td>2019.0</td>\n",
       "      <td>2018-12-30</td>\n",
       "      <td>2019-01-14</td>\n",
       "      <td>USD</td>\n",
       "      <td>81196.56</td>\n",
       "      <td>2018-12-30</td>\n",
       "      <td>NAA8</td>\n",
       "      <td>0</td>\n",
       "      <td>0.0</td>\n",
       "    </tr>\n",
       "    <tr>\n",
       "      <th>...</th>\n",
       "      <td>...</td>\n",
       "      <td>...</td>\n",
       "      <td>...</td>\n",
       "      <td>...</td>\n",
       "      <td>...</td>\n",
       "      <td>...</td>\n",
       "      <td>...</td>\n",
       "      <td>...</td>\n",
       "      <td>...</td>\n",
       "      <td>...</td>\n",
       "      <td>...</td>\n",
       "      <td>...</td>\n",
       "      <td>...</td>\n",
       "    </tr>\n",
       "    <tr>\n",
       "      <th>48733</th>\n",
       "      <td>U001</td>\n",
       "      <td>0200762950</td>\n",
       "      <td>HAR corporation</td>\n",
       "      <td>NaT</td>\n",
       "      <td>2020.0</td>\n",
       "      <td>2020-05-13</td>\n",
       "      <td>2020-05-28</td>\n",
       "      <td>USD</td>\n",
       "      <td>136025.60</td>\n",
       "      <td>2020-05-13</td>\n",
       "      <td>NAA8</td>\n",
       "      <td>1</td>\n",
       "      <td>NaN</td>\n",
       "    </tr>\n",
       "    <tr>\n",
       "      <th>48734</th>\n",
       "      <td>U001</td>\n",
       "      <td>0200915438</td>\n",
       "      <td>GROC corp</td>\n",
       "      <td>NaT</td>\n",
       "      <td>2020.0</td>\n",
       "      <td>2020-05-18</td>\n",
       "      <td>2020-06-02</td>\n",
       "      <td>USD</td>\n",
       "      <td>9291.00</td>\n",
       "      <td>2020-05-18</td>\n",
       "      <td>NAA8</td>\n",
       "      <td>1</td>\n",
       "      <td>NaN</td>\n",
       "    </tr>\n",
       "    <tr>\n",
       "      <th>48735</th>\n",
       "      <td>CA02</td>\n",
       "      <td>0140105785</td>\n",
       "      <td>SHOPPE in</td>\n",
       "      <td>NaT</td>\n",
       "      <td>2020.0</td>\n",
       "      <td>2020-05-19</td>\n",
       "      <td>2020-05-29</td>\n",
       "      <td>CAD</td>\n",
       "      <td>1373.60</td>\n",
       "      <td>2020-05-19</td>\n",
       "      <td>CA10</td>\n",
       "      <td>1</td>\n",
       "      <td>NaN</td>\n",
       "    </tr>\n",
       "    <tr>\n",
       "      <th>48736</th>\n",
       "      <td>U001</td>\n",
       "      <td>0200763229</td>\n",
       "      <td>MAINES llc</td>\n",
       "      <td>NaT</td>\n",
       "      <td>2020.0</td>\n",
       "      <td>2020-05-19</td>\n",
       "      <td>2020-06-03</td>\n",
       "      <td>USD</td>\n",
       "      <td>17544.11</td>\n",
       "      <td>2020-05-19</td>\n",
       "      <td>NAA8</td>\n",
       "      <td>1</td>\n",
       "      <td>NaN</td>\n",
       "    </tr>\n",
       "    <tr>\n",
       "      <th>48737</th>\n",
       "      <td>U001</td>\n",
       "      <td>200956366</td>\n",
       "      <td>RICH systems</td>\n",
       "      <td>NaT</td>\n",
       "      <td>2020.0</td>\n",
       "      <td>2020-05-21</td>\n",
       "      <td>2020-06-05</td>\n",
       "      <td>USD</td>\n",
       "      <td>42360.00</td>\n",
       "      <td>2020-05-21</td>\n",
       "      <td>NAA8</td>\n",
       "      <td>1</td>\n",
       "      <td>NaN</td>\n",
       "    </tr>\n",
       "  </tbody>\n",
       "</table>\n",
       "<p>48738 rows × 13 columns</p>\n",
       "</div>"
      ],
      "text/plain": [
       "      business_code cust_number       name_customer clear_date  buisness_year  \\\n",
       "0              U001  0200769623          WAL-MAR co 2019-01-09         2019.0   \n",
       "1              U001  0200741174          M B  trust 2019-02-01         2019.0   \n",
       "2              U001  0200726979         BJ'S  trust 2019-01-15         2019.0   \n",
       "3              U001  0200769623  WAL-MAR foundation 2019-01-09         2019.0   \n",
       "4              U001  0100031704         DELHAIZE in 2019-01-14         2019.0   \n",
       "...             ...         ...                 ...        ...            ...   \n",
       "48733          U001  0200762950     HAR corporation        NaT         2020.0   \n",
       "48734          U001  0200915438           GROC corp        NaT         2020.0   \n",
       "48735          CA02  0140105785           SHOPPE in        NaT         2020.0   \n",
       "48736          U001  0200763229          MAINES llc        NaT         2020.0   \n",
       "48737          U001   200956366        RICH systems        NaT         2020.0   \n",
       "\n",
       "      document_create_date.1 due_in_date invoice_currency  total_open_amount  \\\n",
       "0                 2018-12-30  2019-01-14              USD           11582.37   \n",
       "1                 2018-12-30  2019-01-31              USD           22776.00   \n",
       "2                 2018-12-30  2019-01-14              USD              33.18   \n",
       "3                 2018-12-30  2019-01-14              USD            8286.44   \n",
       "4                 2018-12-30  2019-01-14              USD           81196.56   \n",
       "...                      ...         ...              ...                ...   \n",
       "48733             2020-05-13  2020-05-28              USD          136025.60   \n",
       "48734             2020-05-18  2020-06-02              USD            9291.00   \n",
       "48735             2020-05-19  2020-05-29              CAD            1373.60   \n",
       "48736             2020-05-19  2020-06-03              USD           17544.11   \n",
       "48737             2020-05-21  2020-06-05              USD           42360.00   \n",
       "\n",
       "      baseline_create_date cust_payment_terms  isOpen  delay  \n",
       "0               2018-12-30               NAH4       0   -5.0  \n",
       "1               2018-12-30               NA32       0    1.0  \n",
       "2               2018-12-30               NAA8       0    1.0  \n",
       "3               2018-12-30               NAH4       0   -5.0  \n",
       "4               2018-12-30               NAA8       0    0.0  \n",
       "...                    ...                ...     ...    ...  \n",
       "48733           2020-05-13               NAA8       1    NaN  \n",
       "48734           2020-05-18               NAA8       1    NaN  \n",
       "48735           2020-05-19               CA10       1    NaN  \n",
       "48736           2020-05-19               NAA8       1    NaN  \n",
       "48737           2020-05-21               NAA8       1    NaN  \n",
       "\n",
       "[48738 rows x 13 columns]"
      ]
     },
     "execution_count": 37,
     "metadata": {},
     "output_type": "execute_result"
    }
   ],
   "source": [
    "df"
   ]
  },
  {
   "cell_type": "markdown",
   "id": "integral-reviewer",
   "metadata": {},
   "source": [
    "# **Splitting - Creating test set on NULL clear_date**"
   ]
  },
  {
   "cell_type": "code",
   "execution_count": 38,
   "id": "reverse-finance",
   "metadata": {},
   "outputs": [
    {
     "data": {
      "text/html": [
       "<div>\n",
       "<style scoped>\n",
       "    .dataframe tbody tr th:only-of-type {\n",
       "        vertical-align: middle;\n",
       "    }\n",
       "\n",
       "    .dataframe tbody tr th {\n",
       "        vertical-align: top;\n",
       "    }\n",
       "\n",
       "    .dataframe thead th {\n",
       "        text-align: right;\n",
       "    }\n",
       "</style>\n",
       "<table border=\"1\" class=\"dataframe\">\n",
       "  <thead>\n",
       "    <tr style=\"text-align: right;\">\n",
       "      <th></th>\n",
       "      <th>business_code</th>\n",
       "      <th>cust_number</th>\n",
       "      <th>name_customer</th>\n",
       "      <th>clear_date</th>\n",
       "      <th>buisness_year</th>\n",
       "      <th>document_create_date.1</th>\n",
       "      <th>due_in_date</th>\n",
       "      <th>invoice_currency</th>\n",
       "      <th>total_open_amount</th>\n",
       "      <th>baseline_create_date</th>\n",
       "      <th>cust_payment_terms</th>\n",
       "      <th>isOpen</th>\n",
       "      <th>delay</th>\n",
       "    </tr>\n",
       "  </thead>\n",
       "  <tbody>\n",
       "    <tr>\n",
       "      <th>0</th>\n",
       "      <td>U013</td>\n",
       "      <td>0100048689</td>\n",
       "      <td>UNISUP foundation</td>\n",
       "      <td>NaT</td>\n",
       "      <td>2020.0</td>\n",
       "      <td>2020-02-27</td>\n",
       "      <td>2020-03-28</td>\n",
       "      <td>USD</td>\n",
       "      <td>33965.02</td>\n",
       "      <td>2020-02-27</td>\n",
       "      <td>NAVE</td>\n",
       "      <td>1</td>\n",
       "      <td>NaN</td>\n",
       "    </tr>\n",
       "    <tr>\n",
       "      <th>1</th>\n",
       "      <td>U001</td>\n",
       "      <td>0200769623</td>\n",
       "      <td>WAL-MAR associates</td>\n",
       "      <td>NaT</td>\n",
       "      <td>2020.0</td>\n",
       "      <td>2020-02-27</td>\n",
       "      <td>2020-03-13</td>\n",
       "      <td>USD</td>\n",
       "      <td>60792.77</td>\n",
       "      <td>2020-02-27</td>\n",
       "      <td>NAH4</td>\n",
       "      <td>1</td>\n",
       "      <td>NaN</td>\n",
       "    </tr>\n",
       "    <tr>\n",
       "      <th>2</th>\n",
       "      <td>U001</td>\n",
       "      <td>0200726979</td>\n",
       "      <td>BJ'S  systems</td>\n",
       "      <td>NaT</td>\n",
       "      <td>2020.0</td>\n",
       "      <td>2020-02-27</td>\n",
       "      <td>2020-03-13</td>\n",
       "      <td>USD</td>\n",
       "      <td>333.59</td>\n",
       "      <td>2020-02-27</td>\n",
       "      <td>NAA8</td>\n",
       "      <td>1</td>\n",
       "      <td>NaN</td>\n",
       "    </tr>\n",
       "    <tr>\n",
       "      <th>3</th>\n",
       "      <td>U001</td>\n",
       "      <td>0200762301</td>\n",
       "      <td>C&amp;S WH foundation</td>\n",
       "      <td>NaT</td>\n",
       "      <td>2020.0</td>\n",
       "      <td>2020-02-27</td>\n",
       "      <td>2020-03-13</td>\n",
       "      <td>USD</td>\n",
       "      <td>24145.01</td>\n",
       "      <td>2020-02-27</td>\n",
       "      <td>NAC6</td>\n",
       "      <td>1</td>\n",
       "      <td>NaN</td>\n",
       "    </tr>\n",
       "    <tr>\n",
       "      <th>4</th>\n",
       "      <td>U001</td>\n",
       "      <td>0200096390</td>\n",
       "      <td>D systems</td>\n",
       "      <td>NaT</td>\n",
       "      <td>2020.0</td>\n",
       "      <td>2020-02-27</td>\n",
       "      <td>2020-03-13</td>\n",
       "      <td>USD</td>\n",
       "      <td>40215.45</td>\n",
       "      <td>2020-02-27</td>\n",
       "      <td>NAA8</td>\n",
       "      <td>1</td>\n",
       "      <td>NaN</td>\n",
       "    </tr>\n",
       "    <tr>\n",
       "      <th>...</th>\n",
       "      <td>...</td>\n",
       "      <td>...</td>\n",
       "      <td>...</td>\n",
       "      <td>...</td>\n",
       "      <td>...</td>\n",
       "      <td>...</td>\n",
       "      <td>...</td>\n",
       "      <td>...</td>\n",
       "      <td>...</td>\n",
       "      <td>...</td>\n",
       "      <td>...</td>\n",
       "      <td>...</td>\n",
       "      <td>...</td>\n",
       "    </tr>\n",
       "    <tr>\n",
       "      <th>9671</th>\n",
       "      <td>U001</td>\n",
       "      <td>0200762950</td>\n",
       "      <td>HAR corporation</td>\n",
       "      <td>NaT</td>\n",
       "      <td>2020.0</td>\n",
       "      <td>2020-05-13</td>\n",
       "      <td>2020-05-28</td>\n",
       "      <td>USD</td>\n",
       "      <td>136025.60</td>\n",
       "      <td>2020-05-13</td>\n",
       "      <td>NAA8</td>\n",
       "      <td>1</td>\n",
       "      <td>NaN</td>\n",
       "    </tr>\n",
       "    <tr>\n",
       "      <th>9672</th>\n",
       "      <td>U001</td>\n",
       "      <td>0200915438</td>\n",
       "      <td>GROC corp</td>\n",
       "      <td>NaT</td>\n",
       "      <td>2020.0</td>\n",
       "      <td>2020-05-18</td>\n",
       "      <td>2020-06-02</td>\n",
       "      <td>USD</td>\n",
       "      <td>9291.00</td>\n",
       "      <td>2020-05-18</td>\n",
       "      <td>NAA8</td>\n",
       "      <td>1</td>\n",
       "      <td>NaN</td>\n",
       "    </tr>\n",
       "    <tr>\n",
       "      <th>9673</th>\n",
       "      <td>CA02</td>\n",
       "      <td>0140105785</td>\n",
       "      <td>SHOPPE in</td>\n",
       "      <td>NaT</td>\n",
       "      <td>2020.0</td>\n",
       "      <td>2020-05-19</td>\n",
       "      <td>2020-05-29</td>\n",
       "      <td>CAD</td>\n",
       "      <td>1373.60</td>\n",
       "      <td>2020-05-19</td>\n",
       "      <td>CA10</td>\n",
       "      <td>1</td>\n",
       "      <td>NaN</td>\n",
       "    </tr>\n",
       "    <tr>\n",
       "      <th>9674</th>\n",
       "      <td>U001</td>\n",
       "      <td>0200763229</td>\n",
       "      <td>MAINES llc</td>\n",
       "      <td>NaT</td>\n",
       "      <td>2020.0</td>\n",
       "      <td>2020-05-19</td>\n",
       "      <td>2020-06-03</td>\n",
       "      <td>USD</td>\n",
       "      <td>17544.11</td>\n",
       "      <td>2020-05-19</td>\n",
       "      <td>NAA8</td>\n",
       "      <td>1</td>\n",
       "      <td>NaN</td>\n",
       "    </tr>\n",
       "    <tr>\n",
       "      <th>9675</th>\n",
       "      <td>U001</td>\n",
       "      <td>200956366</td>\n",
       "      <td>RICH systems</td>\n",
       "      <td>NaT</td>\n",
       "      <td>2020.0</td>\n",
       "      <td>2020-05-21</td>\n",
       "      <td>2020-06-05</td>\n",
       "      <td>USD</td>\n",
       "      <td>42360.00</td>\n",
       "      <td>2020-05-21</td>\n",
       "      <td>NAA8</td>\n",
       "      <td>1</td>\n",
       "      <td>NaN</td>\n",
       "    </tr>\n",
       "  </tbody>\n",
       "</table>\n",
       "<p>9676 rows × 13 columns</p>\n",
       "</div>"
      ],
      "text/plain": [
       "     business_code cust_number       name_customer clear_date  buisness_year  \\\n",
       "0             U013  0100048689   UNISUP foundation        NaT         2020.0   \n",
       "1             U001  0200769623  WAL-MAR associates        NaT         2020.0   \n",
       "2             U001  0200726979       BJ'S  systems        NaT         2020.0   \n",
       "3             U001  0200762301   C&S WH foundation        NaT         2020.0   \n",
       "4             U001  0200096390           D systems        NaT         2020.0   \n",
       "...            ...         ...                 ...        ...            ...   \n",
       "9671          U001  0200762950     HAR corporation        NaT         2020.0   \n",
       "9672          U001  0200915438           GROC corp        NaT         2020.0   \n",
       "9673          CA02  0140105785           SHOPPE in        NaT         2020.0   \n",
       "9674          U001  0200763229          MAINES llc        NaT         2020.0   \n",
       "9675          U001   200956366        RICH systems        NaT         2020.0   \n",
       "\n",
       "     document_create_date.1 due_in_date invoice_currency  total_open_amount  \\\n",
       "0                2020-02-27  2020-03-28              USD           33965.02   \n",
       "1                2020-02-27  2020-03-13              USD           60792.77   \n",
       "2                2020-02-27  2020-03-13              USD             333.59   \n",
       "3                2020-02-27  2020-03-13              USD           24145.01   \n",
       "4                2020-02-27  2020-03-13              USD           40215.45   \n",
       "...                     ...         ...              ...                ...   \n",
       "9671             2020-05-13  2020-05-28              USD          136025.60   \n",
       "9672             2020-05-18  2020-06-02              USD            9291.00   \n",
       "9673             2020-05-19  2020-05-29              CAD            1373.60   \n",
       "9674             2020-05-19  2020-06-03              USD           17544.11   \n",
       "9675             2020-05-21  2020-06-05              USD           42360.00   \n",
       "\n",
       "     baseline_create_date cust_payment_terms  isOpen  delay  \n",
       "0              2020-02-27               NAVE       1    NaN  \n",
       "1              2020-02-27               NAH4       1    NaN  \n",
       "2              2020-02-27               NAA8       1    NaN  \n",
       "3              2020-02-27               NAC6       1    NaN  \n",
       "4              2020-02-27               NAA8       1    NaN  \n",
       "...                   ...                ...     ...    ...  \n",
       "9671           2020-05-13               NAA8       1    NaN  \n",
       "9672           2020-05-18               NAA8       1    NaN  \n",
       "9673           2020-05-19               CA10       1    NaN  \n",
       "9674           2020-05-19               NAA8       1    NaN  \n",
       "9675           2020-05-21               NAA8       1    NaN  \n",
       "\n",
       "[9676 rows x 13 columns]"
      ]
     },
     "execution_count": 38,
     "metadata": {},
     "output_type": "execute_result"
    }
   ],
   "source": [
    "testData = df[df.clear_date.isnull()].reset_index()\n",
    "testData.drop(columns=['index'], inplace=True)\n",
    "testData"
   ]
  },
  {
   "cell_type": "markdown",
   "id": "interesting-paraguay",
   "metadata": {},
   "source": [
    "# **X_Test**"
   ]
  },
  {
   "cell_type": "code",
   "execution_count": 39,
   "id": "associate-brisbane",
   "metadata": {},
   "outputs": [
    {
     "data": {
      "text/html": [
       "<div>\n",
       "<style scoped>\n",
       "    .dataframe tbody tr th:only-of-type {\n",
       "        vertical-align: middle;\n",
       "    }\n",
       "\n",
       "    .dataframe tbody tr th {\n",
       "        vertical-align: top;\n",
       "    }\n",
       "\n",
       "    .dataframe thead th {\n",
       "        text-align: right;\n",
       "    }\n",
       "</style>\n",
       "<table border=\"1\" class=\"dataframe\">\n",
       "  <thead>\n",
       "    <tr style=\"text-align: right;\">\n",
       "      <th></th>\n",
       "      <th>business_code</th>\n",
       "      <th>cust_number</th>\n",
       "      <th>name_customer</th>\n",
       "      <th>clear_date</th>\n",
       "      <th>buisness_year</th>\n",
       "      <th>document_create_date.1</th>\n",
       "      <th>due_in_date</th>\n",
       "      <th>invoice_currency</th>\n",
       "      <th>total_open_amount</th>\n",
       "      <th>baseline_create_date</th>\n",
       "      <th>cust_payment_terms</th>\n",
       "      <th>isOpen</th>\n",
       "    </tr>\n",
       "  </thead>\n",
       "  <tbody>\n",
       "    <tr>\n",
       "      <th>0</th>\n",
       "      <td>U013</td>\n",
       "      <td>0100048689</td>\n",
       "      <td>UNISUP foundation</td>\n",
       "      <td>NaT</td>\n",
       "      <td>2020.0</td>\n",
       "      <td>2020-02-27</td>\n",
       "      <td>2020-03-28</td>\n",
       "      <td>USD</td>\n",
       "      <td>33965.02</td>\n",
       "      <td>2020-02-27</td>\n",
       "      <td>NAVE</td>\n",
       "      <td>1</td>\n",
       "    </tr>\n",
       "    <tr>\n",
       "      <th>1</th>\n",
       "      <td>U001</td>\n",
       "      <td>0200769623</td>\n",
       "      <td>WAL-MAR associates</td>\n",
       "      <td>NaT</td>\n",
       "      <td>2020.0</td>\n",
       "      <td>2020-02-27</td>\n",
       "      <td>2020-03-13</td>\n",
       "      <td>USD</td>\n",
       "      <td>60792.77</td>\n",
       "      <td>2020-02-27</td>\n",
       "      <td>NAH4</td>\n",
       "      <td>1</td>\n",
       "    </tr>\n",
       "    <tr>\n",
       "      <th>2</th>\n",
       "      <td>U001</td>\n",
       "      <td>0200726979</td>\n",
       "      <td>BJ'S  systems</td>\n",
       "      <td>NaT</td>\n",
       "      <td>2020.0</td>\n",
       "      <td>2020-02-27</td>\n",
       "      <td>2020-03-13</td>\n",
       "      <td>USD</td>\n",
       "      <td>333.59</td>\n",
       "      <td>2020-02-27</td>\n",
       "      <td>NAA8</td>\n",
       "      <td>1</td>\n",
       "    </tr>\n",
       "    <tr>\n",
       "      <th>3</th>\n",
       "      <td>U001</td>\n",
       "      <td>0200762301</td>\n",
       "      <td>C&amp;S WH foundation</td>\n",
       "      <td>NaT</td>\n",
       "      <td>2020.0</td>\n",
       "      <td>2020-02-27</td>\n",
       "      <td>2020-03-13</td>\n",
       "      <td>USD</td>\n",
       "      <td>24145.01</td>\n",
       "      <td>2020-02-27</td>\n",
       "      <td>NAC6</td>\n",
       "      <td>1</td>\n",
       "    </tr>\n",
       "    <tr>\n",
       "      <th>4</th>\n",
       "      <td>U001</td>\n",
       "      <td>0200096390</td>\n",
       "      <td>D systems</td>\n",
       "      <td>NaT</td>\n",
       "      <td>2020.0</td>\n",
       "      <td>2020-02-27</td>\n",
       "      <td>2020-03-13</td>\n",
       "      <td>USD</td>\n",
       "      <td>40215.45</td>\n",
       "      <td>2020-02-27</td>\n",
       "      <td>NAA8</td>\n",
       "      <td>1</td>\n",
       "    </tr>\n",
       "    <tr>\n",
       "      <th>...</th>\n",
       "      <td>...</td>\n",
       "      <td>...</td>\n",
       "      <td>...</td>\n",
       "      <td>...</td>\n",
       "      <td>...</td>\n",
       "      <td>...</td>\n",
       "      <td>...</td>\n",
       "      <td>...</td>\n",
       "      <td>...</td>\n",
       "      <td>...</td>\n",
       "      <td>...</td>\n",
       "      <td>...</td>\n",
       "    </tr>\n",
       "    <tr>\n",
       "      <th>9671</th>\n",
       "      <td>U001</td>\n",
       "      <td>0200762950</td>\n",
       "      <td>HAR corporation</td>\n",
       "      <td>NaT</td>\n",
       "      <td>2020.0</td>\n",
       "      <td>2020-05-13</td>\n",
       "      <td>2020-05-28</td>\n",
       "      <td>USD</td>\n",
       "      <td>136025.60</td>\n",
       "      <td>2020-05-13</td>\n",
       "      <td>NAA8</td>\n",
       "      <td>1</td>\n",
       "    </tr>\n",
       "    <tr>\n",
       "      <th>9672</th>\n",
       "      <td>U001</td>\n",
       "      <td>0200915438</td>\n",
       "      <td>GROC corp</td>\n",
       "      <td>NaT</td>\n",
       "      <td>2020.0</td>\n",
       "      <td>2020-05-18</td>\n",
       "      <td>2020-06-02</td>\n",
       "      <td>USD</td>\n",
       "      <td>9291.00</td>\n",
       "      <td>2020-05-18</td>\n",
       "      <td>NAA8</td>\n",
       "      <td>1</td>\n",
       "    </tr>\n",
       "    <tr>\n",
       "      <th>9673</th>\n",
       "      <td>CA02</td>\n",
       "      <td>0140105785</td>\n",
       "      <td>SHOPPE in</td>\n",
       "      <td>NaT</td>\n",
       "      <td>2020.0</td>\n",
       "      <td>2020-05-19</td>\n",
       "      <td>2020-05-29</td>\n",
       "      <td>CAD</td>\n",
       "      <td>1373.60</td>\n",
       "      <td>2020-05-19</td>\n",
       "      <td>CA10</td>\n",
       "      <td>1</td>\n",
       "    </tr>\n",
       "    <tr>\n",
       "      <th>9674</th>\n",
       "      <td>U001</td>\n",
       "      <td>0200763229</td>\n",
       "      <td>MAINES llc</td>\n",
       "      <td>NaT</td>\n",
       "      <td>2020.0</td>\n",
       "      <td>2020-05-19</td>\n",
       "      <td>2020-06-03</td>\n",
       "      <td>USD</td>\n",
       "      <td>17544.11</td>\n",
       "      <td>2020-05-19</td>\n",
       "      <td>NAA8</td>\n",
       "      <td>1</td>\n",
       "    </tr>\n",
       "    <tr>\n",
       "      <th>9675</th>\n",
       "      <td>U001</td>\n",
       "      <td>200956366</td>\n",
       "      <td>RICH systems</td>\n",
       "      <td>NaT</td>\n",
       "      <td>2020.0</td>\n",
       "      <td>2020-05-21</td>\n",
       "      <td>2020-06-05</td>\n",
       "      <td>USD</td>\n",
       "      <td>42360.00</td>\n",
       "      <td>2020-05-21</td>\n",
       "      <td>NAA8</td>\n",
       "      <td>1</td>\n",
       "    </tr>\n",
       "  </tbody>\n",
       "</table>\n",
       "<p>9676 rows × 12 columns</p>\n",
       "</div>"
      ],
      "text/plain": [
       "     business_code cust_number       name_customer clear_date  buisness_year  \\\n",
       "0             U013  0100048689   UNISUP foundation        NaT         2020.0   \n",
       "1             U001  0200769623  WAL-MAR associates        NaT         2020.0   \n",
       "2             U001  0200726979       BJ'S  systems        NaT         2020.0   \n",
       "3             U001  0200762301   C&S WH foundation        NaT         2020.0   \n",
       "4             U001  0200096390           D systems        NaT         2020.0   \n",
       "...            ...         ...                 ...        ...            ...   \n",
       "9671          U001  0200762950     HAR corporation        NaT         2020.0   \n",
       "9672          U001  0200915438           GROC corp        NaT         2020.0   \n",
       "9673          CA02  0140105785           SHOPPE in        NaT         2020.0   \n",
       "9674          U001  0200763229          MAINES llc        NaT         2020.0   \n",
       "9675          U001   200956366        RICH systems        NaT         2020.0   \n",
       "\n",
       "     document_create_date.1 due_in_date invoice_currency  total_open_amount  \\\n",
       "0                2020-02-27  2020-03-28              USD           33965.02   \n",
       "1                2020-02-27  2020-03-13              USD           60792.77   \n",
       "2                2020-02-27  2020-03-13              USD             333.59   \n",
       "3                2020-02-27  2020-03-13              USD           24145.01   \n",
       "4                2020-02-27  2020-03-13              USD           40215.45   \n",
       "...                     ...         ...              ...                ...   \n",
       "9671             2020-05-13  2020-05-28              USD          136025.60   \n",
       "9672             2020-05-18  2020-06-02              USD            9291.00   \n",
       "9673             2020-05-19  2020-05-29              CAD            1373.60   \n",
       "9674             2020-05-19  2020-06-03              USD           17544.11   \n",
       "9675             2020-05-21  2020-06-05              USD           42360.00   \n",
       "\n",
       "     baseline_create_date cust_payment_terms  isOpen  \n",
       "0              2020-02-27               NAVE       1  \n",
       "1              2020-02-27               NAH4       1  \n",
       "2              2020-02-27               NAA8       1  \n",
       "3              2020-02-27               NAC6       1  \n",
       "4              2020-02-27               NAA8       1  \n",
       "...                   ...                ...     ...  \n",
       "9671           2020-05-13               NAA8       1  \n",
       "9672           2020-05-18               NAA8       1  \n",
       "9673           2020-05-19               CA10       1  \n",
       "9674           2020-05-19               NAA8       1  \n",
       "9675           2020-05-21               NAA8       1  \n",
       "\n",
       "[9676 rows x 12 columns]"
      ]
     },
     "execution_count": 39,
     "metadata": {},
     "output_type": "execute_result"
    }
   ],
   "source": [
    "x_test = testData.iloc[:,0:12]\n",
    "x_test"
   ]
  },
  {
   "cell_type": "markdown",
   "id": "complete-romania",
   "metadata": {},
   "source": [
    "# **Y_Test**"
   ]
  },
  {
   "cell_type": "code",
   "execution_count": 40,
   "id": "amateur-blues",
   "metadata": {},
   "outputs": [
    {
     "data": {
      "text/plain": [
       "0      NaN\n",
       "1      NaN\n",
       "2      NaN\n",
       "3      NaN\n",
       "4      NaN\n",
       "        ..\n",
       "9671   NaN\n",
       "9672   NaN\n",
       "9673   NaN\n",
       "9674   NaN\n",
       "9675   NaN\n",
       "Name: delay, Length: 9676, dtype: float64"
      ]
     },
     "execution_count": 40,
     "metadata": {},
     "output_type": "execute_result"
    }
   ],
   "source": [
    "y_test = testData.iloc[:,-1]\n",
    "y_test"
   ]
  },
  {
   "cell_type": "markdown",
   "id": "varying-legend",
   "metadata": {},
   "source": [
    "# **Creating Train Set**"
   ]
  },
  {
   "cell_type": "code",
   "execution_count": 41,
   "id": "generic-necklace",
   "metadata": {},
   "outputs": [
    {
     "data": {
      "text/html": [
       "<div>\n",
       "<style scoped>\n",
       "    .dataframe tbody tr th:only-of-type {\n",
       "        vertical-align: middle;\n",
       "    }\n",
       "\n",
       "    .dataframe tbody tr th {\n",
       "        vertical-align: top;\n",
       "    }\n",
       "\n",
       "    .dataframe thead th {\n",
       "        text-align: right;\n",
       "    }\n",
       "</style>\n",
       "<table border=\"1\" class=\"dataframe\">\n",
       "  <thead>\n",
       "    <tr style=\"text-align: right;\">\n",
       "      <th></th>\n",
       "      <th>business_code</th>\n",
       "      <th>cust_number</th>\n",
       "      <th>name_customer</th>\n",
       "      <th>clear_date</th>\n",
       "      <th>buisness_year</th>\n",
       "      <th>document_create_date.1</th>\n",
       "      <th>due_in_date</th>\n",
       "      <th>invoice_currency</th>\n",
       "      <th>total_open_amount</th>\n",
       "      <th>baseline_create_date</th>\n",
       "      <th>cust_payment_terms</th>\n",
       "      <th>isOpen</th>\n",
       "      <th>delay</th>\n",
       "    </tr>\n",
       "  </thead>\n",
       "  <tbody>\n",
       "    <tr>\n",
       "      <th>0</th>\n",
       "      <td>U001</td>\n",
       "      <td>0200769623</td>\n",
       "      <td>WAL-MAR co</td>\n",
       "      <td>2019-01-09</td>\n",
       "      <td>2019.0</td>\n",
       "      <td>2018-12-30</td>\n",
       "      <td>2019-01-14</td>\n",
       "      <td>USD</td>\n",
       "      <td>11582.37</td>\n",
       "      <td>2018-12-30</td>\n",
       "      <td>NAH4</td>\n",
       "      <td>0</td>\n",
       "      <td>-5.0</td>\n",
       "    </tr>\n",
       "    <tr>\n",
       "      <th>1</th>\n",
       "      <td>U001</td>\n",
       "      <td>0200741174</td>\n",
       "      <td>M B  trust</td>\n",
       "      <td>2019-02-01</td>\n",
       "      <td>2019.0</td>\n",
       "      <td>2018-12-30</td>\n",
       "      <td>2019-01-31</td>\n",
       "      <td>USD</td>\n",
       "      <td>22776.00</td>\n",
       "      <td>2018-12-30</td>\n",
       "      <td>NA32</td>\n",
       "      <td>0</td>\n",
       "      <td>1.0</td>\n",
       "    </tr>\n",
       "    <tr>\n",
       "      <th>2</th>\n",
       "      <td>U001</td>\n",
       "      <td>0200726979</td>\n",
       "      <td>BJ'S  trust</td>\n",
       "      <td>2019-01-15</td>\n",
       "      <td>2019.0</td>\n",
       "      <td>2018-12-30</td>\n",
       "      <td>2019-01-14</td>\n",
       "      <td>USD</td>\n",
       "      <td>33.18</td>\n",
       "      <td>2018-12-30</td>\n",
       "      <td>NAA8</td>\n",
       "      <td>0</td>\n",
       "      <td>1.0</td>\n",
       "    </tr>\n",
       "    <tr>\n",
       "      <th>3</th>\n",
       "      <td>U001</td>\n",
       "      <td>0200769623</td>\n",
       "      <td>WAL-MAR foundation</td>\n",
       "      <td>2019-01-09</td>\n",
       "      <td>2019.0</td>\n",
       "      <td>2018-12-30</td>\n",
       "      <td>2019-01-14</td>\n",
       "      <td>USD</td>\n",
       "      <td>8286.44</td>\n",
       "      <td>2018-12-30</td>\n",
       "      <td>NAH4</td>\n",
       "      <td>0</td>\n",
       "      <td>-5.0</td>\n",
       "    </tr>\n",
       "    <tr>\n",
       "      <th>4</th>\n",
       "      <td>U001</td>\n",
       "      <td>0100031704</td>\n",
       "      <td>DELHAIZE in</td>\n",
       "      <td>2019-01-14</td>\n",
       "      <td>2019.0</td>\n",
       "      <td>2018-12-30</td>\n",
       "      <td>2019-01-14</td>\n",
       "      <td>USD</td>\n",
       "      <td>81196.56</td>\n",
       "      <td>2018-12-30</td>\n",
       "      <td>NAA8</td>\n",
       "      <td>0</td>\n",
       "      <td>0.0</td>\n",
       "    </tr>\n",
       "    <tr>\n",
       "      <th>...</th>\n",
       "      <td>...</td>\n",
       "      <td>...</td>\n",
       "      <td>...</td>\n",
       "      <td>...</td>\n",
       "      <td>...</td>\n",
       "      <td>...</td>\n",
       "      <td>...</td>\n",
       "      <td>...</td>\n",
       "      <td>...</td>\n",
       "      <td>...</td>\n",
       "      <td>...</td>\n",
       "      <td>...</td>\n",
       "      <td>...</td>\n",
       "    </tr>\n",
       "    <tr>\n",
       "      <th>39057</th>\n",
       "      <td>CA02</td>\n",
       "      <td>0140104392</td>\n",
       "      <td>FLANAG systems</td>\n",
       "      <td>2020-03-10</td>\n",
       "      <td>2020.0</td>\n",
       "      <td>2020-02-27</td>\n",
       "      <td>2020-03-09</td>\n",
       "      <td>CAD</td>\n",
       "      <td>58200.54</td>\n",
       "      <td>2020-02-28</td>\n",
       "      <td>CA10</td>\n",
       "      <td>0</td>\n",
       "      <td>1.0</td>\n",
       "    </tr>\n",
       "    <tr>\n",
       "      <th>39058</th>\n",
       "      <td>U001</td>\n",
       "      <td>0200739534</td>\n",
       "      <td>OK</td>\n",
       "      <td>2020-03-13</td>\n",
       "      <td>2020.0</td>\n",
       "      <td>2020-02-27</td>\n",
       "      <td>2020-03-13</td>\n",
       "      <td>USD</td>\n",
       "      <td>29964.80</td>\n",
       "      <td>2020-02-27</td>\n",
       "      <td>NAA8</td>\n",
       "      <td>0</td>\n",
       "      <td>0.0</td>\n",
       "    </tr>\n",
       "    <tr>\n",
       "      <th>39059</th>\n",
       "      <td>U001</td>\n",
       "      <td>0200794332</td>\n",
       "      <td>COST trust</td>\n",
       "      <td>2020-03-12</td>\n",
       "      <td>2020.0</td>\n",
       "      <td>2020-02-27</td>\n",
       "      <td>2020-03-13</td>\n",
       "      <td>USD</td>\n",
       "      <td>38586.43</td>\n",
       "      <td>2020-02-27</td>\n",
       "      <td>NAAX</td>\n",
       "      <td>0</td>\n",
       "      <td>-1.0</td>\n",
       "    </tr>\n",
       "    <tr>\n",
       "      <th>39060</th>\n",
       "      <td>CA02</td>\n",
       "      <td>0140106408</td>\n",
       "      <td>WAL-M us</td>\n",
       "      <td>2020-03-20</td>\n",
       "      <td>2020.0</td>\n",
       "      <td>2020-02-27</td>\n",
       "      <td>2020-03-09</td>\n",
       "      <td>CAD</td>\n",
       "      <td>2878.29</td>\n",
       "      <td>2020-02-28</td>\n",
       "      <td>CA10</td>\n",
       "      <td>0</td>\n",
       "      <td>11.0</td>\n",
       "    </tr>\n",
       "    <tr>\n",
       "      <th>39061</th>\n",
       "      <td>U001</td>\n",
       "      <td>0200290370</td>\n",
       "      <td>BARGAIN  corp</td>\n",
       "      <td>2020-03-16</td>\n",
       "      <td>2020.0</td>\n",
       "      <td>2020-02-27</td>\n",
       "      <td>2020-03-13</td>\n",
       "      <td>USD</td>\n",
       "      <td>3599.97</td>\n",
       "      <td>2020-02-27</td>\n",
       "      <td>NAA8</td>\n",
       "      <td>0</td>\n",
       "      <td>3.0</td>\n",
       "    </tr>\n",
       "  </tbody>\n",
       "</table>\n",
       "<p>39062 rows × 13 columns</p>\n",
       "</div>"
      ],
      "text/plain": [
       "      business_code cust_number       name_customer clear_date  buisness_year  \\\n",
       "0              U001  0200769623          WAL-MAR co 2019-01-09         2019.0   \n",
       "1              U001  0200741174          M B  trust 2019-02-01         2019.0   \n",
       "2              U001  0200726979         BJ'S  trust 2019-01-15         2019.0   \n",
       "3              U001  0200769623  WAL-MAR foundation 2019-01-09         2019.0   \n",
       "4              U001  0100031704         DELHAIZE in 2019-01-14         2019.0   \n",
       "...             ...         ...                 ...        ...            ...   \n",
       "39057          CA02  0140104392      FLANAG systems 2020-03-10         2020.0   \n",
       "39058          U001  0200739534                 OK  2020-03-13         2020.0   \n",
       "39059          U001  0200794332          COST trust 2020-03-12         2020.0   \n",
       "39060          CA02  0140106408            WAL-M us 2020-03-20         2020.0   \n",
       "39061          U001  0200290370       BARGAIN  corp 2020-03-16         2020.0   \n",
       "\n",
       "      document_create_date.1 due_in_date invoice_currency  total_open_amount  \\\n",
       "0                 2018-12-30  2019-01-14              USD           11582.37   \n",
       "1                 2018-12-30  2019-01-31              USD           22776.00   \n",
       "2                 2018-12-30  2019-01-14              USD              33.18   \n",
       "3                 2018-12-30  2019-01-14              USD            8286.44   \n",
       "4                 2018-12-30  2019-01-14              USD           81196.56   \n",
       "...                      ...         ...              ...                ...   \n",
       "39057             2020-02-27  2020-03-09              CAD           58200.54   \n",
       "39058             2020-02-27  2020-03-13              USD           29964.80   \n",
       "39059             2020-02-27  2020-03-13              USD           38586.43   \n",
       "39060             2020-02-27  2020-03-09              CAD            2878.29   \n",
       "39061             2020-02-27  2020-03-13              USD            3599.97   \n",
       "\n",
       "      baseline_create_date cust_payment_terms  isOpen  delay  \n",
       "0               2018-12-30               NAH4       0   -5.0  \n",
       "1               2018-12-30               NA32       0    1.0  \n",
       "2               2018-12-30               NAA8       0    1.0  \n",
       "3               2018-12-30               NAH4       0   -5.0  \n",
       "4               2018-12-30               NAA8       0    0.0  \n",
       "...                    ...                ...     ...    ...  \n",
       "39057           2020-02-28               CA10       0    1.0  \n",
       "39058           2020-02-27               NAA8       0    0.0  \n",
       "39059           2020-02-27               NAAX       0   -1.0  \n",
       "39060           2020-02-28               CA10       0   11.0  \n",
       "39061           2020-02-27               NAA8       0    3.0  \n",
       "\n",
       "[39062 rows x 13 columns]"
      ]
     },
     "execution_count": 41,
     "metadata": {},
     "output_type": "execute_result"
    }
   ],
   "source": [
    "trainData = df[df.clear_date.notnull()].reset_index()\n",
    "trainData.drop(columns=['index'], inplace=True)\n",
    "trainData"
   ]
  },
  {
   "cell_type": "markdown",
   "id": "elder-longitude",
   "metadata": {},
   "source": [
    "# **Main_Train --> (Train, Validation, Intermediate Test)**\n",
    "## Train - For Model Training\n",
    "## Validation - For Model Tuning\n",
    "## Intermediate - For Confirming"
   ]
  },
  {
   "cell_type": "code",
   "execution_count": 42,
   "id": "applied-hello",
   "metadata": {},
   "outputs": [
    {
     "data": {
      "text/plain": [
       "((31249, 12), (31249,), (3906, 12), (3906,), (3907, 12), (3907,))"
      ]
     },
     "execution_count": 42,
     "metadata": {},
     "output_type": "execute_result"
    }
   ],
   "source": [
    "X = trainData.drop(columns = ['delay'])\n",
    "Y = trainData['delay']\n",
    "\n",
    "X_train, X_rem, Y_train, Y_rem = train_test_split(X,Y, train_size=0.8)\n",
    "X_valid, X_test, Y_valid, Y_test = train_test_split(X_rem,Y_rem, test_size=0.5)\n",
    "\n",
    "X_train.shape, Y_train.shape, X_valid.shape, Y_valid.shape, X_test.shape, Y_test.shape,"
   ]
  },
  {
   "cell_type": "markdown",
   "id": "portable-simulation",
   "metadata": {},
   "source": [
    "# **EDA**"
   ]
  },
  {
   "cell_type": "code",
   "execution_count": 43,
   "id": "appropriate-warning",
   "metadata": {},
   "outputs": [
    {
     "name": "stdout",
     "output_type": "stream",
     "text": [
      "<class 'pandas.core.frame.DataFrame'>\n",
      "Int64Index: 31249 entries, 7172 to 32906\n",
      "Data columns (total 12 columns):\n",
      " #   Column                  Non-Null Count  Dtype         \n",
      "---  ------                  --------------  -----         \n",
      " 0   business_code           31249 non-null  object        \n",
      " 1   cust_number             31249 non-null  object        \n",
      " 2   name_customer           31249 non-null  object        \n",
      " 3   clear_date              31249 non-null  datetime64[ns]\n",
      " 4   buisness_year           31249 non-null  float64       \n",
      " 5   document_create_date.1  31249 non-null  datetime64[ns]\n",
      " 6   due_in_date             31249 non-null  datetime64[ns]\n",
      " 7   invoice_currency        31249 non-null  object        \n",
      " 8   total_open_amount       31249 non-null  float64       \n",
      " 9   baseline_create_date    31249 non-null  datetime64[ns]\n",
      " 10  cust_payment_terms      31249 non-null  object        \n",
      " 11  isOpen                  31249 non-null  int64         \n",
      "dtypes: datetime64[ns](4), float64(2), int64(1), object(5)\n",
      "memory usage: 3.1+ MB\n"
     ]
    }
   ],
   "source": [
    "X_train.info()"
   ]
  },
  {
   "cell_type": "markdown",
   "id": "accurate-performer",
   "metadata": {},
   "source": [
    "## **business_code**\n",
    "Business Code"
   ]
  },
  {
   "cell_type": "code",
   "execution_count": 44,
   "id": "nominated-medicare",
   "metadata": {},
   "outputs": [
    {
     "data": {
      "text/plain": [
       "U001    28347\n",
       "CA02     2403\n",
       "U013      393\n",
       "U002       95\n",
       "U005        9\n",
       "U007        2\n",
       "Name: business_code, dtype: int64"
      ]
     },
     "execution_count": 44,
     "metadata": {},
     "output_type": "execute_result"
    }
   ],
   "source": [
    "X_train['business_code'].value_counts()"
   ]
  },
  {
   "cell_type": "code",
   "execution_count": 45,
   "id": "intensive-bench",
   "metadata": {},
   "outputs": [
    {
     "data": {
      "text/plain": [
       "<AxesSubplot:xlabel='business_code', ylabel='count'>"
      ]
     },
     "execution_count": 45,
     "metadata": {},
     "output_type": "execute_result"
    },
    {
     "data": {
      "image/png": "[encoded data removed]",
      "text/plain": [
       "<Figure size 432x288 with 1 Axes>"
      ]
     },
     "metadata": {
      "needs_background": "light"
     },
     "output_type": "display_data"
    }
   ],
   "source": [
    "sns.countplot(x = X_train['business_code'])"
   ]
  },
  {
   "cell_type": "markdown",
   "id": "twenty-sailing",
   "metadata": {},
   "source": [
    "## **cust_number**\n",
    "Customer Number given to all the customers"
   ]
  },
  {
   "cell_type": "code",
   "execution_count": 46,
   "id": "completed-apollo",
   "metadata": {},
   "outputs": [
    {
     "data": {
      "text/plain": [
       "0200769623    6886\n",
       "0200726979    1188\n",
       "0200762301     871\n",
       "0200759878     841\n",
       "0200794332     677\n",
       "              ... \n",
       "100025721        1\n",
       "0200041573       1\n",
       "0100036065       1\n",
       "0100043880       1\n",
       "0100018142       1\n",
       "Name: cust_number, Length: 1234, dtype: int64"
      ]
     },
     "execution_count": 46,
     "metadata": {},
     "output_type": "execute_result"
    }
   ],
   "source": [
    "X_train['cust_number'].value_counts()"
   ]
  },
  {
   "cell_type": "markdown",
   "id": "affected-combine",
   "metadata": {},
   "source": [
    "## **name_customer**\n",
    "Name of the Customer."
   ]
  },
  {
   "cell_type": "code",
   "execution_count": 47,
   "id": "boolean-fitness",
   "metadata": {},
   "outputs": [
    {
     "data": {
      "text/plain": [
       "WAL-MAR trust         716\n",
       "WAL-MAR systems       704\n",
       "WAL-MAR co            684\n",
       "WAL-MAR associates    683\n",
       "WAL-MAR foundation    675\n",
       "                     ... \n",
       "REILY systems           1\n",
       "PRIC us                 1\n",
       "DOERLE                  1\n",
       "C& associates           1\n",
       "MASON associates        1\n",
       "Name: name_customer, Length: 3531, dtype: int64"
      ]
     },
     "execution_count": 47,
     "metadata": {},
     "output_type": "execute_result"
    }
   ],
   "source": [
    "X_train['name_customer'].value_counts()"
   ]
  },
  {
   "cell_type": "markdown",
   "id": "immediate-budapest",
   "metadata": {},
   "source": [
    "## **clear_date**\n",
    "The date on which the customer make the full payment."
   ]
  },
  {
   "cell_type": "code",
   "execution_count": 48,
   "id": "tight-statement",
   "metadata": {},
   "outputs": [
    {
     "data": {
      "text/plain": [
       "Timestamp('2019-01-04 00:00:00')"
      ]
     },
     "execution_count": 48,
     "metadata": {},
     "output_type": "execute_result"
    }
   ],
   "source": [
    "X_train['clear_date'].min()"
   ]
  },
  {
   "cell_type": "code",
   "execution_count": 49,
   "id": "collect-middle",
   "metadata": {},
   "outputs": [
    {
     "data": {
      "text/plain": [
       "Timestamp('2020-05-21 00:00:00')"
      ]
     },
     "execution_count": 49,
     "metadata": {},
     "output_type": "execute_result"
    }
   ],
   "source": [
    "X_train['clear_date'].max()"
   ]
  },
  {
   "cell_type": "code",
   "execution_count": 50,
   "id": "thorough-satisfaction",
   "metadata": {},
   "outputs": [
    {
     "name": "stdout",
     "output_type": "stream",
     "text": [
      "clear_date ranges between : 503 days 00:00:00\n"
     ]
    }
   ],
   "source": [
    "diff = (X_train['clear_date'].max() - X_train['clear_date'].min());\n",
    "print(\"clear_date ranges between : \"+str(diff))"
   ]
  },
  {
   "cell_type": "code",
   "execution_count": 51,
   "id": "parliamentary-festival",
   "metadata": {},
   "outputs": [
    {
     "data": {
      "text/plain": [
       "2     3722\n",
       "3     3190\n",
       "5     2696\n",
       "4     2631\n",
       "12    2586\n",
       "11    2492\n",
       "8     2438\n",
       "10    2420\n",
       "7     2399\n",
       "9     2304\n",
       "6     2187\n",
       "1     2184\n",
       "Name: clear_date, dtype: int64"
      ]
     },
     "execution_count": 51,
     "metadata": {},
     "output_type": "execute_result"
    }
   ],
   "source": [
    "#clear_month\n",
    "clear_month = X_train['clear_date'].dt.month\n",
    "clear_month.value_counts()"
   ]
  },
  {
   "cell_type": "code",
   "execution_count": 52,
   "id": "pointed-scholarship",
   "metadata": {},
   "outputs": [
    {
     "data": {
      "image/png": "[encoded data removed]",
      "text/plain": [
       "<Figure size 432x288 with 1 Axes>"
      ]
     },
     "metadata": {
      "needs_background": "light"
     },
     "output_type": "display_data"
    }
   ],
   "source": [
    "ax = sns.countplot(x = clear_month)\n",
    "ax.set(xlabel='clear_month', ylabel='count')\n",
    "plt.show()"
   ]
  },
  {
   "cell_type": "markdown",
   "id": "imperial-purchase",
   "metadata": {},
   "source": [
    "# **business_year**\n",
    "Indicates the year of Clear Date"
   ]
  },
  {
   "cell_type": "code",
   "execution_count": 53,
   "id": "naval-herald",
   "metadata": {},
   "outputs": [
    {
     "data": {
      "text/plain": [
       "2019.0    27201\n",
       "2020.0     4048\n",
       "Name: buisness_year, dtype: int64"
      ]
     },
     "execution_count": 53,
     "metadata": {},
     "output_type": "execute_result"
    }
   ],
   "source": [
    "X_train['buisness_year'].value_counts()"
   ]
  },
  {
   "cell_type": "code",
   "execution_count": 54,
   "id": "hidden-advance",
   "metadata": {},
   "outputs": [
    {
     "data": {
      "text/plain": [
       "<AxesSubplot:xlabel='buisness_year', ylabel='count'>"
      ]
     },
     "execution_count": 54,
     "metadata": {},
     "output_type": "execute_result"
    },
    {
     "data": {
      "image/png": "[encoded data removed]",
      "text/plain": [
       "<Figure size 432x288 with 1 Axes>"
      ]
     },
     "metadata": {
      "needs_background": "light"
     },
     "output_type": "display_data"
    }
   ],
   "source": [
    "sns.countplot(x = X_train['buisness_year'])"
   ]
  },
  {
   "cell_type": "markdown",
   "id": "important-stuff",
   "metadata": {},
   "source": [
    "# **document_create_date.1**\n",
    "The date on which the invoice document was created"
   ]
  },
  {
   "cell_type": "code",
   "execution_count": 55,
   "id": "authorized-saturday",
   "metadata": {},
   "outputs": [
    {
     "data": {
      "text/plain": [
       "Timestamp('2018-12-30 00:00:00')"
      ]
     },
     "execution_count": 55,
     "metadata": {},
     "output_type": "execute_result"
    }
   ],
   "source": [
    "X_train[\"document_create_date.1\"].min()"
   ]
  },
  {
   "cell_type": "code",
   "execution_count": 56,
   "id": "square-integrity",
   "metadata": {},
   "outputs": [
    {
     "data": {
      "text/plain": [
       "Timestamp('2020-02-27 00:00:00')"
      ]
     },
     "execution_count": 56,
     "metadata": {},
     "output_type": "execute_result"
    }
   ],
   "source": [
    "X_train[\"document_create_date.1\"].max()"
   ]
  },
  {
   "cell_type": "code",
   "execution_count": 57,
   "id": "right-swedish",
   "metadata": {},
   "outputs": [
    {
     "data": {
      "text/plain": [
       "Timedelta('424 days 00:00:00')"
      ]
     },
     "execution_count": 57,
     "metadata": {},
     "output_type": "execute_result"
    }
   ],
   "source": [
    "diff = X_train[\"document_create_date.1\"].max() - X_train[\"document_create_date.1\"].min()\n",
    "diff"
   ]
  },
  {
   "cell_type": "markdown",
   "id": "lonely-basement",
   "metadata": {},
   "source": [
    "# **due_in_date**\n",
    "The last date for payment"
   ]
  },
  {
   "cell_type": "code",
   "execution_count": 58,
   "id": "religious-substance",
   "metadata": {},
   "outputs": [
    {
     "data": {
      "text/plain": [
       "Timestamp('2018-12-24 00:00:00')"
      ]
     },
     "execution_count": 58,
     "metadata": {},
     "output_type": "execute_result"
    }
   ],
   "source": [
    "X_train['due_in_date'].min()"
   ]
  },
  {
   "cell_type": "code",
   "execution_count": 59,
   "id": "dental-accreditation",
   "metadata": {},
   "outputs": [
    {
     "data": {
      "text/plain": [
       "Timestamp('2020-06-24 00:00:00')"
      ]
     },
     "execution_count": 59,
     "metadata": {},
     "output_type": "execute_result"
    }
   ],
   "source": [
    "X_train['due_in_date'].max()"
   ]
  },
  {
   "cell_type": "code",
   "execution_count": 60,
   "id": "finished-frontier",
   "metadata": {},
   "outputs": [
    {
     "data": {
      "text/plain": [
       "Timedelta('548 days 00:00:00')"
      ]
     },
     "execution_count": 60,
     "metadata": {},
     "output_type": "execute_result"
    }
   ],
   "source": [
    "diff = (X_train['due_in_date'].max() - X_train['due_in_date'].min());\n",
    "diff"
   ]
  },
  {
   "cell_type": "code",
   "execution_count": 61,
   "id": "italian-declaration",
   "metadata": {},
   "outputs": [
    {
     "data": {
      "text/plain": [
       "2     3849\n",
       "3     3249\n",
       "5     2587\n",
       "4     2568\n",
       "11    2528\n",
       "10    2424\n",
       "8     2408\n",
       "7     2353\n",
       "12    2348\n",
       "6     2341\n",
       "9     2299\n",
       "1     2295\n",
       "Name: due_in_date, dtype: int64"
      ]
     },
     "execution_count": 61,
     "metadata": {},
     "output_type": "execute_result"
    }
   ],
   "source": [
    "due_month = X_train['due_in_date'].dt.month\n",
    "due_month.value_counts()"
   ]
  },
  {
   "cell_type": "code",
   "execution_count": 62,
   "id": "incorporated-metro",
   "metadata": {},
   "outputs": [
    {
     "data": {
      "image/png": "[encoded data removed]",
      "text/plain": [
       "<Figure size 432x288 with 1 Axes>"
      ]
     },
     "metadata": {
      "needs_background": "light"
     },
     "output_type": "display_data"
    }
   ],
   "source": [
    "ax = sns.countplot(x = due_month)\n",
    "ax.set(xlabel='due_month', ylabel='count')\n",
    "plt.show()"
   ]
  },
  {
   "cell_type": "markdown",
   "id": "large-mills",
   "metadata": {},
   "source": [
    "# **invoice_currency**"
   ]
  },
  {
   "cell_type": "code",
   "execution_count": 63,
   "id": "preceding-guest",
   "metadata": {},
   "outputs": [
    {
     "data": {
      "text/plain": [
       "USD    28846\n",
       "CAD     2403\n",
       "Name: invoice_currency, dtype: int64"
      ]
     },
     "execution_count": 63,
     "metadata": {},
     "output_type": "execute_result"
    }
   ],
   "source": [
    "X_train[\"invoice_currency\"].value_counts()"
   ]
  },
  {
   "cell_type": "markdown",
   "id": "moved-atlanta",
   "metadata": {},
   "source": [
    "As there are two currencies, we can convert either one them. However, as there is not much difference between USD and CAD, there is not much use of converting them."
   ]
  },
  {
   "cell_type": "markdown",
   "id": "phantom-violin",
   "metadata": {},
   "source": [
    "# **total_open_amount**"
   ]
  },
  {
   "cell_type": "markdown",
   "id": "approximate-effects",
   "metadata": {},
   "source": [
    "The amount that is to be paid for that invoice"
   ]
  },
  {
   "cell_type": "code",
   "execution_count": 64,
   "id": "furnished-justice",
   "metadata": {},
   "outputs": [
    {
     "data": {
      "text/plain": [
       "count      31249.000000\n",
       "mean       32303.008205\n",
       "std        41445.476363\n",
       "min            0.790000\n",
       "25%         4590.080000\n",
       "50%        17219.240000\n",
       "75%        46365.310000\n",
       "max      1501474.160000\n",
       "Name: total_open_amount, dtype: object"
      ]
     },
     "execution_count": 64,
     "metadata": {},
     "output_type": "execute_result"
    }
   ],
   "source": [
    "X_train['total_open_amount'].describe().apply(lambda x: format(x,'f'))"
   ]
  },
  {
   "cell_type": "markdown",
   "id": "tutorial-burns",
   "metadata": {},
   "source": [
    "# **baseline_create_date**\n",
    "The date on which the Invoice was created."
   ]
  },
  {
   "cell_type": "code",
   "execution_count": 65,
   "id": "nuclear-confidence",
   "metadata": {},
   "outputs": [
    {
     "name": "stdout",
     "output_type": "stream",
     "text": [
      "Number of Similar Dates : 34769\n",
      "Number of Non-Similar Dates : 4293\n"
     ]
    }
   ],
   "source": [
    "count=0\n",
    "count1=0\n",
    "for row in range (trainData.shape[0]):\n",
    "    if(trainData['document_create_date.1'][row] == trainData['baseline_create_date'][row]):\n",
    "        count = count + 1;\n",
    "    else:\n",
    "        count1 = count1 + 1;\n",
    "print(\"Number of Similar Dates : \"+str(count))\n",
    "print(\"Number of Non-Similar Dates : \"+str(count1))"
   ]
  },
  {
   "cell_type": "markdown",
   "id": "grave-rescue",
   "metadata": {},
   "source": [
    "Baseline create date and document create date are same except if the company is Canadian.\n",
    "It's not that important to our model so we'll drop it"
   ]
  },
  {
   "cell_type": "markdown",
   "id": "interim-transfer",
   "metadata": {},
   "source": [
    "# **cust_payment_terms**"
   ]
  },
  {
   "cell_type": "code",
   "execution_count": 66,
   "id": "little-humor",
   "metadata": {},
   "outputs": [
    {
     "data": {
      "text/plain": [
       "NAA8    12685\n",
       "NAH4     8193\n",
       "CA10     2345\n",
       "NAC6     1002\n",
       "NAM4      868\n",
       "        ...  \n",
       "NATH        1\n",
       "NATX        1\n",
       "NACE        1\n",
       "NAV9        1\n",
       "NAUI        1\n",
       "Name: cust_payment_terms, Length: 64, dtype: int64"
      ]
     },
     "execution_count": 66,
     "metadata": {},
     "output_type": "execute_result"
    }
   ],
   "source": [
    "X_train['cust_payment_terms'].value_counts()"
   ]
  },
  {
   "cell_type": "markdown",
   "id": "objective-seating",
   "metadata": {},
   "source": [
    "# **isOpen**\n",
    "Tells whether a transaction is open or closed"
   ]
  },
  {
   "cell_type": "code",
   "execution_count": 67,
   "id": "interested-batman",
   "metadata": {},
   "outputs": [
    {
     "data": {
      "text/plain": [
       "0    31249\n",
       "Name: isOpen, dtype: int64"
      ]
     },
     "execution_count": 67,
     "metadata": {},
     "output_type": "execute_result"
    }
   ],
   "source": [
    "X_train.isOpen.value_counts()"
   ]
  },
  {
   "cell_type": "markdown",
   "id": "developed-regard",
   "metadata": {},
   "source": [
    "# **Delay**\n",
    "The negative delay specifies that the amount was cleared before the due date and thus there was no delay. Therefore we have replace the negative values with 0"
   ]
  },
  {
   "cell_type": "code",
   "execution_count": 68,
   "id": "foreign-thanksgiving",
   "metadata": {},
   "outputs": [
    {
     "name": "stdout",
     "output_type": "stream",
     "text": [
      "14328\n"
     ]
    }
   ],
   "source": [
    "count=0\n",
    "for row in range(trainData.shape[0]):\n",
    "    if (trainData['delay'][row] < 0):\n",
    "        count = count + 1\n",
    "print(count)"
   ]
  },
  {
   "cell_type": "code",
   "execution_count": 69,
   "id": "female-wallpaper",
   "metadata": {},
   "outputs": [],
   "source": [
    "trainData['delay'] = trainData.delay.apply(lambda x: 0 if x<0 else x)"
   ]
  },
  {
   "cell_type": "code",
   "execution_count": 70,
   "id": "unavailable-blanket",
   "metadata": {},
   "outputs": [
    {
     "name": "stdout",
     "output_type": "stream",
     "text": [
      "0\n"
     ]
    }
   ],
   "source": [
    "count=0\n",
    "for row in range(trainData.shape[0]):\n",
    "    if (trainData['delay'][row] < 0):\n",
    "        count = count + 1\n",
    "print(count)"
   ]
  },
  {
   "cell_type": "code",
   "execution_count": 71,
   "id": "cheap-anthropology",
   "metadata": {},
   "outputs": [
    {
     "data": {
      "text/plain": [
       "count    39062.000000\n",
       "mean         2.700195\n",
       "std          9.275545\n",
       "min          0.000000\n",
       "25%          0.000000\n",
       "50%          0.000000\n",
       "75%          2.000000\n",
       "max        442.000000\n",
       "Name: delay, dtype: float64"
      ]
     },
     "execution_count": 71,
     "metadata": {},
     "output_type": "execute_result"
    }
   ],
   "source": [
    "trainData.delay.describe()"
   ]
  },
  {
   "cell_type": "code",
   "execution_count": 72,
   "id": "contemporary-review",
   "metadata": {},
   "outputs": [
    {
     "data": {
      "text/plain": [
       "<AxesSubplot:xlabel='delay', ylabel='Density'>"
      ]
     },
     "execution_count": 72,
     "metadata": {},
     "output_type": "execute_result"
    },
    {
     "data": {
      "image/png": "[encoded data removed]",
      "text/plain": [
       "<Figure size 432x288 with 1 Axes>"
      ]
     },
     "metadata": {
      "needs_background": "light"
     },
     "output_type": "display_data"
    }
   ],
   "source": [
    "sns.distplot(Y_train)"
   ]
  },
  {
   "cell_type": "markdown",
   "id": "pharmaceutical-montgomery",
   "metadata": {},
   "source": [
    "# **Multivariate Analysis**\n",
    "### **Relation b/w business_code with invoice_currency**"
   ]
  },
  {
   "cell_type": "code",
   "execution_count": 73,
   "id": "global-unemployment",
   "metadata": {},
   "outputs": [
    {
     "data": {
      "text/plain": [
       "USD    36045\n",
       "CAD     3017\n",
       "Name: invoice_currency, dtype: int64"
      ]
     },
     "execution_count": 73,
     "metadata": {},
     "output_type": "execute_result"
    }
   ],
   "source": [
    "trainData['invoice_currency'].value_counts()"
   ]
  },
  {
   "cell_type": "code",
   "execution_count": 74,
   "id": "falling-payment",
   "metadata": {},
   "outputs": [
    {
     "data": {
      "text/plain": [
       "invoice_currency  business_code\n",
       "CAD               CA02              3017\n",
       "USD               U001             35430\n",
       "                  U013               490\n",
       "                  U002               114\n",
       "                  U005                 9\n",
       "                  U007                 2\n",
       "Name: business_code, dtype: int64"
      ]
     },
     "execution_count": 74,
     "metadata": {},
     "output_type": "execute_result"
    }
   ],
   "source": [
    "trainData.groupby(\"invoice_currency\").business_code.value_counts()"
   ]
  },
  {
   "cell_type": "markdown",
   "id": "typical-forwarding",
   "metadata": {},
   "source": [
    "## **Delay Bin**"
   ]
  },
  {
   "cell_type": "code",
   "execution_count": 75,
   "id": "treated-humidity",
   "metadata": {},
   "outputs": [],
   "source": [
    "delay_bins = [0,15,30,45,60]\n",
    "delay_bucket = pd.cut(Y_train, bins = delay_bins)"
   ]
  },
  {
   "cell_type": "markdown",
   "id": "another-petite",
   "metadata": {},
   "source": [
    "## **Amount Bin**"
   ]
  },
  {
   "cell_type": "code",
   "execution_count": 76,
   "id": "dedicated-credit",
   "metadata": {},
   "outputs": [],
   "source": [
    "amount_bins = [0,5000,10000,50000,100000,1100000]\n",
    "new_open_amount_bin = pd.cut(X_train['total_open_amount'], bins = amount_bins)"
   ]
  },
  {
   "cell_type": "code",
   "execution_count": 77,
   "id": "valued-covering",
   "metadata": {},
   "outputs": [
    {
     "data": {
      "text/html": [
       "<div>\n",
       "<style scoped>\n",
       "    .dataframe tbody tr th:only-of-type {\n",
       "        vertical-align: middle;\n",
       "    }\n",
       "\n",
       "    .dataframe tbody tr th {\n",
       "        vertical-align: top;\n",
       "    }\n",
       "\n",
       "    .dataframe thead th {\n",
       "        text-align: right;\n",
       "    }\n",
       "</style>\n",
       "<table border=\"1\" class=\"dataframe\">\n",
       "  <thead>\n",
       "    <tr style=\"text-align: right;\">\n",
       "      <th>delay</th>\n",
       "      <th>(0, 15]</th>\n",
       "      <th>(15, 30]</th>\n",
       "      <th>(30, 45]</th>\n",
       "      <th>(45, 60]</th>\n",
       "    </tr>\n",
       "    <tr>\n",
       "      <th>total_open_amount</th>\n",
       "      <th></th>\n",
       "      <th></th>\n",
       "      <th></th>\n",
       "      <th></th>\n",
       "    </tr>\n",
       "  </thead>\n",
       "  <tbody>\n",
       "    <tr>\n",
       "      <th>(0, 5000]</th>\n",
       "      <td>2709</td>\n",
       "      <td>82</td>\n",
       "      <td>77</td>\n",
       "      <td>72</td>\n",
       "    </tr>\n",
       "    <tr>\n",
       "      <th>(5000, 10000]</th>\n",
       "      <td>1189</td>\n",
       "      <td>52</td>\n",
       "      <td>44</td>\n",
       "      <td>30</td>\n",
       "    </tr>\n",
       "    <tr>\n",
       "      <th>(10000, 50000]</th>\n",
       "      <td>5069</td>\n",
       "      <td>242</td>\n",
       "      <td>158</td>\n",
       "      <td>94</td>\n",
       "    </tr>\n",
       "    <tr>\n",
       "      <th>(50000, 100000]</th>\n",
       "      <td>2026</td>\n",
       "      <td>55</td>\n",
       "      <td>18</td>\n",
       "      <td>8</td>\n",
       "    </tr>\n",
       "    <tr>\n",
       "      <th>(100000, 1100000]</th>\n",
       "      <td>958</td>\n",
       "      <td>15</td>\n",
       "      <td>10</td>\n",
       "      <td>5</td>\n",
       "    </tr>\n",
       "  </tbody>\n",
       "</table>\n",
       "</div>"
      ],
      "text/plain": [
       "delay              (0, 15]  (15, 30]  (30, 45]  (45, 60]\n",
       "total_open_amount                                       \n",
       "(0, 5000]             2709        82        77        72\n",
       "(5000, 10000]         1189        52        44        30\n",
       "(10000, 50000]        5069       242       158        94\n",
       "(50000, 100000]       2026        55        18         8\n",
       "(100000, 1100000]      958        15        10         5"
      ]
     },
     "execution_count": 77,
     "metadata": {},
     "output_type": "execute_result"
    }
   ],
   "source": [
    "pd.crosstab(index = new_open_amount_bin, columns =delay_bucket)"
   ]
  },
  {
   "cell_type": "code",
   "execution_count": 78,
   "id": "dental-shipping",
   "metadata": {},
   "outputs": [
    {
     "data": {
      "text/plain": [
       "<AxesSubplot:xlabel='total_open_amount', ylabel='count'>"
      ]
     },
     "execution_count": 78,
     "metadata": {},
     "output_type": "execute_result"
    },
    {
     "data": {
      "image/png": "[encoded data removed]",
      "text/plain": [
       "<Figure size 720x432 with 1 Axes>"
      ]
     },
     "metadata": {
      "needs_background": "light"
     },
     "output_type": "display_data"
    }
   ],
   "source": [
    "plt.figure(figsize=(10,6))\n",
    "plt.xlabel(\"Amount bin\")\n",
    "sns.countplot(x = new_open_amount_bin, hue=delay_bucket)"
   ]
  },
  {
   "cell_type": "code",
   "execution_count": 79,
   "id": "tracked-answer",
   "metadata": {},
   "outputs": [
    {
     "data": {
      "text/plain": [
       "<seaborn.axisgrid.PairGrid at 0x1ee514efb80>"
      ]
     },
     "execution_count": 79,
     "metadata": {},
     "output_type": "execute_result"
    },
    {
     "data": {
      "image/png": "[encoded data removed]",
      "text/plain": [
       "<Figure size 900x900 with 30 Axes>"
      ]
     },
     "metadata": {
      "needs_background": "light"
     },
     "output_type": "display_data"
    }
   ],
   "source": [
    "sns.pairplot(X_train.merge(Y_train, on=X_train.index))"
   ]
  },
  {
   "cell_type": "markdown",
   "id": "possible-directory",
   "metadata": {},
   "source": [
    "# **Feature Engineering**"
   ]
  },
  {
   "cell_type": "code",
   "execution_count": 80,
   "id": "finnish-interpretation",
   "metadata": {},
   "outputs": [],
   "source": [
    "X_train.drop(columns=[ 'name_customer','buisness_year','invoice_currency','baseline_create_date', 'isOpen'], inplace=True)\n",
    "X_test.drop(columns=[ 'name_customer','buisness_year','invoice_currency','baseline_create_date', 'isOpen'], inplace=True)\n",
    "X_valid.drop(columns=['name_customer','buisness_year','invoice_currency','baseline_create_date', 'isOpen'], inplace=True)"
   ]
  },
  {
   "cell_type": "code",
   "execution_count": 81,
   "id": "native-minnesota",
   "metadata": {},
   "outputs": [
    {
     "data": {
      "text/plain": [
       "((31249, 7), (3907, 7), (3906, 7))"
      ]
     },
     "execution_count": 81,
     "metadata": {},
     "output_type": "execute_result"
    }
   ],
   "source": [
    "X_train.shape, X_test.shape, X_valid.shape"
   ]
  },
  {
   "cell_type": "code",
   "execution_count": 82,
   "id": "nutritional-kernel",
   "metadata": {},
   "outputs": [
    {
     "name": "stdout",
     "output_type": "stream",
     "text": [
      "<class 'pandas.core.frame.DataFrame'>\n",
      "Int64Index: 31249 entries, 7172 to 32906\n",
      "Data columns (total 7 columns):\n",
      " #   Column                  Non-Null Count  Dtype         \n",
      "---  ------                  --------------  -----         \n",
      " 0   business_code           31249 non-null  object        \n",
      " 1   clear_date              31249 non-null  datetime64[ns]\n",
      " 2   document_create_date.1  31249 non-null  datetime64[ns]\n",
      " 3   due_in_date             31249 non-null  datetime64[ns]\n",
      " 4   total_open_amount       31249 non-null  float64       \n",
      " 5   cust_payment_terms      31249 non-null  object        \n",
      " 6   cust_num                31249 non-null  float64       \n",
      "dtypes: datetime64[ns](3), float64(2), object(2)\n",
      "memory usage: 2.9+ MB\n"
     ]
    }
   ],
   "source": [
    "X_train['cust_num'] = X_train['cust_number'].str.extract('(\\d+)')\n",
    "X_test['cust_num'] = X_test['cust_number'].str.extract('(\\d+)')\n",
    "X_valid['cust_num'] = X_valid['cust_number'].str.extract('(\\d+)')\n",
    "X_train.drop('cust_number',axis=1,inplace=True)\n",
    "X_test.drop('cust_number',axis=1,inplace=True)\n",
    "X_valid.drop('cust_number',axis=1,inplace=True)\n",
    "X_train['cust_num']=X_train['cust_num'].astype(str).astype(float)\n",
    "X_test['cust_num']=X_test['cust_num'].astype(str).astype(float)\n",
    "X_valid['cust_num']=X_valid['cust_num'].astype(str).astype(float)\n",
    "X_train.info()"
   ]
  },
  {
   "cell_type": "code",
   "execution_count": 83,
   "id": "virtual-growth",
   "metadata": {},
   "outputs": [],
   "source": [
    "#Encoding Business Code\n",
    "buss_code= LabelEncoder()\n",
    "buss_code.fit(X_train['business_code'])\n",
    "X_train['buss_code']=buss_code.transform(X_train['business_code'])\n",
    "X_valid['buss_code']=buss_code.transform(X_valid['business_code'])\n",
    "X_test['buss_code']=buss_code.transform(X_test['business_code'])"
   ]
  },
  {
   "cell_type": "code",
   "execution_count": 84,
   "id": "suitable-postcard",
   "metadata": {},
   "outputs": [],
   "source": [
    "#Encoding Customer Payment Terms\n",
    "cpt= LabelEncoder()\n",
    "cpt.fit(X_train['cust_payment_terms'])\n",
    "X_train['cpt']=cpt.transform(X_train['cust_payment_terms'])\n",
    "cpt.fit(X_test['cust_payment_terms'])\n",
    "X_test['cpt']=cpt.transform(X_test['cust_payment_terms'])\n",
    "cpt.fit(X_valid['cust_payment_terms'])\n",
    "X_valid['cpt']=cpt.transform(X_valid['cust_payment_terms'])\n",
    "X_train.drop('cust_payment_terms',axis=1,inplace=True)\n",
    "X_test.drop('cust_payment_terms',axis=1,inplace=True)\n",
    "X_valid.drop('cust_payment_terms',axis=1,inplace=True)"
   ]
  },
  {
   "cell_type": "code",
   "execution_count": 85,
   "id": "general-oliver",
   "metadata": {},
   "outputs": [],
   "source": [
    "#Document Create Date\n",
    "X_train[\"doc_crt_day\"] = X_train[\"document_create_date.1\"].dt.day\n",
    "X_test[\"doc_crt_day\"] = X_test[\"document_create_date.1\"].dt.day\n",
    "X_valid[\"doc_crt_day\"] = X_valid[\"document_create_date.1\"].dt.day\n",
    "\n",
    "X_train[\"doc_crt_month\"] = X_train[\"document_create_date.1\"].dt.month\n",
    "X_test[\"doc_crt_month\"] = X_test[\"document_create_date.1\"].dt.month\n",
    "X_valid[\"doc_crt_month\"] = X_valid[\"document_create_date.1\"].dt.month"
   ]
  },
  {
   "cell_type": "code",
   "execution_count": 86,
   "id": "clinical-shopper",
   "metadata": {},
   "outputs": [],
   "source": [
    "#Due Date\n",
    "X_train[\"due_day\"] = X_train[\"due_in_date\"].dt.day\n",
    "X_test[\"due_day\"] = X_test[\"due_in_date\"].dt.day\n",
    "X_valid[\"due_day\"] = X_valid[\"due_in_date\"].dt.day\n",
    "\n",
    "X_train[\"due_month\"] = X_train[\"due_in_date\"].dt.month\n",
    "X_test[\"due_month\"] = X_test[\"due_in_date\"].dt.month\n",
    "X_valid[\"due_month\"] = X_valid[\"due_in_date\"].dt.month"
   ]
  },
  {
   "cell_type": "code",
   "execution_count": 87,
   "id": "sunset-harmony",
   "metadata": {},
   "outputs": [],
   "source": [
    "X_train.drop(columns=['clear_date', 'document_create_date.1', 'due_in_date'], inplace=True)\n",
    "X_test.drop(columns=['clear_date', 'document_create_date.1', 'due_in_date'], inplace=True)\n",
    "X_valid.drop(columns=['clear_date', 'document_create_date.1', 'due_in_date'], inplace=True)\n",
    "X_train.drop('business_code',axis=1,inplace=True)\n",
    "X_test.drop('business_code',axis=1,inplace=True)\n",
    "X_valid.drop('business_code',axis=1,inplace=True)"
   ]
  },
  {
   "cell_type": "code",
   "execution_count": 88,
   "id": "super-mercy",
   "metadata": {},
   "outputs": [
    {
     "name": "stdout",
     "output_type": "stream",
     "text": [
      "<class 'pandas.core.frame.DataFrame'>\n",
      "Int64Index: 31249 entries, 7172 to 32906\n",
      "Data columns (total 8 columns):\n",
      " #   Column             Non-Null Count  Dtype  \n",
      "---  ------             --------------  -----  \n",
      " 0   total_open_amount  31249 non-null  float64\n",
      " 1   cust_num           31249 non-null  float64\n",
      " 2   buss_code          31249 non-null  int32  \n",
      " 3   cpt                31249 non-null  int32  \n",
      " 4   doc_crt_day        31249 non-null  int64  \n",
      " 5   doc_crt_month      31249 non-null  int64  \n",
      " 6   due_day            31249 non-null  int64  \n",
      " 7   due_month          31249 non-null  int64  \n",
      "dtypes: float64(2), int32(2), int64(4)\n",
      "memory usage: 2.9 MB\n"
     ]
    }
   ],
   "source": [
    "X_train.info()"
   ]
  },
  {
   "cell_type": "code",
   "execution_count": 89,
   "id": "electronic-pipeline",
   "metadata": {},
   "outputs": [
    {
     "name": "stdout",
     "output_type": "stream",
     "text": [
      "<class 'pandas.core.frame.DataFrame'>\n",
      "Int64Index: 3907 entries, 10924 to 36609\n",
      "Data columns (total 8 columns):\n",
      " #   Column             Non-Null Count  Dtype  \n",
      "---  ------             --------------  -----  \n",
      " 0   total_open_amount  3907 non-null   float64\n",
      " 1   cust_num           3907 non-null   float64\n",
      " 2   buss_code          3907 non-null   int32  \n",
      " 3   cpt                3907 non-null   int32  \n",
      " 4   doc_crt_day        3907 non-null   int64  \n",
      " 5   doc_crt_month      3907 non-null   int64  \n",
      " 6   due_day            3907 non-null   int64  \n",
      " 7   due_month          3907 non-null   int64  \n",
      "dtypes: float64(2), int32(2), int64(4)\n",
      "memory usage: 244.2 KB\n"
     ]
    }
   ],
   "source": [
    "X_test.info()"
   ]
  },
  {
   "cell_type": "code",
   "execution_count": 90,
   "id": "minor-senator",
   "metadata": {},
   "outputs": [
    {
     "name": "stdout",
     "output_type": "stream",
     "text": [
      "<class 'pandas.core.frame.DataFrame'>\n",
      "Int64Index: 3906 entries, 9388 to 10062\n",
      "Data columns (total 8 columns):\n",
      " #   Column             Non-Null Count  Dtype  \n",
      "---  ------             --------------  -----  \n",
      " 0   total_open_amount  3906 non-null   float64\n",
      " 1   cust_num           3906 non-null   float64\n",
      " 2   buss_code          3906 non-null   int32  \n",
      " 3   cpt                3906 non-null   int32  \n",
      " 4   doc_crt_day        3906 non-null   int64  \n",
      " 5   doc_crt_month      3906 non-null   int64  \n",
      " 6   due_day            3906 non-null   int64  \n",
      " 7   due_month          3906 non-null   int64  \n",
      "dtypes: float64(2), int32(2), int64(4)\n",
      "memory usage: 244.1 KB\n"
     ]
    }
   ],
   "source": [
    "X_valid.info()"
   ]
  },
  {
   "cell_type": "markdown",
   "id": "removable-stream",
   "metadata": {},
   "source": [
    "# **Feature Selection**"
   ]
  },
  {
   "cell_type": "code",
   "execution_count": 91,
   "id": "million-serum",
   "metadata": {},
   "outputs": [
    {
     "data": {
      "text/plain": [
       "<AxesSubplot:>"
      ]
     },
     "execution_count": 91,
     "metadata": {},
     "output_type": "execute_result"
    },
    {
     "data": {
      "image/png": "[encoded data removed]",
      "text/plain": [
       "<Figure size 864x720 with 2 Axes>"
      ]
     },
     "metadata": {
      "needs_background": "light"
     },
     "output_type": "display_data"
    }
   ],
   "source": [
    "plt.figure(figsize=(12,10))\n",
    "cor = X_train.merge(Y_train, on=X_train.index).corr()\n",
    "sns.heatmap(cor,cmap = 'viridis',annot=True)"
   ]
  },
  {
   "cell_type": "markdown",
   "id": "cooked-madness",
   "metadata": {},
   "source": [
    "As we can see from the above graph due_month and doc_create_month are highly correlated and thus they will have a negative impact on our model. So drop remove due_month."
   ]
  },
  {
   "cell_type": "code",
   "execution_count": 92,
   "id": "dynamic-river",
   "metadata": {},
   "outputs": [],
   "source": [
    "X_train = X_train.drop([\"due_month\"], axis=1).copy()\n",
    "X_valid = X_valid.drop([\"due_month\"], axis=1).copy()\n",
    "X_test = X_test.drop([\"due_month\"], axis=1).copy()"
   ]
  },
  {
   "cell_type": "code",
   "execution_count": 94,
   "id": "talented-tuition",
   "metadata": {},
   "outputs": [],
   "source": [
    "Y_train=Y_train.apply(lambda x: 0 if x<0 else x)\n",
    "Y_test=Y_test.apply(lambda x: 0 if x<0 else x)\n",
    "Y_valid=Y_valid.apply(lambda x: 0 if x<0 else x)"
   ]
  },
  {
   "cell_type": "markdown",
   "id": "engaging-drunk",
   "metadata": {},
   "source": [
    "# **Modelling**"
   ]
  },
  {
   "cell_type": "code",
   "execution_count": 95,
   "id": "governmental-category",
   "metadata": {},
   "outputs": [
    {
     "data": {
      "text/plain": [
       "LinearRegression()"
      ]
     },
     "execution_count": 95,
     "metadata": {},
     "output_type": "execute_result"
    }
   ],
   "source": [
    "base_model=LinearRegression()\n",
    "base_model.fit(X_train, Y_train)"
   ]
  },
  {
   "cell_type": "code",
   "execution_count": 96,
   "id": "auburn-louisiana",
   "metadata": {},
   "outputs": [],
   "source": [
    "predicted = base_model.predict(X_valid)\n",
    "predicted=predicted.astype(int)"
   ]
  },
  {
   "cell_type": "code",
   "execution_count": 97,
   "id": "local-playlist",
   "metadata": {},
   "outputs": [
    {
     "name": "stdout",
     "output_type": "stream",
     "text": [
      "Mean absolute error = 2.8\n",
      "Mean squared error = 74.81\n",
      "Median absolute error = 1.0\n",
      "Explain variance score = 0.27\n",
      "R2 score = 0.25\n",
      "Accuracy=  0.2544269365270183\n"
     ]
    }
   ],
   "source": [
    "print(\"Mean absolute error =\", round(sm.mean_absolute_error(Y_valid, predicted), 2)) \n",
    "print(\"Mean squared error =\", round(sm.mean_squared_error(Y_valid, predicted), 2)) \n",
    "print(\"Median absolute error =\", round(sm.median_absolute_error(Y_valid, predicted), 2)) \n",
    "print(\"Explain variance score =\", round(sm.explained_variance_score(Y_valid, predicted), 2)) \n",
    "print(\"R2 score =\", round(sm.r2_score(Y_valid, predicted), 2))\n",
    "print(\"Accuracy= \", base_model.score(X_valid,Y_valid))"
   ]
  },
  {
   "cell_type": "markdown",
   "id": "least-heating",
   "metadata": {},
   "source": [
    "# **Test**"
   ]
  },
  {
   "cell_type": "code",
   "execution_count": 98,
   "id": "loved-metadata",
   "metadata": {},
   "outputs": [],
   "source": [
    "predicted = base_model.predict(X_test)"
   ]
  },
  {
   "cell_type": "code",
   "execution_count": 99,
   "id": "bound-photography",
   "metadata": {},
   "outputs": [
    {
     "data": {
      "text/plain": [
       "array([ 0,  2, -1, ...,  1,  1, 21])"
      ]
     },
     "execution_count": 99,
     "metadata": {},
     "output_type": "execute_result"
    }
   ],
   "source": [
    "predicted = np.around(predicted)\n",
    "predicted.astype(int)"
   ]
  },
  {
   "cell_type": "markdown",
   "id": "excited-warning",
   "metadata": {},
   "source": [
    "### **Creating a new dataframe**"
   ]
  },
  {
   "cell_type": "code",
   "execution_count": 100,
   "id": "experimental-finnish",
   "metadata": {},
   "outputs": [
    {
     "data": {
      "text/html": [
       "<div>\n",
       "<style scoped>\n",
       "    .dataframe tbody tr th:only-of-type {\n",
       "        vertical-align: middle;\n",
       "    }\n",
       "\n",
       "    .dataframe tbody tr th {\n",
       "        vertical-align: top;\n",
       "    }\n",
       "\n",
       "    .dataframe thead th {\n",
       "        text-align: right;\n",
       "    }\n",
       "</style>\n",
       "<table border=\"1\" class=\"dataframe\">\n",
       "  <thead>\n",
       "    <tr style=\"text-align: right;\">\n",
       "      <th></th>\n",
       "      <th>Delay</th>\n",
       "    </tr>\n",
       "  </thead>\n",
       "  <tbody>\n",
       "    <tr>\n",
       "      <th>0</th>\n",
       "      <td>0 days</td>\n",
       "    </tr>\n",
       "    <tr>\n",
       "      <th>1</th>\n",
       "      <td>2 days</td>\n",
       "    </tr>\n",
       "    <tr>\n",
       "      <th>2</th>\n",
       "      <td>-1 days</td>\n",
       "    </tr>\n",
       "    <tr>\n",
       "      <th>3</th>\n",
       "      <td>3 days</td>\n",
       "    </tr>\n",
       "    <tr>\n",
       "      <th>4</th>\n",
       "      <td>0 days</td>\n",
       "    </tr>\n",
       "    <tr>\n",
       "      <th>...</th>\n",
       "      <td>...</td>\n",
       "    </tr>\n",
       "    <tr>\n",
       "      <th>3902</th>\n",
       "      <td>0 days</td>\n",
       "    </tr>\n",
       "    <tr>\n",
       "      <th>3903</th>\n",
       "      <td>5 days</td>\n",
       "    </tr>\n",
       "    <tr>\n",
       "      <th>3904</th>\n",
       "      <td>1 days</td>\n",
       "    </tr>\n",
       "    <tr>\n",
       "      <th>3905</th>\n",
       "      <td>1 days</td>\n",
       "    </tr>\n",
       "    <tr>\n",
       "      <th>3906</th>\n",
       "      <td>21 days</td>\n",
       "    </tr>\n",
       "  </tbody>\n",
       "</table>\n",
       "<p>3907 rows × 1 columns</p>\n",
       "</div>"
      ],
      "text/plain": [
       "       Delay\n",
       "0     0 days\n",
       "1     2 days\n",
       "2    -1 days\n",
       "3     3 days\n",
       "4     0 days\n",
       "...      ...\n",
       "3902  0 days\n",
       "3903  5 days\n",
       "3904  1 days\n",
       "3905  1 days\n",
       "3906 21 days\n",
       "\n",
       "[3907 rows x 1 columns]"
      ]
     },
     "execution_count": 100,
     "metadata": {},
     "output_type": "execute_result"
    }
   ],
   "source": [
    "Col=pd.DataFrame()\n",
    "Delay=[]\n",
    "for x in predicted:\n",
    "    Delay.append(pd.Timedelta(days=x))\n",
    "Col['Delay'] = Delay\n",
    "Col"
   ]
  },
  {
   "cell_type": "code",
   "execution_count": 103,
   "id": "anticipated-highland",
   "metadata": {},
   "outputs": [
    {
     "data": {
      "text/html": [
       "<div>\n",
       "<style scoped>\n",
       "    .dataframe tbody tr th:only-of-type {\n",
       "        vertical-align: middle;\n",
       "    }\n",
       "\n",
       "    .dataframe tbody tr th {\n",
       "        vertical-align: top;\n",
       "    }\n",
       "\n",
       "    .dataframe thead th {\n",
       "        text-align: right;\n",
       "    }\n",
       "</style>\n",
       "<table border=\"1\" class=\"dataframe\">\n",
       "  <thead>\n",
       "    <tr style=\"text-align: right;\">\n",
       "      <th></th>\n",
       "      <th>Delay</th>\n",
       "      <th>clear_date</th>\n",
       "    </tr>\n",
       "  </thead>\n",
       "  <tbody>\n",
       "    <tr>\n",
       "      <th>0</th>\n",
       "      <td>0 days</td>\n",
       "      <td>2020-03-28</td>\n",
       "    </tr>\n",
       "    <tr>\n",
       "      <th>1</th>\n",
       "      <td>2 days</td>\n",
       "      <td>2020-03-15</td>\n",
       "    </tr>\n",
       "    <tr>\n",
       "      <th>2</th>\n",
       "      <td>-1 days</td>\n",
       "      <td>2020-03-12</td>\n",
       "    </tr>\n",
       "    <tr>\n",
       "      <th>3</th>\n",
       "      <td>3 days</td>\n",
       "      <td>2020-03-16</td>\n",
       "    </tr>\n",
       "    <tr>\n",
       "      <th>4</th>\n",
       "      <td>0 days</td>\n",
       "      <td>2020-03-13</td>\n",
       "    </tr>\n",
       "    <tr>\n",
       "      <th>...</th>\n",
       "      <td>...</td>\n",
       "      <td>...</td>\n",
       "    </tr>\n",
       "    <tr>\n",
       "      <th>3902</th>\n",
       "      <td>0 days</td>\n",
       "      <td>2020-04-09</td>\n",
       "    </tr>\n",
       "    <tr>\n",
       "      <th>3903</th>\n",
       "      <td>5 days</td>\n",
       "      <td>2020-04-14</td>\n",
       "    </tr>\n",
       "    <tr>\n",
       "      <th>3904</th>\n",
       "      <td>1 days</td>\n",
       "      <td>2020-04-10</td>\n",
       "    </tr>\n",
       "    <tr>\n",
       "      <th>3905</th>\n",
       "      <td>1 days</td>\n",
       "      <td>2020-04-09</td>\n",
       "    </tr>\n",
       "    <tr>\n",
       "      <th>3906</th>\n",
       "      <td>21 days</td>\n",
       "      <td>2020-04-30</td>\n",
       "    </tr>\n",
       "  </tbody>\n",
       "</table>\n",
       "<p>3907 rows × 2 columns</p>\n",
       "</div>"
      ],
      "text/plain": [
       "       Delay clear_date\n",
       "0     0 days 2020-03-28\n",
       "1     2 days 2020-03-15\n",
       "2    -1 days 2020-03-12\n",
       "3     3 days 2020-03-16\n",
       "4     0 days 2020-03-13\n",
       "...      ...        ...\n",
       "3902  0 days 2020-04-09\n",
       "3903  5 days 2020-04-14\n",
       "3904  1 days 2020-04-10\n",
       "3905  1 days 2020-04-09\n",
       "3906 21 days 2020-04-30\n",
       "\n",
       "[3907 rows x 2 columns]"
      ]
     },
     "execution_count": 103,
     "metadata": {},
     "output_type": "execute_result"
    }
   ],
   "source": [
    "Col['clear_date'] = testData['due_in_date']+Col['Delay']\n",
    "Col"
   ]
  },
  {
   "cell_type": "markdown",
   "id": "sought-jenny",
   "metadata": {},
   "source": [
    "# **Creating the Aging Bucket**"
   ]
  },
  {
   "cell_type": "code",
   "execution_count": 105,
   "id": "million-thailand",
   "metadata": {},
   "outputs": [
    {
     "data": {
      "text/html": [
       "<div>\n",
       "<style scoped>\n",
       "    .dataframe tbody tr th:only-of-type {\n",
       "        vertical-align: middle;\n",
       "    }\n",
       "\n",
       "    .dataframe tbody tr th {\n",
       "        vertical-align: top;\n",
       "    }\n",
       "\n",
       "    .dataframe thead th {\n",
       "        text-align: right;\n",
       "    }\n",
       "</style>\n",
       "<table border=\"1\" class=\"dataframe\">\n",
       "  <thead>\n",
       "    <tr style=\"text-align: right;\">\n",
       "      <th></th>\n",
       "      <th>clear_date</th>\n",
       "      <th>Aging Bucket</th>\n",
       "    </tr>\n",
       "  </thead>\n",
       "  <tbody>\n",
       "    <tr>\n",
       "      <th>0</th>\n",
       "      <td>2020-03-28</td>\n",
       "      <td>0-15days</td>\n",
       "    </tr>\n",
       "    <tr>\n",
       "      <th>1</th>\n",
       "      <td>2020-03-15</td>\n",
       "      <td>0-15days</td>\n",
       "    </tr>\n",
       "    <tr>\n",
       "      <th>2</th>\n",
       "      <td>2020-03-12</td>\n",
       "      <td>0-15days</td>\n",
       "    </tr>\n",
       "    <tr>\n",
       "      <th>3</th>\n",
       "      <td>2020-03-16</td>\n",
       "      <td>0-15days</td>\n",
       "    </tr>\n",
       "    <tr>\n",
       "      <th>4</th>\n",
       "      <td>2020-03-13</td>\n",
       "      <td>0-15days</td>\n",
       "    </tr>\n",
       "    <tr>\n",
       "      <th>...</th>\n",
       "      <td>...</td>\n",
       "      <td>...</td>\n",
       "    </tr>\n",
       "    <tr>\n",
       "      <th>3902</th>\n",
       "      <td>2020-04-09</td>\n",
       "      <td>0-15days</td>\n",
       "    </tr>\n",
       "    <tr>\n",
       "      <th>3903</th>\n",
       "      <td>2020-04-14</td>\n",
       "      <td>0-15days</td>\n",
       "    </tr>\n",
       "    <tr>\n",
       "      <th>3904</th>\n",
       "      <td>2020-04-10</td>\n",
       "      <td>0-15days</td>\n",
       "    </tr>\n",
       "    <tr>\n",
       "      <th>3905</th>\n",
       "      <td>2020-04-09</td>\n",
       "      <td>0-15days</td>\n",
       "    </tr>\n",
       "    <tr>\n",
       "      <th>3906</th>\n",
       "      <td>2020-04-30</td>\n",
       "      <td>16-30days</td>\n",
       "    </tr>\n",
       "  </tbody>\n",
       "</table>\n",
       "<p>3907 rows × 2 columns</p>\n",
       "</div>"
      ],
      "text/plain": [
       "     clear_date Aging Bucket\n",
       "0    2020-03-28     0-15days\n",
       "1    2020-03-15     0-15days\n",
       "2    2020-03-12     0-15days\n",
       "3    2020-03-16     0-15days\n",
       "4    2020-03-13     0-15days\n",
       "...         ...          ...\n",
       "3902 2020-04-09     0-15days\n",
       "3903 2020-04-14     0-15days\n",
       "3904 2020-04-10     0-15days\n",
       "3905 2020-04-09     0-15days\n",
       "3906 2020-04-30    16-30days\n",
       "\n",
       "[3907 rows x 2 columns]"
      ]
     },
     "execution_count": 105,
     "metadata": {},
     "output_type": "execute_result"
    }
   ],
   "source": [
    "aging_bucket = []\n",
    "for x in predicted:\n",
    "    if x<=15:\n",
    "        aging_bucket.append(\"0-15days\")\n",
    "    elif x<=30:\n",
    "        aging_bucket.append(\"16-30days\")\n",
    "    elif x<=45:\n",
    "        aging_bucket.append(\"31-45days\")\n",
    "    elif x<=60:\n",
    "        aging_bucket.append(\"46-60days\")\n",
    "    else:\n",
    "        aging_bucket.append(\"Greater than 60 days\")\n",
    "Col['Aging Bucket']= aging_bucket\n",
    "Col.drop(['Delay'],axis=1,inplace=True)\n",
    "Col"
   ]
  },
  {
   "cell_type": "code",
   "execution_count": null,
   "id": "compact-bryan",
   "metadata": {},
   "outputs": [],
   "source": []
  }
 ],
 "metadata": {
  "kernelspec": {
   "display_name": "Python 3",
   "language": "python",
   "name": "python3"
  },
  "language_info": {
   "codemirror_mode": {
    "name": "ipython",
    "version": 3
   },
   "file_extension": ".py",
   "mimetype": "text/x-python",
   "name": "python",
   "nbconvert_exporter": "python",
   "pygments_lexer": "ipython3",
   "version": "3.9.2"
  }
 },
 "nbformat": 4,
 "nbformat_minor": 5
}
